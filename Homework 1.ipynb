{
 "cells": [
  {
   "cell_type": "markdown",
   "metadata": {},
   "source": [
    "Answer all questions and submit them either as an IPython notebook, LaTeX document, or Markdown document. Each question is worth 25 points.\n",
    "\n",
    "This homework is due Friday, September 22, 2017."
   ]
  },
  {
   "cell_type": "code",
   "execution_count": 1,
   "metadata": {
    "collapsed": true
   },
   "outputs": [],
   "source": [
    "%matplotlib inline\n",
    "import matplotlib.pyplot as plt\n",
    "import pandas as pd\n",
    "import numpy as np"
   ]
  },
  {
   "cell_type": "markdown",
   "metadata": {},
   "source": [
    "## Question 1\n",
    "\n",
    "The data below provides counts of a flour beetle (Tribolium confusum) population at various points in time:"
   ]
  },
  {
   "cell_type": "code",
   "execution_count": 10,
   "metadata": {
    "collapsed": false
   },
   "outputs": [
    {
     "data": {
      "text/plain": [
       "[<matplotlib.lines.Line2D at 0x1100f4240>]"
      ]
     },
     "execution_count": 10,
     "metadata": {},
     "output_type": "execute_result"
    },
    {
     "data": {
      "image/png": "[encoded data removed]",
      "text/plain": [
       "<matplotlib.figure.Figure at 0x110020a58>"
      ]
     },
     "metadata": {},
     "output_type": "display_data"
    }
   ],
   "source": [
    "days = 0,8,28,41,63,79,97,117,135,154\n",
    "beetles = 2,47,192,256,768,896,1120,896,1184,1024\n",
    "\n",
    "plt.plot(days, beetles)"
   ]
  },
  {
   "cell_type": "markdown",
   "metadata": {},
   "source": [
    "An elementary model for population growth is the logistic model:\n",
    "\n",
    "$$\\frac{dN}{dt} = rN\\left(1 - \\frac{N}{K}\\right)$$\n",
    "\n",
    "where $N$ is population size, $t$ is time, $r$ is a growth rate parameter, and $K$ is a parameter that represents the population carrying capacity of the environment. The solution to this differential equation is given by: \n",
    "\n",
    "$$N_t = f(t) = \\frac{KN_0}{N_0 + (K - N_0)\\exp(-rt)}$$\n",
    "\n",
    "where $N_t$ denotes the population size at time $t$. \n",
    "\n",
    "1. Fit the logistic growth model to the flour beetle data using optimization to minimize the sum of squared errors between model predictions and observed counts.\n",
    "\n",
    "2. In many population modeling applications, an assumption of lognormality is adopted. The simplest assumption would be that the $\\log(N_t)$ are independent and normally distributed with mean $\\log[f(t)]$ and variance $\\sigma^2$. Find the MLEs under this assumption, and provide estimates of standard errors and correlation between them."
   ]
  },
  {
   "cell_type": "code",
   "execution_count": 35,
   "metadata": {
    "collapsed": false
   },
   "outputs": [],
   "source": [
    "#function to calculate the logistic growth model at each time point t with parameters K and r and N_0 = beetles[0]\n",
    "def logistic_model(K, r, t, N_0=beetles[0]):\n",
    "    return ((K*N_0)/(N_0+(K-N_0)*np.exp(-r*t)))\n",
    "\n",
    "#objective function is sum of squared errors between model prediction (from above) and observed count\n",
    "def obj_func(KRarray, d=days, b= beetles):\n",
    "    K,r = KRarray[0], KRarray[1]\n",
    "    sq_err =[]\n",
    "    for i in range(len(d)):\n",
    "        sq_err.append((logistic_model(K,r, d[i], b[0])-b[i])**2)\n",
    "    sse = sum(sq_err)\n",
    "    return (sse)"
   ]
  },
  {
   "cell_type": "code",
   "execution_count": 27,
   "metadata": {
    "collapsed": false
   },
   "outputs": [],
   "source": [
    "#using Nelder-Mead algorithm to minimize the objective function \n",
    "from scipy import optimize\n",
    "\n",
    "def nelder_mead(f, x0):\n",
    "    output = []\n",
    "    \n",
    "    def store(X):\n",
    "        output.append([X[0], X[1], f(X)])\n",
    "        \n",
    "    optimize.fmin(f, x0, callback=store, ftol=1e-12)\n",
    "    \n",
    "    return np.array(output)"
   ]
  },
  {
   "cell_type": "code",
   "execution_count": 179,
   "metadata": {
    "collapsed": false,
    "scrolled": false
   },
   "outputs": [
    {
     "name": "stdout",
     "output_type": "stream",
     "text": [
      "Optimization terminated successfully.\n",
      "         Current function value: 83240.486583\n",
      "         Iterations: 117\n",
      "         Function evaluations: 228\n"
     ]
    }
   ],
   "source": [
    "K_0 = 1000\n",
    "r_0 = 2\n",
    "KRarray=np.array([K_0, r_0])\n",
    "nm_output = nelder_mead(obj_func, KRarray)"
   ]
  },
  {
   "cell_type": "markdown",
   "metadata": {},
   "source": [
    "Using the last values for K and r (1033.5153172 0.117958558313, found by printing them in the logistic_model function and taking the last values in the list) we can plot the logistic model over the data to see how well it fits."
   ]
  },
  {
   "cell_type": "code",
   "execution_count": 181,
   "metadata": {
    "collapsed": false
   },
   "outputs": [
    {
     "data": {
      "text/plain": [
       "[<matplotlib.lines.Line2D at 0x117348c50>]"
      ]
     },
     "execution_count": 181,
     "metadata": {},
     "output_type": "execute_result"
    },
    {
     "data": {
      "image/png": "[encoded data removed]",
      "text/plain": [
       "<matplotlib.figure.Figure at 0x117348c18>"
      ]
     },
     "metadata": {},
     "output_type": "display_data"
    }
   ],
   "source": [
    "c=[]\n",
    "for i in range(160):\n",
    "    c.append(logistic_model(1033.5153172, 0.117958558313, i, beetles[0]))\n",
    "plt.plot(range(160), c)\n",
    "plt.plot(days, beetles)"
   ]
  },
  {
   "cell_type": "markdown",
   "metadata": {},
   "source": [
    "### Answer 1.2\n",
    "\n",
    "In this question, the model we are trying to fit is the log of the logistic model. I followed the below equations to come up with the log-likelihood function to optimize. We are assuming the data was generated from a normal distribution, and we want to find the mean (based on K and r from the logistic function, since mu = log(N(t))), and the standard deviation. The probability of the data is given by the normal pdf. When evaluating the log of the normal, this product of normal pdfs turns into a sum of mormal pdfs, which makes up the objective function. We want to find the MLEs for the three paramters so that this fits our data. "
   ]
  },
  {
   "cell_type": "markdown",
   "metadata": {},
   "source": [
    "![alt text](imagename.png \"Lognormality\")"
   ]
  },
  {
   "cell_type": "code",
   "execution_count": 64,
   "metadata": {
    "collapsed": true
   },
   "outputs": [],
   "source": [
    "def log_likelihood(Krs_array, d = days, b = beetles):\n",
    "    K,r, s = Krs_array[0], Krs_array[1], Krs_array[2]\n",
    "    sums=0\n",
    "    for i in range(len(b)):\n",
    "        #alpha = mean of the normal = log(N)\n",
    "        alpha = np.log(logistic_model(K, r, d[i], N_0=beetles[0]))\n",
    "        sums = sums + (float(b[i])-alpha)**2\n",
    "    return len(b)*np.log(1/(np.sqrt(2*np.pi)))-len(b)*np.log(abs(s))-(1/(2*s**2))*sums"
   ]
  },
  {
   "cell_type": "code",
   "execution_count": 71,
   "metadata": {
    "collapsed": false
   },
   "outputs": [],
   "source": [
    "from scipy import optimize\n",
    "\n",
    "def nelder_mead(f, x0):\n",
    "    output = []\n",
    "    \n",
    "    def store(X):\n",
    "        output.append([X[0], X[1], X[2], f(X)])\n",
    "        \n",
    "    optimize.fmin(f, x0, callback=store, ftol=1e-12)\n",
    "    \n",
    "    return np.array(output)"
   ]
  },
  {
   "cell_type": "code",
   "execution_count": 72,
   "metadata": {
    "collapsed": false
   },
   "outputs": [
    {
     "name": "stdout",
     "output_type": "stream",
     "text": [
      "Warning: Maximum number of function evaluations has been exceeded.\n"
     ]
    }
   ],
   "source": [
    "K_0 = 1033\n",
    "r_0 = .11\n",
    "sigma = .3\n",
    "Krs_array=np.array([K_0, r_0, sigma])\n",
    "nm_output = nelder_mead(log_likelihood, Krs_array)"
   ]
  },
  {
   "cell_type": "code",
   "execution_count": 73,
   "metadata": {
    "collapsed": false
   },
   "outputs": [
    {
     "data": {
      "text/plain": [
       "array([[  1.08465000e+03,   1.15500000e-01,   2.70000000e-01,\n",
       "         -4.05981628e+07],\n",
       "       [  1.08465000e+03,   1.15500000e-01,   2.70000000e-01,\n",
       "         -4.05981628e+07],\n",
       "       [  1.06743333e+03,   1.11833333e-01,   2.50000000e-01,\n",
       "         -4.73571046e+07],\n",
       "       ..., \n",
       "       [  1.24708665e+03,   1.41786776e-01,   5.00329261e-32,\n",
       "         -1.18172561e+69],\n",
       "       [  1.24708665e+03,   1.41786776e-01,   3.68245173e-32,\n",
       "         -2.18149552e+69],\n",
       "       [  1.24708665e+03,   1.41786776e-01,  -3.30731943e-32,\n",
       "         -2.70443263e+69]])"
      ]
     },
     "execution_count": 73,
     "metadata": {},
     "output_type": "execute_result"
    }
   ],
   "source": [
    "nm_output"
   ]
  },
  {
   "cell_type": "markdown",
   "metadata": {},
   "source": [
    "## Question 2\n",
    "\n",
    "1. Implement simulated annealing for minimizing the AIC for the baseball salary regression problem. Model your algorithm on the example given in class. \n",
    "\n",
    "    1. Compare the effects of different cooling schedules (different temperatures and different durations at each temperature).  \n",
    "    2. Compare the effect of a proposal distribution that is discrete uniform over 2-neighborhoods versus one that is discrete uniform over 3-neighborhoods.\n",
    "\n",
    "2. Implement a genetic algorithm for minimizing the AIC for the baseball salary regression problem. Model your algorithm on Example 3.5. \n",
    "\n",
    "    1. Compare the effects of using different mutation rates.  \n",
    "    2. Compare the effects of using different generation sizes.  \n",
    "    3. Instead of the selection mechanism used in the class example, try using independent selection of both parents with probabilities proportional to their fitness.\n",
    "\n"
   ]
  },
  {
   "cell_type": "code",
   "execution_count": 4,
   "metadata": {
    "collapsed": false
   },
   "outputs": [],
   "source": [
    "baseball = pd.read_table('../Bios8366/data/baseball.dat', sep='\\s+')"
   ]
  },
  {
   "cell_type": "markdown",
   "metadata": {},
   "source": [
    "### Part 1 Answer\n",
    "\n",
    "Everything below is from class. It shows a simulated annealing method for minimizing the AIC for the baseball salary regression problem. It starts with a cooling schedule in which tau_start (10) is the temperature for 60 iterations, and then half the temp for twice as long, and then again. This is the schedule we used in class."
   ]
  },
  {
   "cell_type": "code",
   "execution_count": 5,
   "metadata": {
    "collapsed": false
   },
   "outputs": [],
   "source": [
    "#Simulated annealing to minimize the AIC\n",
    "predictors = baseball.copy()\n",
    "logsalary = predictors.pop('salary').apply(np.log)\n",
    "nrows, ncols = predictors.shape\n",
    "\n",
    "#Start from 5 different positions and run each 15 iterations\n",
    "nstarts = 5\n",
    "iterations = 15\n",
    "\n",
    "#AIC Metric\n",
    "aic = lambda g, X, y: len(y) * np.log(sum((g.predict(X) - y)**2)/len(y)) + 2*g.rank_"
   ]
  },
  {
   "cell_type": "code",
   "execution_count": 47,
   "metadata": {
    "collapsed": true
   },
   "outputs": [],
   "source": [
    "from sklearn.linear_model import LinearRegression\n",
    "tau_start = 10\n",
    "num_flips=1\n",
    "#amount of time for first annealing temperature\n",
    "len1 = 60\n",
    "len2 = 120\n",
    "len3 = 240"
   ]
  },
  {
   "cell_type": "code",
   "execution_count": 54,
   "metadata": {
    "collapsed": false
   },
   "outputs": [],
   "source": [
    "def simulated_annealing(tau_start, len1, len2, len3, num_flips):\n",
    "    aic_values = []\n",
    "    #initialize the solution to randomly include or not include variables in the regression model\n",
    "    solution_current = solution_best = np.random.binomial(1, 0.5, ncols).astype(bool)\n",
    "    solution_vars = predictors[predictors.columns[solution_current]]\n",
    "    #instantiate a linear regression object and fitting it\n",
    "    g = LinearRegression().fit(X=solution_vars, y=logsalary)\n",
    "    aic_best = aic(g, solution_vars, logsalary)\n",
    "    aic_values.append(aic_best)\n",
    "    cooling_schedule = [tau_start]*len1 + [tau_start/2]*len2 + [tau_start/10]*len3\n",
    "    for tau in cooling_schedule:\n",
    "\n",
    "        # Random change 1-neighborhood\n",
    "        for i in range(num_flips):\n",
    "            flip = np.random.randint(0, ncols)\n",
    "            #just change what variables are included and which are excluded\n",
    "            solution_current[flip] = not solution_current[flip]\n",
    "        solution_vars = predictors[predictors.columns[solution_current]]\n",
    "        g = LinearRegression().fit(X=solution_vars, y=logsalary)\n",
    "        aic_step = aic(g, solution_vars, logsalary)\n",
    "        #probability of accepting a new solution\n",
    "        alpha = min(1, np.exp((aic_values[-1] - aic_step)/tau))\n",
    "\n",
    "        #if it's better or if you probabilistically choose the new solution:\n",
    "        if ((aic_step < aic_values[-1]) or (np.random.uniform() < alpha)):\n",
    "            # Accept proposed solution\n",
    "            aic_values.append(aic_step)\n",
    "            if aic_step < aic_best:\n",
    "                # Replace previous best with this one\n",
    "                aic_best = aic_step\n",
    "                solution_best = solution_current.copy()\n",
    "        else:\n",
    "            # Revert solution\n",
    "            solution_current[flip] = not solution_current[flip]\n",
    "            aic_values.append(aic_values[-1])\n",
    "    return(aic_values, aic_best, solution_best)"
   ]
  },
  {
   "cell_type": "code",
   "execution_count": 55,
   "metadata": {
    "collapsed": false
   },
   "outputs": [
    {
     "name": "stdout",
     "output_type": "stream",
     "text": [
      "Best AIC: -418.27169950506504\n",
      "Best solution: (array([ 2,  5,  7,  9, 12, 13, 19, 20, 21, 24]),)\n",
      "Discovered at iteration 305\n"
     ]
    },
    {
     "data": {
      "text/plain": [
       "[<matplotlib.lines.Line2D at 0x11d66a5c0>]"
      ]
     },
     "execution_count": 55,
     "metadata": {},
     "output_type": "execute_result"
    },
    {
     "data": {
      "image/png": "[encoded data removed]",
      "text/plain": [
       "<matplotlib.figure.Figure at 0x11d66a2b0>"
      ]
     },
     "metadata": {},
     "output_type": "display_data"
    }
   ],
   "source": [
    "aic_values,aic_best,solution_best=simulated_annealing(tau_start, len1, len2, len3, num_flips)\n",
    "plt.plot(aic_values)\n",
    "plt.xlim(0, len(aic_values))\n",
    "plt.xlabel('Iteration')\n",
    "plt.ylabel('AIC')\n",
    "print('Best AIC: {0}\\nBest solution: {1}\\nDiscovered at iteration {2}'.format(aic_best, \n",
    "            np.where(solution_best==True),\n",
    "            np.where(aic_values==aic_best)[0][0]))\n",
    "plt.plot(np.where(aic_values==aic_best)[0][0], aic_best, 'ro')"
   ]
  },
  {
   "cell_type": "markdown",
   "metadata": {},
   "source": [
    "### Answer to Question 2.1A\n",
    "Compare the effects of different cooling schedules (different temperatures and different durations at each temperature)."
   ]
  },
  {
   "cell_type": "markdown",
   "metadata": {},
   "source": [
    "First we can compare the effect of different starting temperatures."
   ]
  },
  {
   "cell_type": "code",
   "execution_count": 56,
   "metadata": {
    "collapsed": false,
    "scrolled": true
   },
   "outputs": [
    {
     "name": "stdout",
     "output_type": "stream",
     "text": [
      "5\n",
      "10\n",
      "15\n",
      "20\n",
      "25\n"
     ]
    },
    {
     "data": {
      "image/png": "[encoded data removed]",
      "text/plain": [
       "<matplotlib.figure.Figure at 0x11d66af98>"
      ]
     },
     "metadata": {},
     "output_type": "display_data"
    }
   ],
   "source": [
    "tau_list=np.arange(5,30, 5)\n",
    "comparisons = pd.DataFrame(columns=[\"Tau_Start\",\"Best_AIC\", \"Iteration\"])\n",
    "for t in tau_list:\n",
    "    print(t)\n",
    "    aic_values,aic_best,solution_best=simulated_annealing(t, len1, len2, len3, num_flips)\n",
    "    plt.plot(aic_values, label = t)\n",
    "    df1 = pd.DataFrame([[t, aic_best, np.where(aic_values==aic_best)[0][0]]],columns=[\"Tau_Start\", \"Best_AIC\", \"Iteration\"])\n",
    "    comparisons=comparisons.append(df1)\n",
    "plt.legend()\n",
    "plt.show()"
   ]
  },
  {
   "cell_type": "code",
   "execution_count": 57,
   "metadata": {
    "collapsed": false
   },
   "outputs": [
    {
     "data": {
      "text/html": [
       "<div>\n",
       "<table border=\"1\" class=\"dataframe\">\n",
       "  <thead>\n",
       "    <tr style=\"text-align: right;\">\n",
       "      <th></th>\n",
       "      <th>Tau_Start</th>\n",
       "      <th>Best_AIC</th>\n",
       "      <th>Iteration</th>\n",
       "    </tr>\n",
       "  </thead>\n",
       "  <tbody>\n",
       "    <tr>\n",
       "      <th>0</th>\n",
       "      <td>5.0</td>\n",
       "      <td>-420.947211</td>\n",
       "      <td>369.0</td>\n",
       "    </tr>\n",
       "    <tr>\n",
       "      <th>0</th>\n",
       "      <td>10.0</td>\n",
       "      <td>-420.947211</td>\n",
       "      <td>260.0</td>\n",
       "    </tr>\n",
       "    <tr>\n",
       "      <th>0</th>\n",
       "      <td>15.0</td>\n",
       "      <td>-418.265145</td>\n",
       "      <td>418.0</td>\n",
       "    </tr>\n",
       "    <tr>\n",
       "      <th>0</th>\n",
       "      <td>20.0</td>\n",
       "      <td>-417.548904</td>\n",
       "      <td>277.0</td>\n",
       "    </tr>\n",
       "    <tr>\n",
       "      <th>0</th>\n",
       "      <td>25.0</td>\n",
       "      <td>-416.385881</td>\n",
       "      <td>389.0</td>\n",
       "    </tr>\n",
       "  </tbody>\n",
       "</table>\n",
       "</div>"
      ],
      "text/plain": [
       "   Tau_Start    Best_AIC  Iteration\n",
       "0        5.0 -420.947211      369.0\n",
       "0       10.0 -420.947211      260.0\n",
       "0       15.0 -418.265145      418.0\n",
       "0       20.0 -417.548904      277.0\n",
       "0       25.0 -416.385881      389.0"
      ]
     },
     "execution_count": 57,
     "metadata": {},
     "output_type": "execute_result"
    }
   ],
   "source": [
    "comparisons\n"
   ]
  },
  {
   "cell_type": "markdown",
   "metadata": {},
   "source": [
    "There doesn't seem to be a pattern of annealing time (iteration of best AIC) or the best AIC value depending on the starting temperature. However, the lower initial temperature means that the AIC value doesn't jump around as much and starts at a lower value.\n",
    "\n",
    "Next, we can try different lengths of time for each temperature. In class, the cooling schedule had lengths: len1 = 60, len2 = 120, len3 = 240. Here, we can try two more schedules: one that has a longer len1 (at high temp) and shorter len3 (at low temp), and one that has the same lengths at each temperature.\n"
   ]
  },
  {
   "cell_type": "code",
   "execution_count": 73,
   "metadata": {
    "collapsed": false
   },
   "outputs": [
    {
     "data": {
      "image/png": "[encoded data removed]",
      "text/plain": [
       "<matplotlib.figure.Figure at 0x11d5680b8>"
      ]
     },
     "metadata": {},
     "output_type": "display_data"
    }
   ],
   "source": [
    "t=20\n",
    "len1 = 60\n",
    "len2 = 120\n",
    "len3 = 240\n",
    "comparisons = pd.DataFrame(columns=[\"Lengths\",\"Best_AIC\", \"Iteration\"])\n",
    "aic_values,aic_best,solution_best=simulated_annealing(t, len1, len2, len3, num_flips)\n",
    "plt.plot(aic_values, label = str([len1, len2, len3]))\n",
    "df1 = pd.DataFrame([[str([len1, len2, len3]), aic_best, np.where(aic_values==aic_best)[0][0]]],columns=[\"Lengths\", \"Best_AIC\", \"Iteration\"])\n",
    "comparisons=comparisons.append(df1)\n",
    "len1= len2= len3 = 120\n",
    "aic_values,aic_best,solution_best=simulated_annealing(t, len1, len2, len3, num_flips)\n",
    "plt.plot(aic_values, label = str([len1, len2, len3]))\n",
    "df1 = pd.DataFrame([[str([len1, len2, len3]), aic_best, np.where(aic_values==aic_best)[0][0]]],columns=[\"Lengths\", \"Best_AIC\", \"Iteration\"])\n",
    "comparisons=comparisons.append(df1)\n",
    "len1 = 240\n",
    "len2 = 120\n",
    "len3= 60\n",
    "aic_values,aic_best,solution_best=simulated_annealing(t, len1, len2, len3, num_flips)\n",
    "plt.plot(aic_values, label = str([len1, len2, len3]))\n",
    "df1 = pd.DataFrame([[str([len1, len2, len3]), aic_best, np.where(aic_values==aic_best)[0][0]]],columns=[\"Lengths\", \"Best_AIC\", \"Iteration\"])\n",
    "comparisons=comparisons.append(df1)\n",
    "plt.legend()\n",
    "plt.show()"
   ]
  },
  {
   "cell_type": "code",
   "execution_count": 71,
   "metadata": {
    "collapsed": false
   },
   "outputs": [
    {
     "data": {
      "text/html": [
       "<div>\n",
       "<table border=\"1\" class=\"dataframe\">\n",
       "  <thead>\n",
       "    <tr style=\"text-align: right;\">\n",
       "      <th></th>\n",
       "      <th>Lengths</th>\n",
       "      <th>Best_AIC</th>\n",
       "      <th>Iteration</th>\n",
       "    </tr>\n",
       "  </thead>\n",
       "  <tbody>\n",
       "    <tr>\n",
       "      <th>0</th>\n",
       "      <td>[60, 120, 240]</td>\n",
       "      <td>-415.286955</td>\n",
       "      <td>357.0</td>\n",
       "    </tr>\n",
       "    <tr>\n",
       "      <th>0</th>\n",
       "      <td>[120, 120, 120]</td>\n",
       "      <td>-414.076847</td>\n",
       "      <td>286.0</td>\n",
       "    </tr>\n",
       "    <tr>\n",
       "      <th>0</th>\n",
       "      <td>[240, 120, 60]</td>\n",
       "      <td>-415.900924</td>\n",
       "      <td>410.0</td>\n",
       "    </tr>\n",
       "  </tbody>\n",
       "</table>\n",
       "</div>"
      ],
      "text/plain": [
       "           Lengths    Best_AIC  Iteration\n",
       "0   [60, 120, 240] -415.286955      357.0\n",
       "0  [120, 120, 120] -414.076847      286.0\n",
       "0   [240, 120, 60] -415.900924      410.0"
      ]
     },
     "execution_count": 71,
     "metadata": {},
     "output_type": "execute_result"
    }
   ],
   "source": [
    "comparisons"
   ]
  },
  {
   "cell_type": "markdown",
   "metadata": {},
   "source": [
    "### Answer to Question 2.1B\n",
    "Compare the effect of a proposal distribution that is discrete uniform over 2-neighborhoods versus one that is discrete uniform over 3-neighborhoods."
   ]
  },
  {
   "cell_type": "code",
   "execution_count": 76,
   "metadata": {
    "collapsed": false
   },
   "outputs": [
    {
     "name": "stdout",
     "output_type": "stream",
     "text": [
      "Best AIC: -409.6648825620759\n",
      "Best solution: (array([ 2,  3,  4,  6,  7,  8,  9, 12, 13, 15, 16, 17, 18, 19, 20, 21, 26]),)\n",
      "Discovered at iteration 150\n"
     ]
    },
    {
     "data": {
      "text/plain": [
       "[<matplotlib.lines.Line2D at 0x11db0ba58>]"
      ]
     },
     "execution_count": 76,
     "metadata": {},
     "output_type": "execute_result"
    },
    {
     "data": {
      "image/png": "[encoded data removed]",
      "text/plain": [
       "<matplotlib.figure.Figure at 0x11da5add8>"
      ]
     },
     "metadata": {},
     "output_type": "display_data"
    }
   ],
   "source": [
    "tau_start = 10\n",
    "len1 = 60\n",
    "len2 = 120\n",
    "len3 = 240\n",
    "aic_values,aic_best,solution_best=simulated_annealing(tau_start, len1, len2, len3, 2)\n",
    "\n",
    "plt.plot(aic_values)        \n",
    "plt.xlim(0, len(aic_values))\n",
    "plt.xlabel('Iteration')\n",
    "plt.ylabel('AIC')\n",
    "print('Best AIC: {0}\\nBest solution: {1}\\nDiscovered at iteration {2}'.format(aic_best, \n",
    "            np.where(solution_best==True),\n",
    "            np.where(aic_values==aic_best)[0][0]))\n",
    "plt.plot(np.where(aic_values==aic_best)[0][0], aic_best, 'ro')"
   ]
  },
  {
   "cell_type": "code",
   "execution_count": 79,
   "metadata": {
    "collapsed": false
   },
   "outputs": [
    {
     "name": "stdout",
     "output_type": "stream",
     "text": [
      "Best AIC: -412.4215046434421\n",
      "Best solution: (array([ 1,  2,  5,  7,  8, 12, 13, 14, 15, 16, 17, 21, 23, 24, 25]),)\n",
      "Discovered at iteration 303\n"
     ]
    },
    {
     "data": {
      "text/plain": [
       "[<matplotlib.lines.Line2D at 0x11dab6c50>]"
      ]
     },
     "execution_count": 79,
     "metadata": {},
     "output_type": "execute_result"
    },
    {
     "data": {
      "image/png": "[encoded data removed]",
      "text/plain": [
       "<matplotlib.figure.Figure at 0x11d56a400>"
      ]
     },
     "metadata": {},
     "output_type": "display_data"
    }
   ],
   "source": [
    "tau_start = 10\n",
    "len1 = 60\n",
    "len2 = 120\n",
    "len3 = 240\n",
    "aic_values,aic_best,solution_best=simulated_annealing(tau_start, len1, len2, len3, 3)\n",
    "\n",
    "plt.plot(aic_values)        \n",
    "plt.xlim(0, len(aic_values))\n",
    "plt.xlabel('Iteration')\n",
    "plt.ylabel('AIC')\n",
    "print('Best AIC: {0}\\nBest solution: {1}\\nDiscovered at iteration {2}'.format(aic_best, \n",
    "            np.where(solution_best==True),\n",
    "            np.where(aic_values==aic_best)[0][0]))\n",
    "plt.plot(np.where(aic_values==aic_best)[0][0], aic_best, 'ro')"
   ]
  },
  {
   "cell_type": "markdown",
   "metadata": {},
   "source": [
    "### Part 2 Answer\n",
    "GA modeled off of example 3.5"
   ]
  },
  {
   "cell_type": "code",
   "execution_count": 80,
   "metadata": {
    "collapsed": true
   },
   "outputs": [],
   "source": [
    "pop_size = 20\n",
    "iterations = 100\n",
    "#probability of mutation at each iteration\n",
    "mutation_rate = .02"
   ]
  },
  {
   "cell_type": "code",
   "execution_count": 24,
   "metadata": {
    "collapsed": true
   },
   "outputs": [],
   "source": [
    "def calculate_fitness(aic_values):\n",
    "    P = len(aic_values)\n",
    "    #weight negative sorted AIC values\n",
    "    aic_rank = (-aic_values).argsort().argsort()+1.\n",
    "    return 2.*aic_rank/(P*(P+1.))"
   ]
  },
  {
   "cell_type": "code",
   "execution_count": 82,
   "metadata": {
    "collapsed": false
   },
   "outputs": [],
   "source": [
    "def GA(pop_size, iterations, mutation_rate):\n",
    "    current_gen = np.random.binomial(1, 0.5, pop_size*ncols).reshape((pop_size, ncols))\n",
    "    aic_best = []\n",
    "    best_solution = []\n",
    "    aic_history = []\n",
    "\n",
    "    for i in range(iterations):\n",
    "\n",
    "        # Get phenotype\n",
    "        current_phe = [predictors[predictors.columns[g.astype(bool)]] for g in current_gen]\n",
    "        # Calculate AIC\n",
    "        current_aic = np.array([aic(LinearRegression().fit(X=x, y=logsalary), x, logsalary) for x in current_phe])\n",
    "        # Get lowest AIC\n",
    "        aic_best.append(current_aic[np.argmin(current_aic)])\n",
    "        best_solution.append(current_gen[np.argmin(current_aic)])\n",
    "\n",
    "        # Calculate fitness according to AIC rank\n",
    "        fitness = calculate_fitness(current_aic)\n",
    "\n",
    "        # Choose first parents according to fitness (p = passes in a weight for selection)\n",
    "        moms = np.random.choice(range(pop_size), size=int(pop_size/2), p=fitness)\n",
    "        # Choose second parents randomly (to introduce more randomness and changes the rate of exploitation vs. exploration)\n",
    "        dads = np.random.choice(range(pop_size), size=int(pop_size/2))\n",
    "\n",
    "        next_gen = []\n",
    "        for x,y in zip(current_gen[moms], current_gen[dads]):\n",
    "            # Crossover\n",
    "            cross = np.random.randint(0, ncols)\n",
    "            child1 = np.r_[x[:cross], y[cross:]]\n",
    "            child2 = np.r_[y[:cross], x[cross:]]\n",
    "            # Mutate\n",
    "            m1 = np.random.binomial(1, mutation_rate, size=ncols).astype(bool)\n",
    "            child1[m1] = abs(child1[m1]-1)\n",
    "            m2 = np.random.binomial(1, mutation_rate, size=ncols)\n",
    "            child2[m2] = abs(child1[m2]-1)\n",
    "            next_gen += [child1, child2]\n",
    "\n",
    "        # Increment generation\n",
    "        current_gen = np.array(next_gen)\n",
    "        # Store AIC values\n",
    "        aic_history.append(current_aic)\n",
    "    return (aic_best, best_solution, aic_history)"
   ]
  },
  {
   "cell_type": "code",
   "execution_count": 83,
   "metadata": {
    "collapsed": false
   },
   "outputs": [
    {
     "data": {
      "text/plain": [
       "[<matplotlib.lines.Line2D at 0x11e15ae80>]"
      ]
     },
     "execution_count": 83,
     "metadata": {},
     "output_type": "execute_result"
    },
    {
     "data": {
      "image/png": "[encoded data removed]",
      "text/plain": [
       "<matplotlib.figure.Figure at 0x11cab9400>"
      ]
     },
     "metadata": {},
     "output_type": "display_data"
    }
   ],
   "source": [
    "aic_best, best_solution, aic_history = GA(pop_size, iterations, mutation_rate)\n",
    "plt.plot(aic_best)"
   ]
  },
  {
   "cell_type": "markdown",
   "metadata": {},
   "source": [
    "### Answer to Question 2.2A\n",
    "Compare the effects of using different mutation rates."
   ]
  },
  {
   "cell_type": "code",
   "execution_count": 84,
   "metadata": {
    "collapsed": false,
    "scrolled": true
   },
   "outputs": [
    {
     "data": {
      "image/png": "[encoded data removed]",
      "text/plain": [
       "<matplotlib.figure.Figure at 0x11e16d128>"
      ]
     },
     "metadata": {},
     "output_type": "display_data"
    }
   ],
   "source": [
    "mutation_rate = np.arange(0.02, .10, 0.02)\n",
    "for m in mutation_rate:\n",
    "    aic_best, best_solution, aic_history = GA(pop_size, iterations, m)\n",
    "    plt.plot(aic_best, label = str(m))\n",
    "plt.legend()\n",
    "plt.show()"
   ]
  },
  {
   "cell_type": "markdown",
   "metadata": {},
   "source": [
    "Increasing the mutation rate adds in a lot more noise and keeps the AIC values from effectively reaching a minimum."
   ]
  },
  {
   "cell_type": "markdown",
   "metadata": {},
   "source": [
    "### Answer to Question 2.2B\n",
    "Compare the effects of using different generation sizes."
   ]
  },
  {
   "cell_type": "code",
   "execution_count": 85,
   "metadata": {
    "collapsed": false
   },
   "outputs": [
    {
     "data": {
      "image/png": "[encoded data removed]",
      "text/plain": [
       "<matplotlib.figure.Figure at 0x11e152cc0>"
      ]
     },
     "metadata": {},
     "output_type": "display_data"
    }
   ],
   "source": [
    "pop_size = np.arange(8,24,4)\n",
    "mutation_rate=.02\n",
    "for p in pop_size:\n",
    "    aic_best, best_solution, aic_history = GA(p, iterations, mutation_rate)\n",
    "    plt.plot(aic_best, label = str(p))\n",
    "plt.legend()\n",
    "plt.show()"
   ]
  },
  {
   "cell_type": "markdown",
   "metadata": {},
   "source": [
    "Increasing the generation size makes the algorithm reach a lower AIC faster, and less sporadically. "
   ]
  },
  {
   "cell_type": "markdown",
   "metadata": {},
   "source": [
    "### Answer to Question 2.2C\n",
    "Instead of the selection mechanism used in the class example, try using independent selection of both parents with probabilities proportional to their fitness."
   ]
  },
  {
   "cell_type": "code",
   "execution_count": 86,
   "metadata": {
    "collapsed": true
   },
   "outputs": [],
   "source": [
    "def GA_both_parents(pop_size, iterations, mutation_rate):\n",
    "    current_gen = np.random.binomial(1, 0.5, pop_size*ncols).reshape((pop_size, ncols))\n",
    "    aic_best = []\n",
    "    best_solution = []\n",
    "    aic_history = []\n",
    "\n",
    "    for i in range(iterations):\n",
    "\n",
    "        # Get phenotype\n",
    "        current_phe = [predictors[predictors.columns[g.astype(bool)]] for g in current_gen]\n",
    "        # Calculate AIC\n",
    "        current_aic = np.array([aic(LinearRegression().fit(X=x, y=logsalary), x, logsalary) for x in current_phe])\n",
    "        # Get lowest AIC\n",
    "        aic_best.append(current_aic[np.argmin(current_aic)])\n",
    "        best_solution.append(current_gen[np.argmin(current_aic)])\n",
    "\n",
    "        # Calculate fitness according to AIC rank\n",
    "        fitness = calculate_fitness(current_aic)\n",
    "\n",
    "        # Choose both parents according to fitness (p = passes in a weight for selection)\n",
    "        moms = np.random.choice(range(pop_size), size=int(pop_size/2), p=fitness)\n",
    "        dads = np.random.choice(range(pop_size), size=int(pop_size/2), p=fitness)\n",
    "\n",
    "        next_gen = []\n",
    "        for x,y in zip(current_gen[moms], current_gen[dads]):\n",
    "            # Crossover\n",
    "            cross = np.random.randint(0, ncols)\n",
    "            child1 = np.r_[x[:cross], y[cross:]]\n",
    "            child2 = np.r_[y[:cross], x[cross:]]\n",
    "            # Mutate\n",
    "            m1 = np.random.binomial(1, mutation_rate, size=ncols).astype(bool)\n",
    "            child1[m1] = abs(child1[m1]-1)\n",
    "            m2 = np.random.binomial(1, mutation_rate, size=ncols)\n",
    "            child2[m2] = abs(child1[m2]-1)\n",
    "            next_gen += [child1, child2]\n",
    "\n",
    "        # Increment generation\n",
    "        current_gen = np.array(next_gen)\n",
    "        # Store AIC values\n",
    "        aic_history.append(current_aic)\n",
    "    return (aic_best, best_solution, aic_history)"
   ]
  },
  {
   "cell_type": "code",
   "execution_count": 90,
   "metadata": {
    "collapsed": false
   },
   "outputs": [
    {
     "data": {
      "text/plain": [
       "[<matplotlib.lines.Line2D at 0x11ebdd198>]"
      ]
     },
     "execution_count": 90,
     "metadata": {},
     "output_type": "execute_result"
    },
    {
     "data": {
      "image/png": "[encoded data removed]",
      "text/plain": [
       "<matplotlib.figure.Figure at 0x11e99b898>"
      ]
     },
     "metadata": {},
     "output_type": "display_data"
    }
   ],
   "source": [
    "pop_size = 20\n",
    "iterations = 100\n",
    "#probability of mutation at each iteration\n",
    "mutation_rate = .02\n",
    "aic_best, best_solution, aic_history = GA_both_parents(pop_size, iterations, mutation_rate)\n",
    "plt.plot(aic_best)"
   ]
  },
  {
   "cell_type": "markdown",
   "metadata": {},
   "source": [
    "With the two parents being chosen based on fitness, the \"best\" AIC should be approached faster-- however, it is more likely to be a local minimum rather than global. Having one parent chosen randomly allows for more freedom to jump out of a local minimum and explore regions that may not be as fit, but may be in the neighbrhood of the tru global minimum."
   ]
  },
  {
   "cell_type": "markdown",
   "metadata": {},
   "source": [
    "## Question 3\n",
    "\n",
    "Use the combinatorial optimization method of your choice to obtain a solution to the traveling salesman problem for the Brazilian cities described in the lecture notes, using minimum total distance as the criterion. Use the the first city listed in the dataset as \"home\" (*i.e.* the trip must start and end there). I will award 5 bonus points to the best solution!"
   ]
  },
  {
   "cell_type": "code",
   "execution_count": 2,
   "metadata": {
    "collapsed": false
   },
   "outputs": [],
   "source": [
    "def parse_latlon(x):\n",
    "    d, m, s = map(float, x.split(':'))\n",
    "    ms = m/60. + s/3600.\n",
    "    if d<0:\n",
    "        return d - ms\n",
    "    return d + ms\n",
    "\n",
    "cities =  pd.read_csv('data/brasil_capitals.txt', \n",
    "                      names=['city','lat','lon'])[['lat','lon']].applymap(parse_latlon)"
   ]
  },
  {
   "cell_type": "code",
   "execution_count": 3,
   "metadata": {
    "collapsed": false
   },
   "outputs": [
    {
     "data": {
      "text/html": [
       "<div>\n",
       "<table border=\"1\" class=\"dataframe\">\n",
       "  <thead>\n",
       "    <tr style=\"text-align: right;\">\n",
       "      <th></th>\n",
       "      <th>lat</th>\n",
       "      <th>lon</th>\n",
       "    </tr>\n",
       "  </thead>\n",
       "  <tbody>\n",
       "    <tr>\n",
       "      <th>0</th>\n",
       "      <td>60.673333</td>\n",
       "      <td>2.819722</td>\n",
       "    </tr>\n",
       "    <tr>\n",
       "      <th>1</th>\n",
       "      <td>51.066389</td>\n",
       "      <td>0.038889</td>\n",
       "    </tr>\n",
       "    <tr>\n",
       "      <th>2</th>\n",
       "      <td>48.504444</td>\n",
       "      <td>-1.455833</td>\n",
       "    </tr>\n",
       "    <tr>\n",
       "      <th>3</th>\n",
       "      <td>44.302778</td>\n",
       "      <td>-2.529722</td>\n",
       "    </tr>\n",
       "    <tr>\n",
       "      <th>4</th>\n",
       "      <td>60.025000</td>\n",
       "      <td>-3.101944</td>\n",
       "    </tr>\n",
       "    <tr>\n",
       "      <th>5</th>\n",
       "      <td>38.543056</td>\n",
       "      <td>-3.717222</td>\n",
       "    </tr>\n",
       "    <tr>\n",
       "      <th>6</th>\n",
       "      <td>42.801944</td>\n",
       "      <td>-5.089167</td>\n",
       "    </tr>\n",
       "    <tr>\n",
       "      <th>7</th>\n",
       "      <td>35.209444</td>\n",
       "      <td>-5.795000</td>\n",
       "    </tr>\n",
       "    <tr>\n",
       "      <th>8</th>\n",
       "      <td>34.863056</td>\n",
       "      <td>-7.115000</td>\n",
       "    </tr>\n",
       "    <tr>\n",
       "      <th>9</th>\n",
       "      <td>34.881111</td>\n",
       "      <td>-8.053889</td>\n",
       "    </tr>\n",
       "    <tr>\n",
       "      <th>10</th>\n",
       "      <td>63.903889</td>\n",
       "      <td>-8.761944</td>\n",
       "    </tr>\n",
       "    <tr>\n",
       "      <th>11</th>\n",
       "      <td>35.735278</td>\n",
       "      <td>-9.665833</td>\n",
       "    </tr>\n",
       "    <tr>\n",
       "      <th>12</th>\n",
       "      <td>67.810000</td>\n",
       "      <td>-9.974722</td>\n",
       "    </tr>\n",
       "    <tr>\n",
       "      <th>13</th>\n",
       "      <td>48.360278</td>\n",
       "      <td>-10.212778</td>\n",
       "    </tr>\n",
       "    <tr>\n",
       "      <th>14</th>\n",
       "      <td>38.510833</td>\n",
       "      <td>-12.971111</td>\n",
       "    </tr>\n",
       "    <tr>\n",
       "      <th>15</th>\n",
       "      <td>56.096667</td>\n",
       "      <td>-15.596111</td>\n",
       "    </tr>\n",
       "    <tr>\n",
       "      <th>16</th>\n",
       "      <td>47.929722</td>\n",
       "      <td>-15.779722</td>\n",
       "    </tr>\n",
       "    <tr>\n",
       "      <th>17</th>\n",
       "      <td>49.253889</td>\n",
       "      <td>-16.678611</td>\n",
       "    </tr>\n",
       "    <tr>\n",
       "      <th>18</th>\n",
       "      <td>43.937778</td>\n",
       "      <td>-19.920833</td>\n",
       "    </tr>\n",
       "    <tr>\n",
       "      <th>19</th>\n",
       "      <td>40.337778</td>\n",
       "      <td>-20.319444</td>\n",
       "    </tr>\n",
       "    <tr>\n",
       "      <th>20</th>\n",
       "      <td>54.646389</td>\n",
       "      <td>-20.442778</td>\n",
       "    </tr>\n",
       "    <tr>\n",
       "      <th>21</th>\n",
       "      <td>43.207500</td>\n",
       "      <td>-22.902778</td>\n",
       "    </tr>\n",
       "    <tr>\n",
       "      <th>22</th>\n",
       "      <td>46.636111</td>\n",
       "      <td>-23.547500</td>\n",
       "    </tr>\n",
       "    <tr>\n",
       "      <th>23</th>\n",
       "      <td>49.273056</td>\n",
       "      <td>-25.427778</td>\n",
       "    </tr>\n",
       "    <tr>\n",
       "      <th>24</th>\n",
       "      <td>48.549167</td>\n",
       "      <td>-27.596667</td>\n",
       "    </tr>\n",
       "    <tr>\n",
       "      <th>25</th>\n",
       "      <td>51.230000</td>\n",
       "      <td>-30.033056</td>\n",
       "    </tr>\n",
       "  </tbody>\n",
       "</table>\n",
       "</div>"
      ],
      "text/plain": [
       "          lat        lon\n",
       "0   60.673333   2.819722\n",
       "1   51.066389   0.038889\n",
       "2   48.504444  -1.455833\n",
       "3   44.302778  -2.529722\n",
       "4   60.025000  -3.101944\n",
       "5   38.543056  -3.717222\n",
       "6   42.801944  -5.089167\n",
       "7   35.209444  -5.795000\n",
       "8   34.863056  -7.115000\n",
       "9   34.881111  -8.053889\n",
       "10  63.903889  -8.761944\n",
       "11  35.735278  -9.665833\n",
       "12  67.810000  -9.974722\n",
       "13  48.360278 -10.212778\n",
       "14  38.510833 -12.971111\n",
       "15  56.096667 -15.596111\n",
       "16  47.929722 -15.779722\n",
       "17  49.253889 -16.678611\n",
       "18  43.937778 -19.920833\n",
       "19  40.337778 -20.319444\n",
       "20  54.646389 -20.442778\n",
       "21  43.207500 -22.902778\n",
       "22  46.636111 -23.547500\n",
       "23  49.273056 -25.427778\n",
       "24  48.549167 -27.596667\n",
       "25  51.230000 -30.033056"
      ]
     },
     "execution_count": 3,
     "metadata": {},
     "output_type": "execute_result"
    }
   ],
   "source": [
    "cities\n"
   ]
  },
  {
   "cell_type": "code",
   "execution_count": 4,
   "metadata": {
    "collapsed": false
   },
   "outputs": [],
   "source": [
    "#criterion = minimal total distance\n",
    "#sqrt(abs(lat1-lat2)^2+abs(lon1-lon2)^2) minimized\n",
    "#each state = order of 25 places --> list of ordinals for each place ordered_list=[1,2,3,4...,25] is one option for ordering the places\n",
    "#each state must start and end with 0, so we can remove this from the state space\n",
    "#for example, in ordered_list, city with index 1 is second (after 0)... if o_l = [3,...], the second city is 3\n",
    "#criteria for each state = sum of distances between ordered_list[i] and ordered_list[i+1]\n",
    "distance = lambda lat1, lat2, lon1, lon2: np.sqrt((abs(lat1-lat2))**2+(abs(lon1-lon2))**2)\n",
    "def calculate_distances(phenotype, cities):\n",
    "#find distance from 0 to first in phenotype and last in phenotype to 0 and add to sum variable\n",
    "#return as distance\n",
    "#cities.iloc[0].lat = gives latitude for first city in cities\n",
    "    sum_dist = distance(cities.iloc[0].lat, cities.iloc[phenotype[0, 0]].lat, cities.iloc[0].lon, cities.iloc[phenotype[0,0]].lon)\n",
    "    sum_dist = sum_dist + distance(cities.iloc[0].lat, cities.iloc[phenotype[0, phenotype.shape[1]-1]].lat, cities.iloc[0].lon, cities.iloc[phenotype[0, phenotype.shape[1]-1]].lon)\n",
    "    #loop over i from phenotype[0] to phenotype[last-1] and add distance between i and i+1 to sum\n",
    "    for i in range(phenotype.shape[1]-1):\n",
    "        #print(i, cities.iloc[phenotype[0, i]].lat, cities.iloc[phenotype[0, i+1]].lat, cities.iloc[phenotype[0, i]].lon, cities.iloc[phenotype[0, i+1]].lon)\n",
    "        sum_dist = sum_dist+distance(cities.iloc[phenotype[0, i]].lat, cities.iloc[phenotype[0, i+1]].lat, cities.iloc[phenotype[0, i]].lon, cities.iloc[phenotype[0, i+1]].lon)\n",
    "    return sum_dist\n",
    "#highest fitness = highest number e.g. 20. lowest fitness = lowest number e.g 1.\n",
    "def calculate_fitness(distances_list):\n",
    "    P = len(distances_list)\n",
    "    dist_rank = (-distances_list).argsort().argsort()+1.\n",
    "    return 2.*dist_rank/(P*(P+1.))\n",
    "    "
   ]
  },
  {
   "cell_type": "code",
   "execution_count": 5,
   "metadata": {
    "collapsed": true
   },
   "outputs": [],
   "source": [
    "pop_size = 20\n",
    "iterations = 300\n",
    "mutation_rate = .02"
   ]
  },
  {
   "cell_type": "code",
   "execution_count": 6,
   "metadata": {
    "collapsed": false
   },
   "outputs": [
    {
     "name": "stdout",
     "output_type": "stream",
     "text": [
      "379.984859957\n",
      "392.331635814\n",
      "415.980051138\n",
      "411.060129929\n",
      "449.165451906\n",
      "434.536388689\n",
      "460.019725164\n",
      "460.114389185\n",
      "472.840562479\n",
      "386.573886385\n",
      "410.689543175\n",
      "386.268060667\n",
      "407.412819389\n",
      "391.782467536\n",
      "430.879237438\n",
      "408.439981312\n",
      "337.176965165\n",
      "356.716328404\n",
      "427.412897411\n",
      "449.799776627\n",
      "[[10 20 23 25  9 16 13 21  7  2 24 15  3 17 22  1 18 19  5 12  6  8 11 14\n",
      "   4]\n",
      " [22  4  6  3  7 25 19 24 21 14 12 20 16 18 15  2  9 11  5 17 13  1 10 23\n",
      "   8]\n",
      " [ 8 23 25 16 21  7 11  1 10 17 12 19  6  2  5 15 24 22  4 13  9 20 18  3\n",
      "  14]\n",
      " [21 17 10 19 14 12  7  6  9 24  5 25 23  1  2 20 18 22  8 13  3 11 16 15\n",
      "   4]\n",
      " [22 25 23  7 20  6 17  8  4  1 13 24 11 21 18  2  9 19 12  3 16 10  5 14\n",
      "  15]\n",
      " [11  7  9 14  4 20  2 17 21 13  6 24  3 25  8 16 15  1 18  5 12 10 19 23\n",
      "  22]\n",
      " [19 13 23  5  6 17 21 16 22 20 11  4  1 18  3  9  8 12 25 10  7 15 24  2\n",
      "  14]\n",
      " [21 17  3 25 24 10 20  9  2 16 11  6 19  7 22  5 15 12  8 23  1  4 13 18\n",
      "  14]\n",
      " [ 7 24  3 10  9 21 25 19  4 14 11 12  6 23 16  2  5  8 15 18  1 22 20 13\n",
      "  17]\n",
      " [20 22 23 13 12 25 21  9  3  1 18  8  5  6  7 24 19  4  2 11 15 16 17 10\n",
      "  14]\n",
      " [ 4  5 21 17  9 13 16 11 19  8 20  2  1  7 23 12 22 15  6  3 10 18 14 25\n",
      "  24]\n",
      " [13  2 14  4  6 22 21 25 10 12 11  8  5 18 17 16 15  1  9 23 24  3 19 20\n",
      "   7]\n",
      " [13  6 17  9  2  1 10 14  4 16 21 15 22 23 11 19  3  7  5 18 12 20  8 25\n",
      "  24]\n",
      " [ 6  5  1 16 10 12 24 15 14 13  7 22 21 20 11  9 23  4 17  2  8  3 18 19\n",
      "  25]\n",
      " [21  3 13  4 24  1 18 12 17 15 10 19 23  9  5  2 22  8 14 20 25 16  6  7\n",
      "  11]\n",
      " [25 20  9 14  1  3 16 12 19 21 10  4 23  8 11 18  5 15  7  6 13  2 17 24\n",
      "  22]\n",
      " [ 1 10  5 19 23 16 24 21 20  8  4  2  3 11 22 25  9 14 13  6  7 18 17 15\n",
      "  12]\n",
      " [ 3  7  1 25 17 19  9  2 21 22 16  8 10 12 20 23  5  6 18 24 13 14 11 15\n",
      "   4]\n",
      " [25  3 21  2  4 10 11 19  6 13 16 15 20  1 14  5  7 24 12 23 18 22  8 17\n",
      "   9]\n",
      " [23  4 24 22  3 14 21 13 19  5  2 17  6 10  1 11  9 20 12  7 25 16 18  8\n",
      "  15]]\n"
     ]
    }
   ],
   "source": [
    "dist_best = []\n",
    "best_solution = []\n",
    "dist_history = []\n",
    "nrows, ncols = cities.shape\n",
    "current_gen = (np.arange(nrows-1)+1)\n",
    "np.random.shuffle(current_gen)\n",
    "current_gen=np.array([current_gen])\n",
    "for i in range(pop_size-1):\n",
    "    phen = (np.arange(nrows-1)+1)\n",
    "    np.random.shuffle(phen)\n",
    "    phen=np.array([phen])\n",
    "    current_gen=np.append(current_gen,phen,axis=0)\n",
    "for j in range(current_gen.shape[0]):\n",
    "    c=calculate_distances(np.array([current_gen[j]]), cities)\n",
    "    print(c)\n",
    "print(current_gen)"
   ]
  },
  {
   "cell_type": "code",
   "execution_count": 7,
   "metadata": {
    "collapsed": false
   },
   "outputs": [],
   "source": [
    "for i in range(iterations):\n",
    "    c=[]\n",
    "    for j in range(current_gen.shape[0]):\n",
    "        c.append(calculate_distances(np.array([current_gen[j]]), cities))\n",
    "    # Get lowest AIC\n",
    "    dist_best.append(min(c))\n",
    "    best_solution.append(current_gen[c.index(min(c))])\n",
    "    # Calculate fitness according to AIC rank\n",
    "    fitness = calculate_fitness(np.array(c))\n",
    "    # Choose first parents according to fitness (p = passes in a weight for selection)\n",
    "    moms = np.random.choice(range(pop_size), size=int(pop_size/2), p=fitness)\n",
    "    # Choose second parents randomly (to introduce more randomness and changes the rate of exploitation vs. exploration)\n",
    "    dads = np.random.choice(range(pop_size), size=int(pop_size/2))\n",
    "    \n",
    "    next_gen = []\n",
    "    for x,y in zip(current_gen[moms], current_gen[dads]):\n",
    "        # Crossover\n",
    "        cross = np.random.randint(0, ncols)\n",
    "        #child1: for child 1, the first half of the mom becomes the beginning. The second half of dad becomes the end.\n",
    "        #For each x in the first half, find x already in dad (the second half) and swap\n",
    "        child1 = x\n",
    "        child2 = y\n",
    "        child1_old_save = child1\n",
    "        for q in range(cross):\n",
    "            #child1 = np.r_[x[:cross], y[cross:]]\n",
    "            swap = child1[q] #save the mom variable as swap\n",
    "            save = child2[q] #the one to be replaced\n",
    "            ind = list(child1).index(y[q]) #this is where the swap variable moves to\n",
    "            child1[ind] = swap \n",
    "            child1[q] = save \n",
    "        for r in range(cross):\n",
    "            #child1 = np.r_[x[:cross], y[cross:]]\n",
    "            swap = child2[r] #save the mom variable as swap\n",
    "            save = child1_old_save[r] #the one to be replaced\n",
    "            ind = list(child2).index(y[r]) #this is where the swap variable moves to\n",
    "            child2[ind] = swap \n",
    "            child2[r] = save \n",
    "        # Mutate: flip two cities within the child\n",
    "        if np.random.binomial(1, mutation_rate):\n",
    "            swap_1=np.random.choice(len(child1))\n",
    "            swap_2=np.random.choice(len(child1))\n",
    "            x = child1[swap_1]\n",
    "            y = child1[swap_2]\n",
    "            child1[swap_1]=y\n",
    "            child1[swap_2]=x\n",
    "        if np.random.binomial(1, mutation_rate):\n",
    "            swap_1=np.random.choice(len(child2))\n",
    "            swap_2=np.random.choice(len(child2))\n",
    "            x = child2[swap_1]\n",
    "            y = child2[swap_2]\n",
    "            child2[swap_1]=y\n",
    "            child2[swap_2]=x\n",
    "        next_gen += [child1, child2]\n",
    "        \n",
    "    # Increment generation\n",
    "    current_gen = np.array(next_gen)\n",
    "    # Store AIC values\n",
    "    dist_history.append(c)"
   ]
  },
  {
   "cell_type": "code",
   "execution_count": 8,
   "metadata": {
    "collapsed": false
   },
   "outputs": [
    {
     "data": {
      "text/plain": [
       "[<matplotlib.lines.Line2D at 0x10ff7e3c8>]"
      ]
     },
     "execution_count": 8,
     "metadata": {},
     "output_type": "execute_result"
    },
    {
     "data": {
      "image/png": "[encoded data removed]",
      "text/plain": [
       "<matplotlib.figure.Figure at 0x10fc0aac8>"
      ]
     },
     "metadata": {},
     "output_type": "display_data"
    }
   ],
   "source": [
    "plt.plot(dist_best)"
   ]
  },
  {
   "cell_type": "code",
   "execution_count": 9,
   "metadata": {
    "collapsed": false
   },
   "outputs": [
    {
     "data": {
      "text/plain": [
       "275.69530480230287"
      ]
     },
     "execution_count": 9,
     "metadata": {},
     "output_type": "execute_result"
    }
   ],
   "source": [
    "min(dist_best)"
   ]
  },
  {
   "cell_type": "markdown",
   "metadata": {},
   "source": [
    "## Question 4\n",
    "\n",
    "The `../data/ebola` folder contains summarized reports of Ebola cases from three countries during the recent outbreak of the disease in West Africa. For each country, there are daily reports that contain various information about the outbreak in several cities in each country.\n",
    "\n",
    "From these data files, use `pandas` to import them and create a single data frame that includes the daily totals of new cases and deaths for each country."
   ]
  },
  {
   "cell_type": "code",
   "execution_count": 3,
   "metadata": {
    "collapsed": false
   },
   "outputs": [
    {
     "name": "stdout",
     "output_type": "stream",
     "text": [
      "\u001b[31mLICENSE\u001b[m\u001b[m      \u001b[34mguinea_data\u001b[m\u001b[m  \u001b[34mliberia_data\u001b[m\u001b[m \u001b[34msl_data\u001b[m\u001b[m\r\n"
     ]
    }
   ],
   "source": [
    "# Write your answer here\n",
    "!ls data/ebola"
   ]
  },
  {
   "cell_type": "code",
   "execution_count": 4,
   "metadata": {
    "collapsed": false
   },
   "outputs": [
    {
     "name": "stdout",
     "output_type": "stream",
     "text": [
      "\u001b[31m2014-08-04.csv\u001b[m\u001b[m \u001b[31m2014-09-02.csv\u001b[m\u001b[m \u001b[31m2014-09-11.csv\u001b[m\u001b[m \u001b[31m2014-09-21.csv\u001b[m\u001b[m \u001b[31m2014-09-30.csv\u001b[m\u001b[m\r\n",
      "\u001b[31m2014-08-26.csv\u001b[m\u001b[m \u001b[31m2014-09-04.csv\u001b[m\u001b[m \u001b[31m2014-09-14.csv\u001b[m\u001b[m \u001b[31m2014-09-22.csv\u001b[m\u001b[m \u001b[31m2014-10-01.csv\u001b[m\u001b[m\r\n",
      "\u001b[31m2014-08-27.csv\u001b[m\u001b[m \u001b[31m2014-09-07.csv\u001b[m\u001b[m \u001b[31m2014-09-16.csv\u001b[m\u001b[m \u001b[31m2014-09-23.csv\u001b[m\u001b[m\r\n",
      "\u001b[31m2014-08-30.csv\u001b[m\u001b[m \u001b[31m2014-09-08.csv\u001b[m\u001b[m \u001b[31m2014-09-17.csv\u001b[m\u001b[m \u001b[31m2014-09-24.csv\u001b[m\u001b[m\r\n",
      "\u001b[31m2014-08-31.csv\u001b[m\u001b[m \u001b[31m2014-09-09.csv\u001b[m\u001b[m \u001b[31m2014-09-19.csv\u001b[m\u001b[m \u001b[31m2014-09-26.csv\u001b[m\u001b[m\r\n"
     ]
    }
   ],
   "source": [
    "!ls data/ebola/guinea_data"
   ]
  },
  {
   "cell_type": "code",
   "execution_count": 314,
   "metadata": {
    "collapsed": false
   },
   "outputs": [],
   "source": [
    "#use pandas to import them \n",
    "import os\n",
    "guinea_data = pd.DataFrame()\n",
    "path = \"data/ebola/guinea_data\"\n",
    "for filename in os.listdir(\"data/ebola/guinea_data\"):\n",
    "    df=pd.read_csv(os.path.join(path, filename))\n",
    "    guinea_data = guinea_data.append(df)\n",
    "liberia_data = pd.DataFrame()\n",
    "path = \"data/ebola/liberia_data/\"\n",
    "for filename in os.listdir(\"data/ebola/liberia_data/\"):\n",
    "    df=pd.read_csv(os.path.join(path, filename))\n",
    "    liberia_data = liberia_data.append(df)\n",
    "sl_data=pd.DataFrame()\n",
    "path = \"data/ebola/sl_data/\"\n",
    "for filename in os.listdir(\"data/ebola/sl_data/\"):\n",
    "    df=pd.read_csv(os.path.join(path, filename))\n",
    "    sl_data = sl_data.append(df)"
   ]
  },
  {
   "cell_type": "code",
   "execution_count": 315,
   "metadata": {
    "collapsed": false
   },
   "outputs": [
    {
     "data": {
      "text/plain": [
       "(         date       variable National\n",
       " 0  2014-08-12     population  6348350\n",
       " 1  2014-08-12    new_noncase        4\n",
       " 2  2014-08-12  new_suspected       10\n",
       " 3  2014-08-12   new_probable        1\n",
       " 4  2014-08-12  new_confirmed       11,\n",
       "          Date                        Description Totals\n",
       " 0  2014-08-04              New cases of suspects      5\n",
       " 1  2014-08-04             New cases of probables      0\n",
       " 2  2014-08-04             New cases of confirmed      4\n",
       " 3  2014-08-04  Total new cases registered so far      9\n",
       " 4  2014-08-04            Total cases of suspects     11,\n",
       "         Date                          Variable  National\n",
       " 0  6/16/2014               Specimens collected       1.0\n",
       " 1  6/16/2014     Specimens pending for testing       0.0\n",
       " 2  6/16/2014            Total specimens tested      28.0\n",
       " 3  6/16/2014             Newly reported deaths       2.0\n",
       " 4  6/16/2014  Total death/s in confirmed cases       8.0)"
      ]
     },
     "execution_count": 315,
     "metadata": {},
     "output_type": "execute_result"
    }
   ],
   "source": [
    "#create a single data frame that includes the daily totals of new cases and daily totals of deaths for each country.\n",
    "guinea_data = guinea_data.loc[:, ['Date', 'Description','Totals']]\n",
    "liberia_data = liberia_data.loc[:, [\"Date\", \"Variable\", \"National\"]]\n",
    "sl_data=sl_data.loc[:,['date', \"variable\", 'National']]\n",
    "(sl_data.head(), guinea_data.head(), liberia_data.head())"
   ]
  },
  {
   "cell_type": "code",
   "execution_count": 316,
   "metadata": {
    "collapsed": false
   },
   "outputs": [],
   "source": [
    "#parse the dates so that they are alli nthe same format\n",
    "from dateutil.parser import parse\n",
    "from datetime import datetime\n",
    "#liberia_data.Date.apply(lambda d: datetime.strptime(d, '%m/%d/%y')) \n",
    "liberia_data.Date = pd.to_datetime(liberia_data.Date)\n",
    "sl_data.date = pd.to_datetime(sl_data.date)\n",
    "guinea_data.Date = pd.to_datetime(guinea_data.Date)"
   ]
  },
  {
   "cell_type": "code",
   "execution_count": 317,
   "metadata": {
    "collapsed": false
   },
   "outputs": [
    {
     "data": {
      "text/plain": [
       "(        date       variable National\n",
       " 0 2014-08-12     population  6348350\n",
       " 1 2014-08-12    new_noncase        4\n",
       " 2 2014-08-12  new_suspected       10\n",
       " 3 2014-08-12   new_probable        1\n",
       " 4 2014-08-12  new_confirmed       11,\n",
       "         Date                        Description Totals\n",
       " 0 2014-08-04              New cases of suspects      5\n",
       " 1 2014-08-04             New cases of probables      0\n",
       " 2 2014-08-04             New cases of confirmed      4\n",
       " 3 2014-08-04  Total new cases registered so far      9\n",
       " 4 2014-08-04            Total cases of suspects     11,\n",
       "         Date                          Variable  National\n",
       " 0 2014-06-16               Specimens collected       1.0\n",
       " 1 2014-06-16     Specimens pending for testing       0.0\n",
       " 2 2014-06-16            Total specimens tested      28.0\n",
       " 3 2014-06-16             Newly reported deaths       2.0\n",
       " 4 2014-06-16  Total death/s in confirmed cases       8.0)"
      ]
     },
     "execution_count": 317,
     "metadata": {},
     "output_type": "execute_result"
    }
   ],
   "source": [
    "(sl_data.head(), guinea_data.head(), liberia_data.head())"
   ]
  },
  {
   "cell_type": "markdown",
   "metadata": {},
   "source": [
    "### SL Data\n",
    "Because of the column names in the SL data, we need to manually add the \"new_suspected\", \"new_probable\", and \"new_confirmed\" cases to get a column of new cases for each date. "
   ]
  },
  {
   "cell_type": "code",
   "execution_count": 318,
   "metadata": {
    "collapsed": false
   },
   "outputs": [],
   "source": [
    "sl_ns= sl_data[sl_data.variable.str.contains(\"new_suspected\")]\n",
    "sl_ns=sl_ns.rename(columns = {'National':'new_suspected'})\n",
    "sl_ns.index = sl_ns.date\n",
    "sl_nc = (sl_data[sl_data.variable.str.contains(\"new_confirmed\")])\n",
    "sl_nc = sl_nc.rename(columns={'National': 'new_confirmed'})\n",
    "sl_nc.index = sl_nc.date\n",
    "sl_np = (sl_data[sl_data.variable.str.contains(\"new_probable\")])\n",
    "sl_np = sl_np.rename(columns={'National': 'new_probable'})\n",
    "sl_np.index = sl_np.date\n",
    "#sl_reduced=sl_reduced.append(sl_data[sl_data.variable.str.contains(\"new_confirmed\")])"
   ]
  },
  {
   "cell_type": "code",
   "execution_count": 319,
   "metadata": {
    "collapsed": false
   },
   "outputs": [],
   "source": [
    "sl_ns=sl_ns.drop(['date', 'variable'], axis=1)\n",
    "sl_np=sl_np.drop(['date', 'variable'], axis=1)\n",
    "sl_nc=sl_nc.drop(['date', 'variable'], axis=1)"
   ]
  },
  {
   "cell_type": "code",
   "execution_count": 320,
   "metadata": {
    "collapsed": false
   },
   "outputs": [],
   "source": [
    "sl_case=sl_ns.new_suspected.astype(float).add(sl_np.new_probable.astype(float), fill_value=0).add(sl_nc.new_confirmed.astype(float), fill_value=0)\n",
    "sl_case.name = \"SL New Cases\""
   ]
  },
  {
   "cell_type": "markdown",
   "metadata": {},
   "source": [
    "We then must do the same with the \"death_suspected\", \"death_probable\", and \"death_confirmed\" columns. However, these columns are actually cumulative, so we'll need to subtract each value by the one above it to get the number of new casses on that day. The first value in the New Death SL series will actually be the cumulative deaths up until that date, because there is no way to know how many deaths occured on that day from the limited data set. Then we will have two pandas series: one called \"New Cases\" indexed by date, and one called \"New deaths\" indexed by date. we can combine these into one dataframe so that we have new cases and new deaths for sierra leone data indexed by date."
   ]
  },
  {
   "cell_type": "code",
   "execution_count": 321,
   "metadata": {
    "collapsed": false
   },
   "outputs": [
    {
     "name": "stdout",
     "output_type": "stream",
     "text": [
      "date\n",
      "2014-08-12    303.0\n",
      "2014-08-13    312.0\n",
      "2014-08-14    319.0\n",
      "2014-08-15    326.0\n",
      "2014-08-16    336.0\n",
      "2014-08-17    344.0\n",
      "2014-08-18    351.0\n",
      "2014-08-19    359.0\n",
      "2014-08-20    361.0\n",
      "2014-08-21    371.0\n",
      "Name: SL New Deaths, dtype: float64\n"
     ]
    }
   ],
   "source": [
    "sl_ns= sl_data[sl_data.variable.str.contains(\"death_suspected\")]\n",
    "sl_ns=sl_ns.rename(columns = {'National':'death_suspected'})\n",
    "sl_ns.index = sl_ns.date\n",
    "sl_nc = (sl_data[sl_data.variable.str.contains(\"death_confirmed\")])\n",
    "sl_nc = sl_nc.rename(columns={'National': 'death_confirmed'})\n",
    "sl_nc.index = sl_nc.date\n",
    "sl_np = (sl_data[sl_data.variable.str.contains(\"death_probable\")])\n",
    "sl_np = sl_np.rename(columns={'National': 'death_probable'})\n",
    "sl_np.index = sl_np.date\n",
    "sl_ns=sl_ns.drop(['date', 'variable'], axis=1)\n",
    "sl_np=sl_np.drop(['date', 'variable'], axis=1)\n",
    "sl_nc=sl_nc.drop(['date', 'variable'], axis=1)\n",
    "sl_death=sl_ns.death_suspected.astype(float).add(sl_np.death_probable.astype(float), fill_value=0).add(sl_nc.death_confirmed.astype(float), fill_value=0)\n",
    "sl_death.name = \"SL New Deaths\"\n",
    "print(sl_death.head(10))\n",
    "for i in range(len(sl_death)):\n",
    "    sl_death[-i]=sl_death[-i]-sl_death[-i-1]\n",
    "sl_death[0]=303\n",
    "sl_death[1]=9"
   ]
  },
  {
   "cell_type": "code",
   "execution_count": 349,
   "metadata": {
    "collapsed": false
   },
   "outputs": [
    {
     "data": {
      "text/html": [
       "<div>\n",
       "<table border=\"1\" class=\"dataframe\">\n",
       "  <thead>\n",
       "    <tr style=\"text-align: right;\">\n",
       "      <th></th>\n",
       "      <th>SL New Cases</th>\n",
       "      <th>SL New Deaths</th>\n",
       "    </tr>\n",
       "    <tr>\n",
       "      <th>date</th>\n",
       "      <th></th>\n",
       "      <th></th>\n",
       "    </tr>\n",
       "  </thead>\n",
       "  <tbody>\n",
       "    <tr>\n",
       "      <th>2014-08-12</th>\n",
       "      <td>22.0</td>\n",
       "      <td>303.0</td>\n",
       "    </tr>\n",
       "    <tr>\n",
       "      <th>2014-08-13</th>\n",
       "      <td>19.0</td>\n",
       "      <td>9.0</td>\n",
       "    </tr>\n",
       "    <tr>\n",
       "      <th>2014-08-14</th>\n",
       "      <td>15.0</td>\n",
       "      <td>7.0</td>\n",
       "    </tr>\n",
       "    <tr>\n",
       "      <th>2014-08-15</th>\n",
       "      <td>17.0</td>\n",
       "      <td>7.0</td>\n",
       "    </tr>\n",
       "    <tr>\n",
       "      <th>2014-08-16</th>\n",
       "      <td>21.0</td>\n",
       "      <td>10.0</td>\n",
       "    </tr>\n",
       "    <tr>\n",
       "      <th>2014-08-17</th>\n",
       "      <td>3.0</td>\n",
       "      <td>8.0</td>\n",
       "    </tr>\n",
       "    <tr>\n",
       "      <th>2014-08-18</th>\n",
       "      <td>60.0</td>\n",
       "      <td>7.0</td>\n",
       "    </tr>\n",
       "    <tr>\n",
       "      <th>2014-08-19</th>\n",
       "      <td>28.0</td>\n",
       "      <td>8.0</td>\n",
       "    </tr>\n",
       "    <tr>\n",
       "      <th>2014-08-20</th>\n",
       "      <td>5.0</td>\n",
       "      <td>2.0</td>\n",
       "    </tr>\n",
       "    <tr>\n",
       "      <th>2014-08-21</th>\n",
       "      <td>9.0</td>\n",
       "      <td>10.0</td>\n",
       "    </tr>\n",
       "    <tr>\n",
       "      <th>2014-08-22</th>\n",
       "      <td>57.0</td>\n",
       "      <td>4.0</td>\n",
       "    </tr>\n",
       "    <tr>\n",
       "      <th>2014-08-23</th>\n",
       "      <td>27.0</td>\n",
       "      <td>6.0</td>\n",
       "    </tr>\n",
       "    <tr>\n",
       "      <th>2014-08-24</th>\n",
       "      <td>31.0</td>\n",
       "      <td>5.0</td>\n",
       "    </tr>\n",
       "    <tr>\n",
       "      <th>2014-08-25</th>\n",
       "      <td>25.0</td>\n",
       "      <td>14.0</td>\n",
       "    </tr>\n",
       "    <tr>\n",
       "      <th>2014-08-26</th>\n",
       "      <td>0.0</td>\n",
       "      <td>0.0</td>\n",
       "    </tr>\n",
       "    <tr>\n",
       "      <th>2014-08-27</th>\n",
       "      <td>30.0</td>\n",
       "      <td>0.0</td>\n",
       "    </tr>\n",
       "    <tr>\n",
       "      <th>2014-08-28</th>\n",
       "      <td>32.0</td>\n",
       "      <td>5.0</td>\n",
       "    </tr>\n",
       "    <tr>\n",
       "      <th>2014-08-29</th>\n",
       "      <td>0.0</td>\n",
       "      <td>0.0</td>\n",
       "    </tr>\n",
       "    <tr>\n",
       "      <th>2014-08-30</th>\n",
       "      <td>51.0</td>\n",
       "      <td>0.0</td>\n",
       "    </tr>\n",
       "    <tr>\n",
       "      <th>2014-08-31</th>\n",
       "      <td>51.0</td>\n",
       "      <td>0.0</td>\n",
       "    </tr>\n",
       "  </tbody>\n",
       "</table>\n",
       "</div>"
      ],
      "text/plain": [
       "            SL New Cases  SL New Deaths\n",
       "date                                   \n",
       "2014-08-12          22.0          303.0\n",
       "2014-08-13          19.0            9.0\n",
       "2014-08-14          15.0            7.0\n",
       "2014-08-15          17.0            7.0\n",
       "2014-08-16          21.0           10.0\n",
       "2014-08-17           3.0            8.0\n",
       "2014-08-18          60.0            7.0\n",
       "2014-08-19          28.0            8.0\n",
       "2014-08-20           5.0            2.0\n",
       "2014-08-21           9.0           10.0\n",
       "2014-08-22          57.0            4.0\n",
       "2014-08-23          27.0            6.0\n",
       "2014-08-24          31.0            5.0\n",
       "2014-08-25          25.0           14.0\n",
       "2014-08-26           0.0            0.0\n",
       "2014-08-27          30.0            0.0\n",
       "2014-08-28          32.0            5.0\n",
       "2014-08-29           0.0            0.0\n",
       "2014-08-30          51.0            0.0\n",
       "2014-08-31          51.0            0.0"
      ]
     },
     "execution_count": 349,
     "metadata": {},
     "output_type": "execute_result"
    }
   ],
   "source": [
    "sl_all = pd.concat([sl_case, sl_death], axis = 1)\n",
    "sl_all=sl_all.fillna(0)\n",
    "sl_all.head(20)"
   ]
  },
  {
   "cell_type": "markdown",
   "metadata": {},
   "source": [
    "### Guinea Data\n",
    "Next we'll move on to tidying up the Guinea data. Luckily, this data set has two columns already for \"New deaths registered today\" and \"Total new cases registered so far\" that already sum over the suspected, probable, and confirmed cases. "
   ]
  },
  {
   "cell_type": "code",
   "execution_count": 323,
   "metadata": {
    "collapsed": false
   },
   "outputs": [
    {
     "data": {
      "text/plain": [
       "0                               New cases of suspects\n",
       "1                              New cases of probables\n",
       "2                              New cases of confirmed\n",
       "3                   Total new cases registered so far\n",
       "4                             Total cases of suspects\n",
       "5                            Total cases of probables\n",
       "6                            Total cases of confirmed\n",
       "7        Cumulative (confirmed + probable + suspects)\n",
       "8                         New deaths registered today\n",
       "9             New deaths registered today (confirmed)\n",
       "10            New deaths registered today (probables)\n",
       "11             New deaths registered today (suspects)\n",
       "12                           Total deaths of suspects\n",
       "13                          Total deaths of probables\n",
       "14                          Total deaths of confirmed\n",
       "15    Total deaths (confirmed + probables + suspects)\n",
       "16                             Total PEC center today\n",
       "17                 Total PEC center today (confirmed)\n",
       "18                 Total PEC center today (probables)\n",
       "19                  Total PEC center today (suspects)\n",
       "Name: Description, dtype: object"
      ]
     },
     "execution_count": 323,
     "metadata": {},
     "output_type": "execute_result"
    }
   ],
   "source": [
    "guinea_data.Description.head(20)"
   ]
  },
  {
   "cell_type": "code",
   "execution_count": 398,
   "metadata": {
    "collapsed": false,
    "scrolled": true
   },
   "outputs": [],
   "source": [
    "g_nd= guinea_data[guinea_data.Description==\"New deaths registered\"]\n",
    "g_nd=g_nd.append(guinea_data[guinea_data.Description==\"New deaths registered today\"])\n",
    "g_nd=g_nd.rename(columns = {'Totals':'G New Deaths'})\n",
    "g_nd.index = g_nd.Date\n",
    "#g_nd=g_nd.drop(['Date', 'Description'], axis=1)\n",
    "g_death = pd.Series(g_nd[\"G New Deaths\"].astype(float))"
   ]
  },
  {
   "cell_type": "code",
   "execution_count": 399,
   "metadata": {
    "collapsed": false
   },
   "outputs": [],
   "source": [
    "g_nc= guinea_data[guinea_data.Description.str.contains(\"Total new cases registered so far\")]\n",
    "g_nc=g_nc.rename(columns = {'Totals':'G New Cases'})\n",
    "g_nc.index = g_nc.Date\n",
    "g_nc=g_nc.drop(['Date', 'Description'], axis=1)\n",
    "g_case = pd.Series(g_nc[\"G New Cases\"].astype(float))"
   ]
  },
  {
   "cell_type": "code",
   "execution_count": 400,
   "metadata": {
    "collapsed": false
   },
   "outputs": [
    {
     "data": {
      "text/html": [
       "<div>\n",
       "<table border=\"1\" class=\"dataframe\">\n",
       "  <thead>\n",
       "    <tr style=\"text-align: right;\">\n",
       "      <th></th>\n",
       "      <th>G New Cases</th>\n",
       "      <th>G New Deaths</th>\n",
       "    </tr>\n",
       "    <tr>\n",
       "      <th>Date</th>\n",
       "      <th></th>\n",
       "      <th></th>\n",
       "    </tr>\n",
       "  </thead>\n",
       "  <tbody>\n",
       "    <tr>\n",
       "      <th>2014-08-04</th>\n",
       "      <td>9.0</td>\n",
       "      <td>2.0</td>\n",
       "    </tr>\n",
       "    <tr>\n",
       "      <th>2014-08-26</th>\n",
       "      <td>28.0</td>\n",
       "      <td>5.0</td>\n",
       "    </tr>\n",
       "    <tr>\n",
       "      <th>2014-08-27</th>\n",
       "      <td>22.0</td>\n",
       "      <td>2.0</td>\n",
       "    </tr>\n",
       "    <tr>\n",
       "      <th>2014-08-30</th>\n",
       "      <td>24.0</td>\n",
       "      <td>5.0</td>\n",
       "    </tr>\n",
       "    <tr>\n",
       "      <th>2014-08-31</th>\n",
       "      <td>46.0</td>\n",
       "      <td>3.0</td>\n",
       "    </tr>\n",
       "    <tr>\n",
       "      <th>2014-09-02</th>\n",
       "      <td>25.0</td>\n",
       "      <td>5.0</td>\n",
       "    </tr>\n",
       "    <tr>\n",
       "      <th>2014-09-04</th>\n",
       "      <td>30.0</td>\n",
       "      <td>5.0</td>\n",
       "    </tr>\n",
       "    <tr>\n",
       "      <th>2014-09-07</th>\n",
       "      <td>16.0</td>\n",
       "      <td>4.0</td>\n",
       "    </tr>\n",
       "    <tr>\n",
       "      <th>2014-09-08</th>\n",
       "      <td>16.0</td>\n",
       "      <td>4.0</td>\n",
       "    </tr>\n",
       "    <tr>\n",
       "      <th>2014-09-09</th>\n",
       "      <td>16.0</td>\n",
       "      <td>7.0</td>\n",
       "    </tr>\n",
       "  </tbody>\n",
       "</table>\n",
       "</div>"
      ],
      "text/plain": [
       "            G New Cases  G New Deaths\n",
       "Date                                 \n",
       "2014-08-04          9.0           2.0\n",
       "2014-08-26         28.0           5.0\n",
       "2014-08-27         22.0           2.0\n",
       "2014-08-30         24.0           5.0\n",
       "2014-08-31         46.0           3.0\n",
       "2014-09-02         25.0           5.0\n",
       "2014-09-04         30.0           5.0\n",
       "2014-09-07         16.0           4.0\n",
       "2014-09-08         16.0           4.0\n",
       "2014-09-09         16.0           7.0"
      ]
     },
     "execution_count": 400,
     "metadata": {},
     "output_type": "execute_result"
    }
   ],
   "source": [
    "guinea_all = pd.concat([g_case, g_death], axis = 1)\n",
    "guinea_all = guinea_all.fillna(0)\n",
    "guinea_all.head(10)"
   ]
  },
  {
   "cell_type": "markdown",
   "metadata": {},
   "source": [
    "### Liberia Data\n",
    "Lastly, we clean up the liberia data. We must add the new cases manually (just like in the SL data), but there is already a column called \"Newly reported deaths\" that we can pull from for the death count per day."
   ]
  },
  {
   "cell_type": "code",
   "execution_count": 330,
   "metadata": {
    "collapsed": false
   },
   "outputs": [
    {
     "data": {
      "text/html": [
       "<div>\n",
       "<table border=\"1\" class=\"dataframe\">\n",
       "  <thead>\n",
       "    <tr style=\"text-align: right;\">\n",
       "      <th></th>\n",
       "      <th>Date</th>\n",
       "      <th>Variable</th>\n",
       "      <th>National</th>\n",
       "    </tr>\n",
       "  </thead>\n",
       "  <tbody>\n",
       "    <tr>\n",
       "      <th>0</th>\n",
       "      <td>2014-06-16</td>\n",
       "      <td>Specimens collected</td>\n",
       "      <td>1.0</td>\n",
       "    </tr>\n",
       "    <tr>\n",
       "      <th>1</th>\n",
       "      <td>2014-06-16</td>\n",
       "      <td>Specimens pending for testing</td>\n",
       "      <td>0.0</td>\n",
       "    </tr>\n",
       "    <tr>\n",
       "      <th>2</th>\n",
       "      <td>2014-06-16</td>\n",
       "      <td>Total specimens tested</td>\n",
       "      <td>28.0</td>\n",
       "    </tr>\n",
       "    <tr>\n",
       "      <th>3</th>\n",
       "      <td>2014-06-16</td>\n",
       "      <td>Newly reported deaths</td>\n",
       "      <td>2.0</td>\n",
       "    </tr>\n",
       "    <tr>\n",
       "      <th>4</th>\n",
       "      <td>2014-06-16</td>\n",
       "      <td>Total death/s in confirmed cases</td>\n",
       "      <td>8.0</td>\n",
       "    </tr>\n",
       "  </tbody>\n",
       "</table>\n",
       "</div>"
      ],
      "text/plain": [
       "        Date                          Variable  National\n",
       "0 2014-06-16               Specimens collected       1.0\n",
       "1 2014-06-16     Specimens pending for testing       0.0\n",
       "2 2014-06-16            Total specimens tested      28.0\n",
       "3 2014-06-16             Newly reported deaths       2.0\n",
       "4 2014-06-16  Total death/s in confirmed cases       8.0"
      ]
     },
     "execution_count": 330,
     "metadata": {},
     "output_type": "execute_result"
    }
   ],
   "source": [
    "liberia_data.head()"
   ]
  },
  {
   "cell_type": "code",
   "execution_count": 331,
   "metadata": {
    "collapsed": false
   },
   "outputs": [],
   "source": [
    "l_ns= liberia_data[liberia_data.Variable.str.contains(\"New Case/s \\(Suspected\\)\")]\n",
    "l_ns=l_ns.rename(columns = {'National':'new_suspected'})\n",
    "l_ns.index = l_ns.Date\n",
    "l_nc = (liberia_data[liberia_data.Variable.str.contains(\"New case/s \\(confirmed\\)\")])\n",
    "l_nc = l_nc.rename(columns={'National': 'new_confirmed'})\n",
    "l_nc.index = l_nc.Date\n",
    "l_np = (liberia_data[liberia_data.Variable.str.contains(\"New Case/s \\(Probable\\)\")])\n",
    "l_np = l_np.rename(columns={'National': 'new_probable'})\n",
    "l_np.index = l_np.Date"
   ]
  },
  {
   "cell_type": "code",
   "execution_count": 332,
   "metadata": {
    "collapsed": false
   },
   "outputs": [],
   "source": [
    "l_ns=l_ns.drop(['Date', 'Variable'], axis=1)\n",
    "l_np=l_np.drop(['Date', 'Variable'], axis=1)\n",
    "l_nc=l_nc.drop(['Date', 'Variable'], axis=1)"
   ]
  },
  {
   "cell_type": "code",
   "execution_count": 333,
   "metadata": {
    "collapsed": true
   },
   "outputs": [],
   "source": [
    "l_case=l_ns.new_suspected.astype(float).add(l_np.new_probable.astype(float), fill_value=0).add(l_nc.new_confirmed.astype(float), fill_value=0)\n",
    "l_case.name = \"L New Cases\""
   ]
  },
  {
   "cell_type": "code",
   "execution_count": 334,
   "metadata": {
    "collapsed": false
   },
   "outputs": [
    {
     "data": {
      "text/plain": [
       "Date\n",
       "2014-06-16     4.0\n",
       "2014-06-17     2.0\n",
       "2014-06-22    10.0\n",
       "2014-06-24     6.0\n",
       "2014-06-25     7.0\n",
       "Name: L New Cases, dtype: float64"
      ]
     },
     "execution_count": 334,
     "metadata": {},
     "output_type": "execute_result"
    }
   ],
   "source": [
    "l_case.head()"
   ]
  },
  {
   "cell_type": "code",
   "execution_count": 336,
   "metadata": {
    "collapsed": false
   },
   "outputs": [
    {
     "name": "stdout",
     "output_type": "stream",
     "text": [
      "            L New Deaths\n",
      "Date                    \n",
      "2014-06-16           2.0\n",
      "2014-06-17           0.0\n",
      "2014-06-22           4.0\n",
      "2014-06-24           4.0\n",
      "2014-06-25           3.0\n"
     ]
    }
   ],
   "source": [
    "L_nd= liberia_data[liberia_data.Variable.str.contains(\"Newly reported deaths\")]\n",
    "L_nd=L_nd.rename(columns = {'National':'L New Deaths'})\n",
    "L_nd.index = L_nd.Date\n",
    "L_nd=L_nd.drop(['Date', 'Variable'], axis=1)\n",
    "print(L_nd.head())\n",
    "\n",
    "l_death = pd.Series(L_nd[\"L New Deaths\"])"
   ]
  },
  {
   "cell_type": "code",
   "execution_count": 356,
   "metadata": {
    "collapsed": false
   },
   "outputs": [
    {
     "data": {
      "text/html": [
       "<div>\n",
       "<table border=\"1\" class=\"dataframe\">\n",
       "  <thead>\n",
       "    <tr style=\"text-align: right;\">\n",
       "      <th></th>\n",
       "      <th>L New Cases</th>\n",
       "      <th>L New Deaths</th>\n",
       "    </tr>\n",
       "    <tr>\n",
       "      <th>Date</th>\n",
       "      <th></th>\n",
       "      <th></th>\n",
       "    </tr>\n",
       "  </thead>\n",
       "  <tbody>\n",
       "    <tr>\n",
       "      <th>2014-06-16</th>\n",
       "      <td>4.0</td>\n",
       "      <td>2.0</td>\n",
       "    </tr>\n",
       "    <tr>\n",
       "      <th>2014-06-17</th>\n",
       "      <td>2.0</td>\n",
       "      <td>0.0</td>\n",
       "    </tr>\n",
       "    <tr>\n",
       "      <th>2014-06-22</th>\n",
       "      <td>10.0</td>\n",
       "      <td>4.0</td>\n",
       "    </tr>\n",
       "    <tr>\n",
       "      <th>2014-06-24</th>\n",
       "      <td>6.0</td>\n",
       "      <td>4.0</td>\n",
       "    </tr>\n",
       "    <tr>\n",
       "      <th>2014-06-25</th>\n",
       "      <td>7.0</td>\n",
       "      <td>3.0</td>\n",
       "    </tr>\n",
       "    <tr>\n",
       "      <th>2014-06-28</th>\n",
       "      <td>9.0</td>\n",
       "      <td>1.0</td>\n",
       "    </tr>\n",
       "    <tr>\n",
       "      <th>2014-06-29</th>\n",
       "      <td>2.0</td>\n",
       "      <td>0.0</td>\n",
       "    </tr>\n",
       "    <tr>\n",
       "      <th>2014-07-01</th>\n",
       "      <td>4.0</td>\n",
       "      <td>5.0</td>\n",
       "    </tr>\n",
       "    <tr>\n",
       "      <th>2014-07-02</th>\n",
       "      <td>4.0</td>\n",
       "      <td>5.0</td>\n",
       "    </tr>\n",
       "    <tr>\n",
       "      <th>2014-07-03</th>\n",
       "      <td>4.0</td>\n",
       "      <td>4.0</td>\n",
       "    </tr>\n",
       "  </tbody>\n",
       "</table>\n",
       "</div>"
      ],
      "text/plain": [
       "            L New Cases  L New Deaths\n",
       "Date                                 \n",
       "2014-06-16          4.0           2.0\n",
       "2014-06-17          2.0           0.0\n",
       "2014-06-22         10.0           4.0\n",
       "2014-06-24          6.0           4.0\n",
       "2014-06-25          7.0           3.0\n",
       "2014-06-28          9.0           1.0\n",
       "2014-06-29          2.0           0.0\n",
       "2014-07-01          4.0           5.0\n",
       "2014-07-02          4.0           5.0\n",
       "2014-07-03          4.0           4.0"
      ]
     },
     "execution_count": 356,
     "metadata": {},
     "output_type": "execute_result"
    }
   ],
   "source": [
    "liberia_all = pd.concat([l_case, l_death], axis = 1)\n",
    "liberia_all = liberia_all.fillna(0)\n",
    "liberia_all.head(10)"
   ]
  },
  {
   "cell_type": "markdown",
   "metadata": {},
   "source": [
    "### Combining into one data frame\n",
    "Lastly, the three separate data frames can be combined into one with the Date index. Thus for each date, there are values telling the number of new cases and number of new deaths in each of the three countries. "
   ]
  },
  {
   "cell_type": "code",
   "execution_count": 403,
   "metadata": {
    "collapsed": false
   },
   "outputs": [],
   "source": [
    "all_data = pd.concat([sl_all,liberia_all])\n",
    "all_data = pd.concat([all_data, guinea_all])\n",
    "all_data = all_data.sort_index(axis = 0)\n",
    "all_data = all_data.fillna(0)"
   ]
  },
  {
   "cell_type": "code",
   "execution_count": 404,
   "metadata": {
    "collapsed": false
   },
   "outputs": [
    {
     "data": {
      "text/html": [
       "<div>\n",
       "<table border=\"1\" class=\"dataframe\">\n",
       "  <thead>\n",
       "    <tr style=\"text-align: right;\">\n",
       "      <th></th>\n",
       "      <th>G New Cases</th>\n",
       "      <th>G New Deaths</th>\n",
       "      <th>L New Cases</th>\n",
       "      <th>L New Deaths</th>\n",
       "      <th>SL New Cases</th>\n",
       "      <th>SL New Deaths</th>\n",
       "    </tr>\n",
       "  </thead>\n",
       "  <tbody>\n",
       "    <tr>\n",
       "      <th>2014-06-16</th>\n",
       "      <td>0.0</td>\n",
       "      <td>0.0</td>\n",
       "      <td>4.0</td>\n",
       "      <td>2.0</td>\n",
       "      <td>0.0</td>\n",
       "      <td>0.0</td>\n",
       "    </tr>\n",
       "    <tr>\n",
       "      <th>2014-06-17</th>\n",
       "      <td>0.0</td>\n",
       "      <td>0.0</td>\n",
       "      <td>2.0</td>\n",
       "      <td>0.0</td>\n",
       "      <td>0.0</td>\n",
       "      <td>0.0</td>\n",
       "    </tr>\n",
       "    <tr>\n",
       "      <th>2014-06-22</th>\n",
       "      <td>0.0</td>\n",
       "      <td>0.0</td>\n",
       "      <td>10.0</td>\n",
       "      <td>4.0</td>\n",
       "      <td>0.0</td>\n",
       "      <td>0.0</td>\n",
       "    </tr>\n",
       "    <tr>\n",
       "      <th>2014-06-24</th>\n",
       "      <td>0.0</td>\n",
       "      <td>0.0</td>\n",
       "      <td>6.0</td>\n",
       "      <td>4.0</td>\n",
       "      <td>0.0</td>\n",
       "      <td>0.0</td>\n",
       "    </tr>\n",
       "    <tr>\n",
       "      <th>2014-06-25</th>\n",
       "      <td>0.0</td>\n",
       "      <td>0.0</td>\n",
       "      <td>7.0</td>\n",
       "      <td>3.0</td>\n",
       "      <td>0.0</td>\n",
       "      <td>0.0</td>\n",
       "    </tr>\n",
       "    <tr>\n",
       "      <th>2014-06-28</th>\n",
       "      <td>0.0</td>\n",
       "      <td>0.0</td>\n",
       "      <td>9.0</td>\n",
       "      <td>1.0</td>\n",
       "      <td>0.0</td>\n",
       "      <td>0.0</td>\n",
       "    </tr>\n",
       "    <tr>\n",
       "      <th>2014-06-29</th>\n",
       "      <td>0.0</td>\n",
       "      <td>0.0</td>\n",
       "      <td>2.0</td>\n",
       "      <td>0.0</td>\n",
       "      <td>0.0</td>\n",
       "      <td>0.0</td>\n",
       "    </tr>\n",
       "    <tr>\n",
       "      <th>2014-07-01</th>\n",
       "      <td>0.0</td>\n",
       "      <td>0.0</td>\n",
       "      <td>4.0</td>\n",
       "      <td>5.0</td>\n",
       "      <td>0.0</td>\n",
       "      <td>0.0</td>\n",
       "    </tr>\n",
       "    <tr>\n",
       "      <th>2014-07-02</th>\n",
       "      <td>0.0</td>\n",
       "      <td>0.0</td>\n",
       "      <td>4.0</td>\n",
       "      <td>5.0</td>\n",
       "      <td>0.0</td>\n",
       "      <td>0.0</td>\n",
       "    </tr>\n",
       "    <tr>\n",
       "      <th>2014-07-03</th>\n",
       "      <td>0.0</td>\n",
       "      <td>0.0</td>\n",
       "      <td>4.0</td>\n",
       "      <td>4.0</td>\n",
       "      <td>0.0</td>\n",
       "      <td>0.0</td>\n",
       "    </tr>\n",
       "  </tbody>\n",
       "</table>\n",
       "</div>"
      ],
      "text/plain": [
       "            G New Cases  G New Deaths  L New Cases  L New Deaths  \\\n",
       "2014-06-16          0.0           0.0          4.0           2.0   \n",
       "2014-06-17          0.0           0.0          2.0           0.0   \n",
       "2014-06-22          0.0           0.0         10.0           4.0   \n",
       "2014-06-24          0.0           0.0          6.0           4.0   \n",
       "2014-06-25          0.0           0.0          7.0           3.0   \n",
       "2014-06-28          0.0           0.0          9.0           1.0   \n",
       "2014-06-29          0.0           0.0          2.0           0.0   \n",
       "2014-07-01          0.0           0.0          4.0           5.0   \n",
       "2014-07-02          0.0           0.0          4.0           5.0   \n",
       "2014-07-03          0.0           0.0          4.0           4.0   \n",
       "\n",
       "            SL New Cases  SL New Deaths  \n",
       "2014-06-16           0.0            0.0  \n",
       "2014-06-17           0.0            0.0  \n",
       "2014-06-22           0.0            0.0  \n",
       "2014-06-24           0.0            0.0  \n",
       "2014-06-25           0.0            0.0  \n",
       "2014-06-28           0.0            0.0  \n",
       "2014-06-29           0.0            0.0  \n",
       "2014-07-01           0.0            0.0  \n",
       "2014-07-02           0.0            0.0  \n",
       "2014-07-03           0.0            0.0  "
      ]
     },
     "execution_count": 404,
     "metadata": {},
     "output_type": "execute_result"
    }
   ],
   "source": [
    "all_data.head(10)"
   ]
  },
  {
   "cell_type": "markdown",
   "metadata": {},
   "source": [
    "At this point, some of the date indexes are repeated, because the concat function didn't know to group them. We must group them manually, and sum over the columns with the same date index."
   ]
  },
  {
   "cell_type": "code",
   "execution_count": 405,
   "metadata": {
    "collapsed": false
   },
   "outputs": [],
   "source": [
    "all_data2=all_data.groupby(by=all_data.index, axis=0).sum()"
   ]
  },
  {
   "cell_type": "code",
   "execution_count": 412,
   "metadata": {
    "collapsed": false
   },
   "outputs": [
    {
     "data": {
      "text/html": [
       "<div>\n",
       "<table border=\"1\" class=\"dataframe\">\n",
       "  <thead>\n",
       "    <tr style=\"text-align: right;\">\n",
       "      <th></th>\n",
       "      <th>G New Cases</th>\n",
       "      <th>G New Deaths</th>\n",
       "      <th>L New Cases</th>\n",
       "      <th>L New Deaths</th>\n",
       "      <th>SL New Cases</th>\n",
       "      <th>SL New Deaths</th>\n",
       "    </tr>\n",
       "  </thead>\n",
       "  <tbody>\n",
       "    <tr>\n",
       "      <th>2014-06-16</th>\n",
       "      <td>0.0</td>\n",
       "      <td>0.0</td>\n",
       "      <td>4.0</td>\n",
       "      <td>2.0</td>\n",
       "      <td>0.0</td>\n",
       "      <td>0.0</td>\n",
       "    </tr>\n",
       "    <tr>\n",
       "      <th>2014-06-17</th>\n",
       "      <td>0.0</td>\n",
       "      <td>0.0</td>\n",
       "      <td>2.0</td>\n",
       "      <td>0.0</td>\n",
       "      <td>0.0</td>\n",
       "      <td>0.0</td>\n",
       "    </tr>\n",
       "    <tr>\n",
       "      <th>2014-06-22</th>\n",
       "      <td>0.0</td>\n",
       "      <td>0.0</td>\n",
       "      <td>10.0</td>\n",
       "      <td>4.0</td>\n",
       "      <td>0.0</td>\n",
       "      <td>0.0</td>\n",
       "    </tr>\n",
       "    <tr>\n",
       "      <th>2014-06-24</th>\n",
       "      <td>0.0</td>\n",
       "      <td>0.0</td>\n",
       "      <td>6.0</td>\n",
       "      <td>4.0</td>\n",
       "      <td>0.0</td>\n",
       "      <td>0.0</td>\n",
       "    </tr>\n",
       "    <tr>\n",
       "      <th>2014-06-25</th>\n",
       "      <td>0.0</td>\n",
       "      <td>0.0</td>\n",
       "      <td>7.0</td>\n",
       "      <td>3.0</td>\n",
       "      <td>0.0</td>\n",
       "      <td>0.0</td>\n",
       "    </tr>\n",
       "    <tr>\n",
       "      <th>2014-06-28</th>\n",
       "      <td>0.0</td>\n",
       "      <td>0.0</td>\n",
       "      <td>9.0</td>\n",
       "      <td>1.0</td>\n",
       "      <td>0.0</td>\n",
       "      <td>0.0</td>\n",
       "    </tr>\n",
       "    <tr>\n",
       "      <th>2014-06-29</th>\n",
       "      <td>0.0</td>\n",
       "      <td>0.0</td>\n",
       "      <td>2.0</td>\n",
       "      <td>0.0</td>\n",
       "      <td>0.0</td>\n",
       "      <td>0.0</td>\n",
       "    </tr>\n",
       "    <tr>\n",
       "      <th>2014-07-01</th>\n",
       "      <td>0.0</td>\n",
       "      <td>0.0</td>\n",
       "      <td>4.0</td>\n",
       "      <td>5.0</td>\n",
       "      <td>0.0</td>\n",
       "      <td>0.0</td>\n",
       "    </tr>\n",
       "    <tr>\n",
       "      <th>2014-07-02</th>\n",
       "      <td>0.0</td>\n",
       "      <td>0.0</td>\n",
       "      <td>4.0</td>\n",
       "      <td>5.0</td>\n",
       "      <td>0.0</td>\n",
       "      <td>0.0</td>\n",
       "    </tr>\n",
       "    <tr>\n",
       "      <th>2014-07-03</th>\n",
       "      <td>0.0</td>\n",
       "      <td>0.0</td>\n",
       "      <td>4.0</td>\n",
       "      <td>4.0</td>\n",
       "      <td>0.0</td>\n",
       "      <td>0.0</td>\n",
       "    </tr>\n",
       "    <tr>\n",
       "      <th>2014-07-07</th>\n",
       "      <td>0.0</td>\n",
       "      <td>0.0</td>\n",
       "      <td>7.0</td>\n",
       "      <td>2.0</td>\n",
       "      <td>0.0</td>\n",
       "      <td>0.0</td>\n",
       "    </tr>\n",
       "    <tr>\n",
       "      <th>2014-07-08</th>\n",
       "      <td>0.0</td>\n",
       "      <td>0.0</td>\n",
       "      <td>3.0</td>\n",
       "      <td>2.0</td>\n",
       "      <td>0.0</td>\n",
       "      <td>0.0</td>\n",
       "    </tr>\n",
       "    <tr>\n",
       "      <th>2014-07-10</th>\n",
       "      <td>0.0</td>\n",
       "      <td>0.0</td>\n",
       "      <td>3.0</td>\n",
       "      <td>4.0</td>\n",
       "      <td>0.0</td>\n",
       "      <td>0.0</td>\n",
       "    </tr>\n",
       "    <tr>\n",
       "      <th>2014-07-13</th>\n",
       "      <td>0.0</td>\n",
       "      <td>0.0</td>\n",
       "      <td>5.0</td>\n",
       "      <td>3.0</td>\n",
       "      <td>0.0</td>\n",
       "      <td>0.0</td>\n",
       "    </tr>\n",
       "    <tr>\n",
       "      <th>2014-07-17</th>\n",
       "      <td>0.0</td>\n",
       "      <td>0.0</td>\n",
       "      <td>10.0</td>\n",
       "      <td>3.0</td>\n",
       "      <td>0.0</td>\n",
       "      <td>0.0</td>\n",
       "    </tr>\n",
       "    <tr>\n",
       "      <th>2014-07-20</th>\n",
       "      <td>0.0</td>\n",
       "      <td>0.0</td>\n",
       "      <td>3.0</td>\n",
       "      <td>4.0</td>\n",
       "      <td>0.0</td>\n",
       "      <td>0.0</td>\n",
       "    </tr>\n",
       "    <tr>\n",
       "      <th>2014-07-24</th>\n",
       "      <td>0.0</td>\n",
       "      <td>0.0</td>\n",
       "      <td>32.0</td>\n",
       "      <td>6.0</td>\n",
       "      <td>0.0</td>\n",
       "      <td>0.0</td>\n",
       "    </tr>\n",
       "    <tr>\n",
       "      <th>2014-07-26</th>\n",
       "      <td>0.0</td>\n",
       "      <td>0.0</td>\n",
       "      <td>19.0</td>\n",
       "      <td>9.0</td>\n",
       "      <td>0.0</td>\n",
       "      <td>0.0</td>\n",
       "    </tr>\n",
       "    <tr>\n",
       "      <th>2014-08-02</th>\n",
       "      <td>0.0</td>\n",
       "      <td>0.0</td>\n",
       "      <td>11.0</td>\n",
       "      <td>13.0</td>\n",
       "      <td>0.0</td>\n",
       "      <td>0.0</td>\n",
       "    </tr>\n",
       "    <tr>\n",
       "      <th>2014-08-04</th>\n",
       "      <td>9.0</td>\n",
       "      <td>2.0</td>\n",
       "      <td>10.0</td>\n",
       "      <td>7.0</td>\n",
       "      <td>0.0</td>\n",
       "      <td>0.0</td>\n",
       "    </tr>\n",
       "  </tbody>\n",
       "</table>\n",
       "</div>"
      ],
      "text/plain": [
       "            G New Cases  G New Deaths  L New Cases  L New Deaths  \\\n",
       "2014-06-16          0.0           0.0          4.0           2.0   \n",
       "2014-06-17          0.0           0.0          2.0           0.0   \n",
       "2014-06-22          0.0           0.0         10.0           4.0   \n",
       "2014-06-24          0.0           0.0          6.0           4.0   \n",
       "2014-06-25          0.0           0.0          7.0           3.0   \n",
       "2014-06-28          0.0           0.0          9.0           1.0   \n",
       "2014-06-29          0.0           0.0          2.0           0.0   \n",
       "2014-07-01          0.0           0.0          4.0           5.0   \n",
       "2014-07-02          0.0           0.0          4.0           5.0   \n",
       "2014-07-03          0.0           0.0          4.0           4.0   \n",
       "2014-07-07          0.0           0.0          7.0           2.0   \n",
       "2014-07-08          0.0           0.0          3.0           2.0   \n",
       "2014-07-10          0.0           0.0          3.0           4.0   \n",
       "2014-07-13          0.0           0.0          5.0           3.0   \n",
       "2014-07-17          0.0           0.0         10.0           3.0   \n",
       "2014-07-20          0.0           0.0          3.0           4.0   \n",
       "2014-07-24          0.0           0.0         32.0           6.0   \n",
       "2014-07-26          0.0           0.0         19.0           9.0   \n",
       "2014-08-02          0.0           0.0         11.0          13.0   \n",
       "2014-08-04          9.0           2.0         10.0           7.0   \n",
       "\n",
       "            SL New Cases  SL New Deaths  \n",
       "2014-06-16           0.0            0.0  \n",
       "2014-06-17           0.0            0.0  \n",
       "2014-06-22           0.0            0.0  \n",
       "2014-06-24           0.0            0.0  \n",
       "2014-06-25           0.0            0.0  \n",
       "2014-06-28           0.0            0.0  \n",
       "2014-06-29           0.0            0.0  \n",
       "2014-07-01           0.0            0.0  \n",
       "2014-07-02           0.0            0.0  \n",
       "2014-07-03           0.0            0.0  \n",
       "2014-07-07           0.0            0.0  \n",
       "2014-07-08           0.0            0.0  \n",
       "2014-07-10           0.0            0.0  \n",
       "2014-07-13           0.0            0.0  \n",
       "2014-07-17           0.0            0.0  \n",
       "2014-07-20           0.0            0.0  \n",
       "2014-07-24           0.0            0.0  \n",
       "2014-07-26           0.0            0.0  \n",
       "2014-08-02           0.0            0.0  \n",
       "2014-08-04           0.0            0.0  "
      ]
     },
     "execution_count": 412,
     "metadata": {},
     "output_type": "execute_result"
    }
   ],
   "source": [
    "all_data2.head(20)"
   ]
  },
  {
   "cell_type": "code",
   "execution_count": 407,
   "metadata": {
    "collapsed": false
   },
   "outputs": [
    {
     "data": {
      "text/plain": [
       "(225, 6)"
      ]
     },
     "execution_count": 407,
     "metadata": {},
     "output_type": "execute_result"
    }
   ],
   "source": [
    "all_data.shape"
   ]
  },
  {
   "cell_type": "code",
   "execution_count": 408,
   "metadata": {
    "collapsed": false
   },
   "outputs": [
    {
     "data": {
      "text/plain": [
       "(135, 6)"
      ]
     },
     "execution_count": 408,
     "metadata": {},
     "output_type": "execute_result"
    }
   ],
   "source": [
    "all_data2.shape"
   ]
  },
  {
   "cell_type": "markdown",
   "metadata": {},
   "source": [
    "Thus the dataframe all_data2 has the new cases and new deaths indexed by date for each country. (It looks like the guinea values are all 0, but that's only because there are a lot of dates at the beginning for which guinea has no data. THe new cases and death begin appearing in Guinea around 8/4/2014.)"
   ]
  }
 ],
 "metadata": {
  "anaconda-cloud": {},
  "kernelspec": {
   "display_name": "Python 3",
   "language": "python",
   "name": "python3"
  },
  "language_info": {
   "codemirror_mode": {
    "name": "ipython",
    "version": 3
   },
   "file_extension": ".py",
   "mimetype": "text/x-python",
   "name": "python",
   "nbconvert_exporter": "python",
   "pygments_lexer": "ipython3",
   "version": "3.6.0"
  }
 },
 "nbformat": 4,
 "nbformat_minor": 1
}
