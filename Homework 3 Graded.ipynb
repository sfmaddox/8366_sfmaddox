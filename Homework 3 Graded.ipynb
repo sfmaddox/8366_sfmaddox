{
 "cells": [
  {
   "cell_type": "markdown",
   "metadata": {},
   "source": [
    "Answer all questions and submit them either as an IPython notebook, LaTeX document, or Markdown document. Provide full answers for each question, including interpretation of the results. Each question is worth 25 points.\n",
    "\n",
    "This homework is due on Friday, December 8, 2017."
   ]
  },
  {
   "cell_type": "markdown",
   "metadata": {},
   "source": [
    "## Question 1\n",
    "\n",
    "The `titanic.xls` spreadsheet in the `data` directory contains data regarding the passengers on the Titanic when it sank in 1912. A recent [Kaggle competition](http://www.kaggle.com/c/titanic-gettingStarted) was based on predicting survival for passengers based on the attributes in the passenger list. \n",
    "\n",
    "Use scikit-learn to build both a support vector classifier and a logistic regression model to predict survival on the Titanic. Use cross-validation to assess your models, and try to tune them to improve performance.\n",
    "\n",
    "Discuss the benefits and drawbacks of both approaches for application to such problems."
   ]
  },
  {
   "cell_type": "code",
   "execution_count": 78,
   "metadata": {
    "collapsed": false
   },
   "outputs": [
    {
     "data": {
      "text/html": [
       "<div>\n",
       "<style scoped>\n",
       "    .dataframe tbody tr th:only-of-type {\n",
       "        vertical-align: middle;\n",
       "    }\n",
       "\n",
       "    .dataframe tbody tr th {\n",
       "        vertical-align: top;\n",
       "    }\n",
       "\n",
       "    .dataframe thead th {\n",
       "        text-align: right;\n",
       "    }\n",
       "</style>\n",
       "<table border=\"1\" class=\"dataframe\">\n",
       "  <thead>\n",
       "    <tr style=\"text-align: right;\">\n",
       "      <th></th>\n",
       "      <th>pclass</th>\n",
       "      <th>survived</th>\n",
       "      <th>name</th>\n",
       "      <th>sex</th>\n",
       "      <th>age</th>\n",
       "      <th>sibsp</th>\n",
       "      <th>parch</th>\n",
       "      <th>ticket</th>\n",
       "      <th>fare</th>\n",
       "      <th>cabin</th>\n",
       "      <th>embarked</th>\n",
       "      <th>boat</th>\n",
       "      <th>body</th>\n",
       "      <th>home.dest</th>\n",
       "    </tr>\n",
       "  </thead>\n",
       "  <tbody>\n",
       "    <tr>\n",
       "      <th>0</th>\n",
       "      <td>1</td>\n",
       "      <td>1</td>\n",
       "      <td>Allen, Miss. Elisabeth Walton</td>\n",
       "      <td>female</td>\n",
       "      <td>29.0000</td>\n",
       "      <td>0</td>\n",
       "      <td>0</td>\n",
       "      <td>24160</td>\n",
       "      <td>211.3375</td>\n",
       "      <td>B5</td>\n",
       "      <td>S</td>\n",
       "      <td>2</td>\n",
       "      <td>NaN</td>\n",
       "      <td>St Louis, MO</td>\n",
       "    </tr>\n",
       "    <tr>\n",
       "      <th>1</th>\n",
       "      <td>1</td>\n",
       "      <td>1</td>\n",
       "      <td>Allison, Master. Hudson Trevor</td>\n",
       "      <td>male</td>\n",
       "      <td>0.9167</td>\n",
       "      <td>1</td>\n",
       "      <td>2</td>\n",
       "      <td>113781</td>\n",
       "      <td>151.5500</td>\n",
       "      <td>C22 C26</td>\n",
       "      <td>S</td>\n",
       "      <td>11</td>\n",
       "      <td>NaN</td>\n",
       "      <td>Montreal, PQ / Chesterville, ON</td>\n",
       "    </tr>\n",
       "    <tr>\n",
       "      <th>2</th>\n",
       "      <td>1</td>\n",
       "      <td>0</td>\n",
       "      <td>Allison, Miss. Helen Loraine</td>\n",
       "      <td>female</td>\n",
       "      <td>2.0000</td>\n",
       "      <td>1</td>\n",
       "      <td>2</td>\n",
       "      <td>113781</td>\n",
       "      <td>151.5500</td>\n",
       "      <td>C22 C26</td>\n",
       "      <td>S</td>\n",
       "      <td>NaN</td>\n",
       "      <td>NaN</td>\n",
       "      <td>Montreal, PQ / Chesterville, ON</td>\n",
       "    </tr>\n",
       "    <tr>\n",
       "      <th>3</th>\n",
       "      <td>1</td>\n",
       "      <td>0</td>\n",
       "      <td>Allison, Mr. Hudson Joshua Creighton</td>\n",
       "      <td>male</td>\n",
       "      <td>30.0000</td>\n",
       "      <td>1</td>\n",
       "      <td>2</td>\n",
       "      <td>113781</td>\n",
       "      <td>151.5500</td>\n",
       "      <td>C22 C26</td>\n",
       "      <td>S</td>\n",
       "      <td>NaN</td>\n",
       "      <td>135.0</td>\n",
       "      <td>Montreal, PQ / Chesterville, ON</td>\n",
       "    </tr>\n",
       "    <tr>\n",
       "      <th>4</th>\n",
       "      <td>1</td>\n",
       "      <td>0</td>\n",
       "      <td>Allison, Mrs. Hudson J C (Bessie Waldo Daniels)</td>\n",
       "      <td>female</td>\n",
       "      <td>25.0000</td>\n",
       "      <td>1</td>\n",
       "      <td>2</td>\n",
       "      <td>113781</td>\n",
       "      <td>151.5500</td>\n",
       "      <td>C22 C26</td>\n",
       "      <td>S</td>\n",
       "      <td>NaN</td>\n",
       "      <td>NaN</td>\n",
       "      <td>Montreal, PQ / Chesterville, ON</td>\n",
       "    </tr>\n",
       "  </tbody>\n",
       "</table>\n",
       "</div>"
      ],
      "text/plain": [
       "   pclass  survived                                             name     sex  \\\n",
       "0       1         1                    Allen, Miss. Elisabeth Walton  female   \n",
       "1       1         1                   Allison, Master. Hudson Trevor    male   \n",
       "2       1         0                     Allison, Miss. Helen Loraine  female   \n",
       "3       1         0             Allison, Mr. Hudson Joshua Creighton    male   \n",
       "4       1         0  Allison, Mrs. Hudson J C (Bessie Waldo Daniels)  female   \n",
       "\n",
       "       age  sibsp  parch  ticket      fare    cabin embarked boat   body  \\\n",
       "0  29.0000      0      0   24160  211.3375       B5        S    2    NaN   \n",
       "1   0.9167      1      2  113781  151.5500  C22 C26        S   11    NaN   \n",
       "2   2.0000      1      2  113781  151.5500  C22 C26        S  NaN    NaN   \n",
       "3  30.0000      1      2  113781  151.5500  C22 C26        S  NaN  135.0   \n",
       "4  25.0000      1      2  113781  151.5500  C22 C26        S  NaN    NaN   \n",
       "\n",
       "                         home.dest  \n",
       "0                     St Louis, MO  \n",
       "1  Montreal, PQ / Chesterville, ON  \n",
       "2  Montreal, PQ / Chesterville, ON  \n",
       "3  Montreal, PQ / Chesterville, ON  \n",
       "4  Montreal, PQ / Chesterville, ON  "
      ]
     },
     "execution_count": 78,
     "metadata": {},
     "output_type": "execute_result"
    }
   ],
   "source": [
    "%matplotlib inline\n",
    "import seaborn as sns; sns.set_context('notebook')\n",
    "import numpy as np\n",
    "import matplotlib.pyplot as plt\n",
    "import pandas as pd\n",
    "from sklearn.svm import SVC\n",
    "from sklearn import svm\n",
    "\n",
    "from sklearn import preprocessing\n",
    "from sklearn.linear_model import LogisticRegression\n",
    "from sklearn.metrics import brier_score_loss, make_scorer\n",
    "\n",
    "titanic = pd.read_excel(\"../data/titanic.xls\")\n",
    "titanic.head()"
   ]
  },
  {
   "cell_type": "code",
   "execution_count": 79,
   "metadata": {
    "collapsed": true
   },
   "outputs": [],
   "source": [
    "#clean data\n",
    "titanic = titanic.replace({'sex':{'female':0, 'male':1}})\n",
    "titanic = titanic[['survived','pclass', 'sex', 'age', 'sibsp', 'parch', 'fare']].dropna()\n",
    "X = preprocessing.StandardScaler().fit_transform(titanic.astype(float))\n",
    "\n",
    "y=titanic.pop('survived').values"
   ]
  },
  {
   "cell_type": "code",
   "execution_count": 80,
   "metadata": {
    "collapsed": false
   },
   "outputs": [
    {
     "data": {
      "text/plain": [
       "Index(['pclass', 'sex', 'age', 'sibsp', 'parch', 'fare'], dtype='object')"
      ]
     },
     "execution_count": 80,
     "metadata": {},
     "output_type": "execute_result"
    }
   ],
   "source": [
    "titanic.columns"
   ]
  },
  {
   "cell_type": "code",
   "execution_count": 81,
   "metadata": {
    "collapsed": false,
    "scrolled": true
   },
   "outputs": [
    {
     "data": {
      "text/plain": [
       "SVC(C=1.0, cache_size=200, class_weight=None, coef0=0.0,\n",
       "  decision_function_shape='ovr', degree=3, gamma='auto', kernel='linear',\n",
       "  max_iter=-1, probability=False, random_state=None, shrinking=True,\n",
       "  tol=0.001, verbose=False)"
      ]
     },
     "execution_count": 81,
     "metadata": {},
     "output_type": "execute_result"
    }
   ],
   "source": [
    "svc = SVC(kernel='linear')\n",
    "svc.fit(X, y)"
   ]
  },
  {
   "cell_type": "code",
   "execution_count": 82,
   "metadata": {
    "collapsed": false
   },
   "outputs": [
    {
     "data": {
      "text/plain": [
       "1.0"
      ]
     },
     "execution_count": 82,
     "metadata": {},
     "output_type": "execute_result"
    }
   ],
   "source": [
    "svc.score(X, y)"
   ]
  },
  {
   "cell_type": "markdown",
   "metadata": {},
   "source": [
    "This score doesn't mean much; we built the model on all the data, then tested the model on all the data. Of course it is a perfect classifier. We need to make **train** and **test** data sets to produce a more realistic score of the model. "
   ]
  },
  {
   "cell_type": "code",
   "execution_count": 83,
   "metadata": {
    "collapsed": true
   },
   "outputs": [],
   "source": [
    "from sklearn import model_selection\n",
    "\n",
    "X_train, X_test, y_train, y_test = model_selection.train_test_split(\n",
    "        titanic.values, y, test_size=0.4, random_state=0)"
   ]
  },
  {
   "cell_type": "code",
   "execution_count": 86,
   "metadata": {
    "collapsed": false
   },
   "outputs": [
    {
     "data": {
      "text/plain": [
       "0.77751196172248804"
      ]
     },
     "execution_count": 86,
     "metadata": {},
     "output_type": "execute_result"
    }
   ],
   "source": [
    "f = SVC(kernel='linear', C=1)\n",
    "f.fit(X_train, y_train)\n",
    "f.score(X_test, y_test)"
   ]
  },
  {
   "cell_type": "code",
   "execution_count": 87,
   "metadata": {
    "collapsed": false
   },
   "outputs": [
    {
     "data": {
      "text/plain": [
       "array([ 0.83809524,  0.85714286,  0.84761905,  0.81904762,  0.77142857,\n",
       "        0.8       ,  0.80952381,  0.69230769,  0.6407767 ,  0.70873786])"
      ]
     },
     "execution_count": 87,
     "metadata": {},
     "output_type": "execute_result"
    }
   ],
   "source": [
    "scores = model_selection.cross_val_score(f, titanic.values, y, cv=10)\n",
    "scores"
   ]
  },
  {
   "cell_type": "code",
   "execution_count": 88,
   "metadata": {
    "collapsed": false
   },
   "outputs": [
    {
     "name": "stdout",
     "output_type": "stream",
     "text": [
      "Accuracy: 0.78 (+/- 0.14)\n"
     ]
    }
   ],
   "source": [
    "print(\"Accuracy: %0.2f (+/- %0.2f)\" % (scores.mean(), scores.std() * 2))"
   ]
  },
  {
   "cell_type": "markdown",
   "metadata": {},
   "source": [
    "So the SVM is not working very well. We definitely need to tune it, because it is getting less than 80% correct. Not awful, but we can do better. A benefit to this approach is that we don't have to assume our data is normal.\n",
    "\n",
    "To try tuning the model, we can change the regularization term (C) and see which value gives us the highest accuracy."
   ]
  },
  {
   "cell_type": "code",
   "execution_count": null,
   "metadata": {
    "collapsed": true
   },
   "outputs": [],
   "source": [
    "def regularization_test(x):\n",
    "    f = svm.SVC(kernel='linear', C=x+1)\n",
    "    scores = model_selection.cross_val_score(f, titanic.values, y, cv=3)\n",
    "    acc = scores.mean()\n",
    "    return acc\n",
    "\n",
    "n = 5\n",
    "accuracy = np.zeros(n)\n",
    "for x in range(n):\n",
    "    accuracy[x]=regularization_test(x)"
   ]
  },
  {
   "cell_type": "code",
   "execution_count": null,
   "metadata": {
    "collapsed": true
   },
   "outputs": [],
   "source": [
    "plt.plot(list(range(n)), accuracy)"
   ]
  },
  {
   "cell_type": "code",
   "execution_count": null,
   "metadata": {
    "collapsed": true,
    "scrolled": true
   },
   "outputs": [],
   "source": [
    "max(accuracy)"
   ]
  },
  {
   "cell_type": "code",
   "execution_count": null,
   "metadata": {
    "collapsed": true
   },
   "outputs": [],
   "source": [
    "f = svm.SVC(kernel='linear', C=.6)\n",
    "scores = model_selection.cross_val_score(f, titanic.values, y, cv=3)\n",
    "scores.mean()"
   ]
  },
  {
   "cell_type": "markdown",
   "metadata": {},
   "source": [
    "Using a little guess and check above, I figured out that the C with the highest accuracy score is .6. The next thing we can try to do to tune the model is change the kernel. Trying a polynomial with difference kernels:"
   ]
  },
  {
   "cell_type": "code",
   "execution_count": null,
   "metadata": {
    "collapsed": true
   },
   "outputs": [],
   "source": [
    "f = svm.SVC(kernel='poly', degree=1, C=.6)\n",
    "scores = model_selection.cross_val_score(f, titanic.values, y, cv=3)\n",
    "scores.mean()"
   ]
  },
  {
   "cell_type": "code",
   "execution_count": null,
   "metadata": {
    "collapsed": true
   },
   "outputs": [],
   "source": [
    "plt.plot([1,2,3], acc)"
   ]
  },
  {
   "cell_type": "markdown",
   "metadata": {},
   "source": []
  },
  {
   "cell_type": "markdown",
   "metadata": {},
   "source": [
    "#### Next, we can do the same sort of thing with the Logistic Regression model."
   ]
  },
  {
   "cell_type": "code",
   "execution_count": null,
   "metadata": {
    "collapsed": true
   },
   "outputs": [],
   "source": [
    "from sklearn import model_selection\n",
    "\n",
    "X_train, X_test, y_train, y_test = model_selection.train_test_split(\n",
    "        titanic.values, y, test_size=0.4, random_state=0)\n",
    "l = LogisticRegression()\n",
    "l.fit(X_train, y_train)\n",
    "l.score(X_test, y_test)"
   ]
  },
  {
   "cell_type": "code",
   "execution_count": null,
   "metadata": {
    "collapsed": true
   },
   "outputs": [],
   "source": [
    "scores_l = model_selection.cross_val_score(l, titanic.values, y, cv=10)\n",
    "scores_l"
   ]
  },
  {
   "cell_type": "code",
   "execution_count": null,
   "metadata": {
    "collapsed": true
   },
   "outputs": [],
   "source": [
    "print(\"Accuracy: %0.2f (+/- %0.2f)\" % (scores_l.mean(), scores_l.std() * 2))"
   ]
  },
  {
   "cell_type": "markdown",
   "metadata": {},
   "source": [
    "Again, the accuracy is pretty bad, and we could do better. A benefit to this approach is that it runs really quickly."
   ]
  },
  {
   "cell_type": "code",
   "execution_count": null,
   "metadata": {
    "collapsed": true
   },
   "outputs": [],
   "source": [
    "def regularization_test_logreg(x):\n",
    "    l = LogisticRegression(C=x+.5)\n",
    "    l.fit(X_train, y_train)\n",
    "    scores = model_selection.cross_val_score(l, titanic.values, y, cv=10)\n",
    "    acc = scores.mean()\n",
    "    return acc\n",
    "\n",
    "n = 20\n",
    "accuracy = np.zeros(n)\n",
    "for x in range(n):\n",
    "    accuracy[x]=regularization_test_logreg(x)\n",
    "accuracy"
   ]
  },
  {
   "cell_type": "code",
   "execution_count": null,
   "metadata": {
    "collapsed": true
   },
   "outputs": [],
   "source": [
    "plt.plot(list(range(n)), accuracy)"
   ]
  },
  {
   "cell_type": "markdown",
   "metadata": {},
   "source": [
    "We can see that the most accuracte model has C=3.5, where accuracy score=0.77083076. "
   ]
  },
  {
   "cell_type": "markdown",
   "metadata": {},
   "source": [
    "> Missing discussion of the relative benefits of each. Good work otherwise.\n",
    "\n",
    "> Q1 Score: 23/25"
   ]
  },
  {
   "cell_type": "markdown",
   "metadata": {},
   "source": [
    "## Question 2\n",
    "\n",
    "The file `TNNASHVI.txt` in your data directory contains daily temperature readings for Nashville, courtesy of the [Average Daily Temperature Archive](http://academic.udayton.edu/kissock/http/Weather/). This data, as one would expect, oscillates annually. Using PyMC3, use a Gaussian process to fit a non-parametric regression model to this data, choosing an appropriate covariance function. Plot 10 regression lines drawn from your process."
   ]
  },
  {
   "cell_type": "code",
   "execution_count": 133,
   "metadata": {
    "collapsed": true
   },
   "outputs": [],
   "source": [
    "%matplotlib inline\n",
    "from sklearn.datasets import load_diabetes\n",
    "import pandas as pd\n",
    "\n",
    "daily_temps = pd.read_table(\"../data/TNNASHVI.txt\", sep='\\s+', \n",
    "                            names=['month','day','year','temp'], na_values=-99)\n",
    "\n"
   ]
  },
  {
   "cell_type": "code",
   "execution_count": 134,
   "metadata": {
    "collapsed": false
   },
   "outputs": [
    {
     "data": {
      "text/plain": [
       "<matplotlib.axes._subplots.AxesSubplot at 0x1257c7128>"
      ]
     },
     "execution_count": 134,
     "metadata": {},
     "output_type": "execute_result"
    },
    {
     "data": {
      "image/png": "[encoded data removed]",
      "text/plain": [
       "<matplotlib.figure.Figure at 0x119e16898>"
      ]
     },
     "metadata": {},
     "output_type": "display_data"
    }
   ],
   "source": [
    "daily_temps.temp.plot(style='b.', figsize=(10,6), grid=False)"
   ]
  },
  {
   "cell_type": "code",
   "execution_count": 145,
   "metadata": {
    "collapsed": false,
    "scrolled": true
   },
   "outputs": [
    {
     "data": {
      "image/png": "[encoded data removed]",
      "text/plain": [
       "<matplotlib.figure.Figure at 0x129015b38>"
      ]
     },
     "metadata": {},
     "output_type": "display_data"
    }
   ],
   "source": [
    "import pymc3 as pm\n",
    "import theano\n",
    "temps_2010 = daily_temps.temp[daily_temps.year>2010]\n",
    "temps_2010.plot(style='b.', figsize=(10,6), grid=False)\n",
    "\n",
    "x, y = temps_2010.reset_index().values.T\n",
    "X = x.reshape(-1, 1)\n",
    "\n",
    "with pm.Model() as rain_model:\n",
    "    #ℓ = pm.Gamma(\"ℓ\", alpha=2, beta=1)\n",
    "    η = pm.HalfCauchy(\"η\", beta=5)\n",
    "    ℓ = pm.HalfCauchy(\"ℓ\", 1)\n",
    "    cov = pm.gp.cov.Cosine(1, ℓ)+η\n",
    "    #cov = η**2 * pm.gp.cov.Matern52(1, ℓ)\n",
    "    gp = pm.gp.MarginalSparse(cov_func=cov, approx=\"FITC\")\n",
    "\n",
    "#     ρ = pm.Gamma('ρ', 1, 1)\n",
    "#     η = pm.Gamma('η', 1, 1)\n",
    "    \n",
    "#     M = pm.gp.mean.Linear(coeffs=(y/x).mean())\n",
    "#     l = 0.2\n",
    "#     tau = 2.0\n",
    "#     K = tau * pm.gp.cov.Cosine(1, l)\n",
    "#     σ = pm.HalfCauchy('σ', 1)\n",
    "    \n",
    "#     recruit_gp = pm.gp.Marginal(mean_func=M, cov_func=K)\n",
    "#     recruit_gp.marginal_likelihood('recruits', X=X, y=y, noise=σ)\n",
    "\n",
    "# with rain_model:\n",
    "#     trace2 = pm.sample(2000)\n",
    "\n",
    "# pm.traceplot(trace2, varnames=['ℓ', 'η']);"
   ]
  },
  {
   "cell_type": "code",
   "execution_count": 146,
   "metadata": {
    "collapsed": true
   },
   "outputs": [],
   "source": [
    "with rain_model:\n",
    "    \n",
    "    Xu = pm.gp.util.kmeans_inducing_points(20, X)"
   ]
  },
  {
   "cell_type": "code",
   "execution_count": 147,
   "metadata": {
    "collapsed": false
   },
   "outputs": [
    {
     "name": "stderr",
     "output_type": "stream",
     "text": [
      "Auto-assigning NUTS sampler...\n",
      "Initializing NUTS using jitter+adapt_diag...\n",
      "100%|██████████| 1000/1000 [18:26<00:00,  1.11s/it]/anaconda3/envs/bios8366/lib/python3.6/site-packages/pymc3/step_methods/hmc/nuts.py:459: UserWarning: Chain 0 reached the maximum tree depth. Increase max_treedepth, increase target_accept or reparameterize.\n",
      "  'reparameterize.' % self._chain_id)\n",
      "\n"
     ]
    },
    {
     "data": {
      "image/png": "[encoded data removed]",
      "text/plain": [
       "<matplotlib.figure.Figure at 0x1299eff98>"
      ]
     },
     "metadata": {},
     "output_type": "display_data"
    }
   ],
   "source": [
    "with rain_model:\n",
    "    \n",
    "    σ = pm.HalfCauchy(\"σ\", beta=5)\n",
    "    obs = gp.marginal_likelihood(\"obs\", X=X, Xu=Xu, y=y, sigma=σ)\n",
    "    \n",
    "    trace = pm.sample(500, njobs=1, chains=1)\n",
    "    \n",
    "pm.traceplot(trace, varnames=['ℓ', 'η']);"
   ]
  },
  {
   "cell_type": "code",
   "execution_count": 148,
   "metadata": {
    "collapsed": false
   },
   "outputs": [
    {
     "name": "stderr",
     "output_type": "stream",
     "text": [
      "100%|██████████| 10/10 [00:03<00:00,  2.51it/s]\n"
     ]
    }
   ],
   "source": [
    "X_new = np.linspace(5800, 7000, 200)[:,None]\n",
    "\n",
    "# add the GP conditional to the model, given the new X values\n",
    "with rain_model:\n",
    "    f_pred = gp.conditional(\"f_pred\", X_new)\n",
    "\n",
    "# To use the MAP values, you can just replace the trace with a length-1 list with `mp`\n",
    "with rain_model:\n",
    "    pred_samples = pm.sample_ppc(trace, vars=[f_pred], samples=10)"
   ]
  },
  {
   "cell_type": "code",
   "execution_count": 149,
   "metadata": {
    "collapsed": false
   },
   "outputs": [
    {
     "data": {
      "image/png": "[encoded data removed]",
      "text/plain": [
       "<matplotlib.figure.Figure at 0x1240f5c50>"
      ]
     },
     "metadata": {},
     "output_type": "display_data"
    }
   ],
   "source": [
    "\n",
    "# plot the results\n",
    "fig = plt.figure(figsize=(12,5)); ax = fig.gca()\n",
    "\n",
    "# plot the samples from the gp posterior with samples and shading\n",
    "from pymc3.gp.util import plot_gp_dist\n",
    "plot_gp_dist(ax, pred_samples[\"f_pred\"], X_new);\n",
    "\n",
    "# plot the data and the true latent function\n",
    "plt.plot(X, y, 'ok', ms=3, alpha=0.5, label=\"Observed data\");\n",
    "plt.plot(Xu, 10*np.ones(Xu.shape[0]), \"co\", ms=10, label=\"Inducing point locations\")\n",
    "\n",
    "# axis labels and title\n",
    "plt.xlabel(\"X\"); \n",
    "plt.xlim(5800,7000)\n",
    "plt.title(\"Posterior distribution over $f(x)$ at the observed values\"); plt.legend();"
   ]
  },
  {
   "cell_type": "markdown",
   "metadata": {},
   "source": [
    "  > Hmm, I think I would've ran the sampler for longer. It doesn't look like one of the parameters converged well (\\eta). Most likely this is due to the additivity in how you speocified the covariance function. Also, I'm surprised at how small the variance is for the posterior predictive draws. Coding looks right though. \n",
    "  \n",
    "  > Q2: 25/25 "
   ]
  },
  {
   "cell_type": "markdown",
   "metadata": {},
   "source": [
    "## Question 3\n",
    "\n",
    "Fit a series of random-forest classifiers to the Wisconsin breast cancer dataset (`wisconsin_breast_cancer.csv`), to explore the sensitivity to the parameters `max_features`, the number of variables considered for splitting at each step, `max_depth`, the maximum depth of the tree, and `n_estimators`, the number of trees in the forest. Use apprpriate metrics of performance, and include plots against a suitably-chosen range of values for these parameters.\n",
    "\n",
    "Dataset description: Features are computed from a digitized image of a fine needle aspirate (FNA) of a breast mass. They describe characteristics of the cell nuclei present in the image. Ten real-valued features are computed for each cell nucleus:\n",
    "\n",
    "- `radius` (mean of distances from center to points on the perimeter) \n",
    "- `texture` (standard deviation of gray-scale values) \n",
    "- `perimeter` \n",
    "- `area` \n",
    "- `smoothness` (local variation in radius lengths) \n",
    "- `compactness` (perimeter^2 / area - 1.0) \n",
    "- `concavity` (severity of concave portions of the contour) \n",
    "- `concave points` (number of concave portions of the contour) \n",
    "- `symmetry` \n",
    "- `fractal dimension` (\"coastline approximation\" - 1)\n",
    "\n",
    "The outcome to be predicted is tumor type (M = malignant, B = benign)."
   ]
  },
  {
   "cell_type": "code",
   "execution_count": 62,
   "metadata": {
    "collapsed": true
   },
   "outputs": [],
   "source": [
    "bc_data = pd.read_csv(\"../data/wisconsin_breast_cancer.csv\")\n"
   ]
  },
  {
   "cell_type": "code",
   "execution_count": 36,
   "metadata": {
    "collapsed": false,
    "scrolled": true
   },
   "outputs": [
    {
     "data": {
      "text/html": [
       "<div>\n",
       "<style scoped>\n",
       "    .dataframe tbody tr th:only-of-type {\n",
       "        vertical-align: middle;\n",
       "    }\n",
       "\n",
       "    .dataframe tbody tr th {\n",
       "        vertical-align: top;\n",
       "    }\n",
       "\n",
       "    .dataframe thead th {\n",
       "        text-align: right;\n",
       "    }\n",
       "</style>\n",
       "<table border=\"1\" class=\"dataframe\">\n",
       "  <thead>\n",
       "    <tr style=\"text-align: right;\">\n",
       "      <th></th>\n",
       "      <th>id</th>\n",
       "      <th>diagnosis</th>\n",
       "      <th>radius_mean</th>\n",
       "      <th>texture_mean</th>\n",
       "      <th>perimeter_mean</th>\n",
       "      <th>area_mean</th>\n",
       "      <th>smoothness_mean</th>\n",
       "      <th>compactness_mean</th>\n",
       "      <th>concavity_mean</th>\n",
       "      <th>concave_points_mean</th>\n",
       "      <th>...</th>\n",
       "      <th>radius_worst</th>\n",
       "      <th>texture_worst</th>\n",
       "      <th>perimeter_worst</th>\n",
       "      <th>area_worst</th>\n",
       "      <th>smoothness_worst</th>\n",
       "      <th>compactness_worst</th>\n",
       "      <th>concavity_worst</th>\n",
       "      <th>concave_points_worst</th>\n",
       "      <th>symmetry_worst</th>\n",
       "      <th>fractal_dimension_worst</th>\n",
       "    </tr>\n",
       "  </thead>\n",
       "  <tbody>\n",
       "    <tr>\n",
       "      <th>0</th>\n",
       "      <td>842302</td>\n",
       "      <td>M</td>\n",
       "      <td>17.99</td>\n",
       "      <td>10.38</td>\n",
       "      <td>122.80</td>\n",
       "      <td>1001.0</td>\n",
       "      <td>0.11840</td>\n",
       "      <td>0.27760</td>\n",
       "      <td>0.3001</td>\n",
       "      <td>0.14710</td>\n",
       "      <td>...</td>\n",
       "      <td>25.38</td>\n",
       "      <td>17.33</td>\n",
       "      <td>184.60</td>\n",
       "      <td>2019.0</td>\n",
       "      <td>0.1622</td>\n",
       "      <td>0.6656</td>\n",
       "      <td>0.7119</td>\n",
       "      <td>0.2654</td>\n",
       "      <td>0.4601</td>\n",
       "      <td>0.11890</td>\n",
       "    </tr>\n",
       "    <tr>\n",
       "      <th>1</th>\n",
       "      <td>842517</td>\n",
       "      <td>M</td>\n",
       "      <td>20.57</td>\n",
       "      <td>17.77</td>\n",
       "      <td>132.90</td>\n",
       "      <td>1326.0</td>\n",
       "      <td>0.08474</td>\n",
       "      <td>0.07864</td>\n",
       "      <td>0.0869</td>\n",
       "      <td>0.07017</td>\n",
       "      <td>...</td>\n",
       "      <td>24.99</td>\n",
       "      <td>23.41</td>\n",
       "      <td>158.80</td>\n",
       "      <td>1956.0</td>\n",
       "      <td>0.1238</td>\n",
       "      <td>0.1866</td>\n",
       "      <td>0.2416</td>\n",
       "      <td>0.1860</td>\n",
       "      <td>0.2750</td>\n",
       "      <td>0.08902</td>\n",
       "    </tr>\n",
       "    <tr>\n",
       "      <th>2</th>\n",
       "      <td>84300903</td>\n",
       "      <td>M</td>\n",
       "      <td>19.69</td>\n",
       "      <td>21.25</td>\n",
       "      <td>130.00</td>\n",
       "      <td>1203.0</td>\n",
       "      <td>0.10960</td>\n",
       "      <td>0.15990</td>\n",
       "      <td>0.1974</td>\n",
       "      <td>0.12790</td>\n",
       "      <td>...</td>\n",
       "      <td>23.57</td>\n",
       "      <td>25.53</td>\n",
       "      <td>152.50</td>\n",
       "      <td>1709.0</td>\n",
       "      <td>0.1444</td>\n",
       "      <td>0.4245</td>\n",
       "      <td>0.4504</td>\n",
       "      <td>0.2430</td>\n",
       "      <td>0.3613</td>\n",
       "      <td>0.08758</td>\n",
       "    </tr>\n",
       "    <tr>\n",
       "      <th>3</th>\n",
       "      <td>84348301</td>\n",
       "      <td>M</td>\n",
       "      <td>11.42</td>\n",
       "      <td>20.38</td>\n",
       "      <td>77.58</td>\n",
       "      <td>386.1</td>\n",
       "      <td>0.14250</td>\n",
       "      <td>0.28390</td>\n",
       "      <td>0.2414</td>\n",
       "      <td>0.10520</td>\n",
       "      <td>...</td>\n",
       "      <td>14.91</td>\n",
       "      <td>26.50</td>\n",
       "      <td>98.87</td>\n",
       "      <td>567.7</td>\n",
       "      <td>0.2098</td>\n",
       "      <td>0.8663</td>\n",
       "      <td>0.6869</td>\n",
       "      <td>0.2575</td>\n",
       "      <td>0.6638</td>\n",
       "      <td>0.17300</td>\n",
       "    </tr>\n",
       "    <tr>\n",
       "      <th>4</th>\n",
       "      <td>84358402</td>\n",
       "      <td>M</td>\n",
       "      <td>20.29</td>\n",
       "      <td>14.34</td>\n",
       "      <td>135.10</td>\n",
       "      <td>1297.0</td>\n",
       "      <td>0.10030</td>\n",
       "      <td>0.13280</td>\n",
       "      <td>0.1980</td>\n",
       "      <td>0.10430</td>\n",
       "      <td>...</td>\n",
       "      <td>22.54</td>\n",
       "      <td>16.67</td>\n",
       "      <td>152.20</td>\n",
       "      <td>1575.0</td>\n",
       "      <td>0.1374</td>\n",
       "      <td>0.2050</td>\n",
       "      <td>0.4000</td>\n",
       "      <td>0.1625</td>\n",
       "      <td>0.2364</td>\n",
       "      <td>0.07678</td>\n",
       "    </tr>\n",
       "  </tbody>\n",
       "</table>\n",
       "<p>5 rows × 32 columns</p>\n",
       "</div>"
      ],
      "text/plain": [
       "         id diagnosis  radius_mean  texture_mean  perimeter_mean  area_mean  \\\n",
       "0    842302         M        17.99         10.38          122.80     1001.0   \n",
       "1    842517         M        20.57         17.77          132.90     1326.0   \n",
       "2  84300903         M        19.69         21.25          130.00     1203.0   \n",
       "3  84348301         M        11.42         20.38           77.58      386.1   \n",
       "4  84358402         M        20.29         14.34          135.10     1297.0   \n",
       "\n",
       "   smoothness_mean  compactness_mean  concavity_mean  concave_points_mean  \\\n",
       "0          0.11840           0.27760          0.3001              0.14710   \n",
       "1          0.08474           0.07864          0.0869              0.07017   \n",
       "2          0.10960           0.15990          0.1974              0.12790   \n",
       "3          0.14250           0.28390          0.2414              0.10520   \n",
       "4          0.10030           0.13280          0.1980              0.10430   \n",
       "\n",
       "            ...             radius_worst  texture_worst  perimeter_worst  \\\n",
       "0           ...                    25.38          17.33           184.60   \n",
       "1           ...                    24.99          23.41           158.80   \n",
       "2           ...                    23.57          25.53           152.50   \n",
       "3           ...                    14.91          26.50            98.87   \n",
       "4           ...                    22.54          16.67           152.20   \n",
       "\n",
       "   area_worst  smoothness_worst  compactness_worst  concavity_worst  \\\n",
       "0      2019.0            0.1622             0.6656           0.7119   \n",
       "1      1956.0            0.1238             0.1866           0.2416   \n",
       "2      1709.0            0.1444             0.4245           0.4504   \n",
       "3       567.7            0.2098             0.8663           0.6869   \n",
       "4      1575.0            0.1374             0.2050           0.4000   \n",
       "\n",
       "   concave_points_worst  symmetry_worst  fractal_dimension_worst  \n",
       "0                0.2654          0.4601                  0.11890  \n",
       "1                0.1860          0.2750                  0.08902  \n",
       "2                0.2430          0.3613                  0.08758  \n",
       "3                0.2575          0.6638                  0.17300  \n",
       "4                0.1625          0.2364                  0.07678  \n",
       "\n",
       "[5 rows x 32 columns]"
      ]
     },
     "execution_count": 36,
     "metadata": {},
     "output_type": "execute_result"
    }
   ],
   "source": [
    "bc_data.head()"
   ]
  },
  {
   "cell_type": "code",
   "execution_count": 37,
   "metadata": {
    "collapsed": false
   },
   "outputs": [
    {
     "data": {
      "text/plain": [
       "Index(['id', 'diagnosis', 'radius_mean', 'texture_mean', 'perimeter_mean',\n",
       "       'area_mean', 'smoothness_mean', 'compactness_mean', 'concavity_mean',\n",
       "       'concave_points_mean', 'symmetry_mean', 'fractal_dimension_mean',\n",
       "       'radius_se', 'texture_se', 'perimeter_se', 'area_se', 'smoothness_se',\n",
       "       'compactness_se', 'concavity_se', 'concave_points_se', 'symmetry_se',\n",
       "       'fractal_dimension_se', 'radius_worst', 'texture_worst',\n",
       "       'perimeter_worst', 'area_worst', 'smoothness_worst',\n",
       "       'compactness_worst', 'concavity_worst', 'concave_points_worst',\n",
       "       'symmetry_worst', 'fractal_dimension_worst'],\n",
       "      dtype='object')"
      ]
     },
     "execution_count": 37,
     "metadata": {},
     "output_type": "execute_result"
    }
   ],
   "source": [
    "bc_data.columns"
   ]
  },
  {
   "cell_type": "code",
   "execution_count": 63,
   "metadata": {
    "collapsed": false
   },
   "outputs": [
    {
     "name": "stdout",
     "output_type": "stream",
     "text": [
      "max features: 5, max depth: 9, n estimators: 500\n"
     ]
    }
   ],
   "source": [
    "from sklearn.utils import shuffle\n",
    "from sklearn.ensemble import RandomForestRegressor\n",
    "from sklearn.model_selection import GridSearchCV\n",
    "\n",
    "# save outcome\n",
    "outcome = bc_data.pop('diagnosis').replace({'M': 1, 'B':0})\n",
    "\n",
    "# only include attribute means (for now)\n",
    "attributes = ['radius_mean', 'texture_mean', 'perimeter_mean', 'area_mean',\n",
    "              'smoothness_mean', 'compactness_mean', 'concavity_mean', \n",
    "              'concave_points_mean', 'symmetry_mean', 'fractal_dimension_mean']\n",
    "bc_clean = bc_data.filter(items=attributes)\n",
    "\n",
    "# udpate X and y\n",
    "X = bc_clean\n",
    "y = outcome\n",
    "\n",
    "# set params to search\n",
    "params = {\n",
    "    'max_features': [1, 3, 5, 10],\n",
    "    'max_depth': [1, 5, 7, 9,11],\n",
    "    'n_estimators': [10, 50, 300, 500]\n",
    "}\n",
    "\n",
    "# run model\n",
    "rf = RandomForestRegressor()\n",
    "grid = GridSearchCV(rf, params)\n",
    "\n",
    "grid.fit(*shuffle(X, y))\n",
    "best = grid.best_estimator_\n",
    "\n",
    "print(\"max features: {}, max depth: {}, n estimators: {}\".format(best.max_features, \n",
    "                                                                 best.max_depth, \n",
    "                                                                 best.n_estimators))"
   ]
  },
  {
   "cell_type": "code",
   "execution_count": 64,
   "metadata": {
    "collapsed": true
   },
   "outputs": [],
   "source": [
    "g=grid.cv_results_.get('params')\n",
    "r=grid.cv_results_.get('split0_test_score')\n",
    "bests=pd.DataFrame.from_dict(g)"
   ]
  },
  {
   "cell_type": "code",
   "execution_count": 65,
   "metadata": {
    "collapsed": false,
    "scrolled": true
   },
   "outputs": [
    {
     "data": {
      "text/plain": [
       "<matplotlib.collections.PathCollection at 0x1173826d8>"
      ]
     },
     "execution_count": 65,
     "metadata": {},
     "output_type": "execute_result"
    },
    {
     "data": {
      "image/png": "[encoded data removed]",
      "text/plain": [
       "<matplotlib.figure.Figure at 0x11738aef0>"
      ]
     },
     "metadata": {},
     "output_type": "display_data"
    }
   ],
   "source": [
    "plt.scatter(bests.max_depth,r)"
   ]
  },
  {
   "cell_type": "markdown",
   "metadata": {},
   "source": [
    "It seems like the classifier works best at a medium depth (around 7 or 9), which makes sense when we think about overfitting/underfitting. If there isn't enough depth in the model, the model can't make as many decisions to differentiate classes, so the model is not as good. However, at higher depth, we are splitting each leaf to be so small that it probably won't be very accurate/ will overfit."
   ]
  },
  {
   "cell_type": "code",
   "execution_count": 66,
   "metadata": {
    "collapsed": false
   },
   "outputs": [
    {
     "data": {
      "text/plain": [
       "<matplotlib.collections.PathCollection at 0x1168b4588>"
      ]
     },
     "execution_count": 66,
     "metadata": {},
     "output_type": "execute_result"
    },
    {
     "data": {
      "image/png": "[encoded data removed]",
      "text/plain": [
       "<matplotlib.figure.Figure at 0x1163e6400>"
      ]
     },
     "metadata": {},
     "output_type": "display_data"
    }
   ],
   "source": [
    "plt.scatter(bests.max_features,r)"
   ]
  },
  {
   "cell_type": "markdown",
   "metadata": {},
   "source": [
    "The score doesn't seem to be as dependent on the maximum number of features, also it also seems to do best in a middle range at around 6 features. Same explanation as above."
   ]
  },
  {
   "cell_type": "code",
   "execution_count": 67,
   "metadata": {
    "collapsed": false
   },
   "outputs": [
    {
     "data": {
      "text/plain": [
       "<matplotlib.collections.PathCollection at 0x116e632b0>"
      ]
     },
     "execution_count": 67,
     "metadata": {},
     "output_type": "execute_result"
    },
    {
     "data": {
      "image/png": "[encoded data removed]",
      "text/plain": [
       "<matplotlib.figure.Figure at 0x116c68b70>"
      ]
     },
     "metadata": {},
     "output_type": "display_data"
    }
   ],
   "source": [
    "plt.scatter(bests.n_estimators,r)"
   ]
  },
  {
   "cell_type": "markdown",
   "metadata": {},
   "source": [
    "This probably does have an effect, but I'm not seeing it here."
   ]
  },
  {
   "cell_type": "code",
   "execution_count": 72,
   "metadata": {
    "collapsed": false
   },
   "outputs": [
    {
     "ename": "AttributeError",
     "evalue": "'RandomForestRegressor' object has no attribute 'estimators_'",
     "output_type": "error",
     "traceback": [
      "\u001b[0;31m---------------------------------------------------------------------------\u001b[0m",
      "\u001b[0;31mAttributeError\u001b[0m                            Traceback (most recent call last)",
      "\u001b[0;32m<ipython-input-72-7c18ca40ae46>\u001b[0m in \u001b[0;36m<module>\u001b[0;34m()\u001b[0m\n\u001b[1;32m      1\u001b[0m \u001b[0mcolors\u001b[0m \u001b[0;34m=\u001b[0m \u001b[0;34m'#1b9e77'\u001b[0m\u001b[0;34m,\u001b[0m\u001b[0;34m'#d95f02'\u001b[0m\u001b[0;34m,\u001b[0m\u001b[0;34m'#7570b3'\u001b[0m\u001b[0;34m,\u001b[0m\u001b[0;34m'#e7298a'\u001b[0m\u001b[0;34m,\u001b[0m\u001b[0;34m'#66a61e'\u001b[0m\u001b[0;34m,\u001b[0m\u001b[0;34m'#e6ab02'\u001b[0m\u001b[0;34m,\u001b[0m\u001b[0;34m'#a6761d'\u001b[0m\u001b[0;34m,\u001b[0m\u001b[0;34m'#666666'\u001b[0m\u001b[0;34m\u001b[0m\u001b[0m\n\u001b[1;32m      2\u001b[0m \u001b[0mest\u001b[0m\u001b[0;34m=\u001b[0m\u001b[0mrf\u001b[0m\u001b[0;34m\u001b[0m\u001b[0m\n\u001b[0;32m----> 3\u001b[0;31m \u001b[0mn_estimators\u001b[0m \u001b[0;34m=\u001b[0m \u001b[0mlen\u001b[0m\u001b[0;34m(\u001b[0m\u001b[0mest\u001b[0m\u001b[0;34m.\u001b[0m\u001b[0mestimators_\u001b[0m\u001b[0;34m)\u001b[0m\u001b[0;34m\u001b[0m\u001b[0m\n\u001b[0m\u001b[1;32m      4\u001b[0m \u001b[0;34m\u001b[0m\u001b[0m\n\u001b[1;32m      5\u001b[0m def deviance_plot(est, X_test, y_test, ax=None, label='', train_color=colors[0], \n",
      "\u001b[0;31mAttributeError\u001b[0m: 'RandomForestRegressor' object has no attribute 'estimators_'"
     ]
    }
   ],
   "source": [
    "colors = '#1b9e77','#d95f02','#7570b3','#e7298a','#66a61e','#e6ab02','#a6761d','#666666'\n",
    "est=rf\n",
    "n_estimators = len(est.estimators_)\n",
    "\n",
    "def deviance_plot(est, X_test, y_test, ax=None, label='', train_color=colors[0], \n",
    "                  test_color=colors[1], alpha=1.0):\n",
    "\n",
    "    test_dev = np.array([est.loss_(y_test, pred) for pred in est.staged_predict(X_test)])\n",
    "\n",
    "    if ax is None:\n",
    "        fig = plt.figure(figsize=(8, 5))\n",
    "        ax = plt.gca()\n",
    "        \n",
    "    ax.plot(np.arange(n_estimators) + 1, test_dev, color=test_color, label='Test %s' % label, \n",
    "             linewidth=2, alpha=alpha)\n",
    "    ax.plot(np.arange(n_estimators) + 1, est.train_score_, color=train_color, \n",
    "             label='Train %s' % label, linewidth=2, alpha=alpha)\n",
    "    ax.set_ylabel('Error')\n",
    "    ax.set_xlabel('n_estimators')\n",
    "    ax.set_ylim((0, 2))\n",
    "    \n",
    "    return test_dev, ax"
   ]
  },
  {
   "cell_type": "markdown",
   "metadata": {},
   "source": [
    "Not sure why I'm getting the error above (I looked in the documentation and RandomForestRegressor **does** have that attribute, but whatever), but this is how I would plot each variable like the plot below (from class notes) to evaluate the sensitivity to the parameters: n_estimators, max_depth, and max_features.\n",
    "\n",
    "![Screenshot%202017-12-07%2016.42.23.png](attachment:Screenshot%202017-12-07%2016.42.23.png)"
   ]
  },
  {
   "cell_type": "code",
   "execution_count": 73,
   "metadata": {
    "collapsed": false
   },
   "outputs": [
    {
     "ename": "NameError",
     "evalue": "name 'deviance_plot' is not defined",
     "output_type": "error",
     "traceback": [
      "\u001b[0;31m---------------------------------------------------------------------------\u001b[0m",
      "\u001b[0;31mNameError\u001b[0m                                 Traceback (most recent call last)",
      "\u001b[0;32m<ipython-input-73-51e2a66b1dcd>\u001b[0m in \u001b[0;36m<module>\u001b[0;34m()\u001b[0m\n\u001b[0;32m----> 1\u001b[0;31m \u001b[0mtest_dev\u001b[0m\u001b[0;34m,\u001b[0m \u001b[0max\u001b[0m \u001b[0;34m=\u001b[0m \u001b[0mdeviance_plot\u001b[0m\u001b[0;34m(\u001b[0m\u001b[0mest\u001b[0m\u001b[0;34m,\u001b[0m \u001b[0mX_test\u001b[0m\u001b[0;34m,\u001b[0m \u001b[0my_test\u001b[0m\u001b[0;34m)\u001b[0m\u001b[0;34m\u001b[0m\u001b[0m\n\u001b[0m\u001b[1;32m      2\u001b[0m \u001b[0max\u001b[0m\u001b[0;34m.\u001b[0m\u001b[0mlegend\u001b[0m\u001b[0;34m(\u001b[0m\u001b[0mloc\u001b[0m\u001b[0;34m=\u001b[0m\u001b[0;34m'upper right'\u001b[0m\u001b[0;34m)\u001b[0m\u001b[0;34m\u001b[0m\u001b[0m\n\u001b[1;32m      3\u001b[0m \u001b[0;34m\u001b[0m\u001b[0m\n\u001b[1;32m      4\u001b[0m \u001b[0;31m# add some annotations\u001b[0m\u001b[0;34m\u001b[0m\u001b[0;34m\u001b[0m\u001b[0m\n\u001b[1;32m      5\u001b[0m ax.annotate('Lowest test error', xy=(test_dev.argmin() + 1, test_dev.min() + 0.02), xycoords='data',\n",
      "\u001b[0;31mNameError\u001b[0m: name 'deviance_plot' is not defined"
     ]
    }
   ],
   "source": [
    "test_dev, ax = deviance_plot(est, X_test, y_test)\n",
    "ax.legend(loc='upper right')\n",
    "\n",
    "# add some annotations\n",
    "ax.annotate('Lowest test error', xy=(test_dev.argmin() + 1, test_dev.min() + 0.02), xycoords='data',\n",
    "            xytext=(150, 1.0), textcoords='data',\n",
    "            arrowprops=dict(arrowstyle=\"->\", connectionstyle=\"arc\"),\n",
    "            )\n",
    "\n",
    "ann = ax.annotate('', xy=(800, test_dev[799]),  xycoords='data',\n",
    "                  xytext=(800, est.train_score_[799]), textcoords='data',\n",
    "                  arrowprops=dict(arrowstyle=\"<->\"))\n",
    "ax.text(810, 0.25, 'train-test gap');"
   ]
  },
  {
   "cell_type": "markdown",
   "metadata": {},
   "source": [
    "> See solution for implementation:\n",
    "    \n",
    "> Q3: 15/25\n"
   ]
  },
  {
   "cell_type": "markdown",
   "metadata": {},
   "source": [
    "## Question 4\n",
    "\n",
    "Use a grid search to optimize the number of estimators and max_depth for a Gradient Boosted Decision tree using the Wisconsin breast cancer data. Plug this optimal ``max_depth`` into a *single* decision tree.  Does this single tree over-fit or under-fit the data? Repeat this for the Random Forest.  Construct a single decision tree using the ``max_depth`` which is optimal for the Random Forest.  Does this single tree over-fit or under-fit the data?"
   ]
  },
  {
   "cell_type": "markdown",
   "metadata": {},
   "source": [
    "Using the Gradient Boosted Decision Tree, we can get out the best values for max_depth:"
   ]
  },
  {
   "cell_type": "code",
   "execution_count": 21,
   "metadata": {
    "collapsed": false
   },
   "outputs": [
    {
     "name": "stdout",
     "output_type": "stream",
     "text": [
      "max features: 3, max depth: 7, learning_rate: 0.2\n"
     ]
    }
   ],
   "source": [
    "from sklearn.utils import shuffle\n",
    "from sklearn.ensemble import RandomForestRegressor\n",
    "from sklearn.model_selection import GridSearchCV\n",
    "from sklearn.ensemble import GradientBoostingClassifier, GradientBoostingRegressor\n",
    "# save outcome\n",
    "outcome = bc_data.pop('diagnosis').replace({'M': 1, 'B':0})\n",
    "\n",
    "# only include attribute means (for now)\n",
    "attributes = ['radius_mean', 'texture_mean', 'perimeter_mean', 'area_mean',\n",
    "              'smoothness_mean', 'compactness_mean', 'concavity_mean', \n",
    "              'concave_points_mean', 'symmetry_mean', 'fractal_dimension_mean']\n",
    "bc_clean = bc_data.filter(items=attributes)\n",
    "\n",
    "# udpate X and y\n",
    "X = bc_clean\n",
    "y = outcome\n",
    "\n",
    "# set params to search\n",
    "params = {\n",
    "    'max_features': [1, 3, 5, 10],\n",
    "    'max_depth': [1, 5, 7, 9],\n",
    "    'learning_rate': [.2,.6,.8,1]\n",
    "}\n",
    "\n",
    "# run model\n",
    "rf = GradientBoostingRegressor()\n",
    "grid = GridSearchCV(rf, params)\n",
    "\n",
    "grid.fit(*shuffle(X, y))\n",
    "best = grid.best_estimator_\n",
    "\n",
    "print(\"max features: {}, max depth: {}, learning_rate: {}\".format(best.max_features, \n",
    "                                                                 best.max_depth, \n",
    "                                                                 best.learning_rate))"
   ]
  },
  {
   "cell_type": "markdown",
   "metadata": {},
   "source": [
    "The optimal max depth is 7, so we'll plug this into a single decision tree."
   ]
  },
  {
   "cell_type": "code",
   "execution_count": 23,
   "metadata": {
    "collapsed": false
   },
   "outputs": [
    {
     "data": {
      "text/plain": [
       "DecisionTreeClassifier(class_weight=None, criterion='entropy', max_depth=7,\n",
       "            max_features='auto', max_leaf_nodes=None,\n",
       "            min_impurity_decrease=0.0, min_impurity_split=None,\n",
       "            min_samples_leaf=10, min_samples_split=2,\n",
       "            min_weight_fraction_leaf=0.0, presort=False, random_state=None,\n",
       "            splitter='best')"
      ]
     },
     "execution_count": 23,
     "metadata": {},
     "output_type": "execute_result"
    }
   ],
   "source": [
    "from sklearn import tree\n",
    "from sklearn import model_selection\n",
    "\n",
    "X_train, X_test, y_train, y_test = model_selection.train_test_split(\n",
    "        X, y, test_size=0.4, random_state=0)\n",
    "\n",
    "clf = tree.DecisionTreeClassifier(criterion='entropy',\n",
    "                                  max_features=\"auto\",\n",
    "                                  max_depth=7,\n",
    "                                  min_samples_leaf=10)\n",
    "clf.fit(X_train, y_train)"
   ]
  },
  {
   "cell_type": "code",
   "execution_count": 24,
   "metadata": {
    "collapsed": false
   },
   "outputs": [
    {
     "data": {
      "image/svg+xml": [
       "<?xml version=\"1.0\" encoding=\"UTF-8\" standalone=\"no\"?>\n",
       "<!DOCTYPE svg PUBLIC \"-//W3C//DTD SVG 1.1//EN\"\n",
       " \"http://www.w3.org/Graphics/SVG/1.1/DTD/svg11.dtd\">\n",
       "<!-- Generated by graphviz version 2.38.0 (20140413.2041)\n",
       " -->\n",
       "<!-- Title: Tree Pages: 1 -->\n",
       "<svg width=\"866pt\" height=\"558pt\"\n",
       " viewBox=\"0.00 0.00 866.01 558.00\" xmlns=\"http://www.w3.org/2000/svg\" xmlns:xlink=\"http://www.w3.org/1999/xlink\">\n",
       "<g id=\"graph0\" class=\"graph\" transform=\"scale(1 1) rotate(0) translate(4 554)\">\n",
       "<title>Tree</title>\n",
       "<polygon fill=\"white\" stroke=\"none\" points=\"-4,4 -4,-554 862.013,-554 862.013,4 -4,4\"/>\n",
       "<!-- 0 -->\n",
       "<g id=\"node1\" class=\"node\"><title>0</title>\n",
       "<path fill=\"#e58139\" fill-opacity=\"0.392157\" stroke=\"black\" d=\"M519.936,-550C519.936,-550 337.75,-550 337.75,-550 331.75,-550 325.75,-544 325.75,-538 325.75,-538 325.75,-498 325.75,-498 325.75,-492 331.75,-486 337.75,-486 337.75,-486 519.936,-486 519.936,-486 525.936,-486 531.936,-492 531.936,-498 531.936,-498 531.936,-538 531.936,-538 531.936,-544 525.936,-550 519.936,-550\"/>\n",
       "<text text-anchor=\"start\" x=\"333.546\" y=\"-534.8\" font-family=\"Helvetica,sans-Serif\" font-size=\"14.00\">concave_points_mean ≤ 0.049</text>\n",
       "<text text-anchor=\"start\" x=\"380\" y=\"-520.8\" font-family=\"Helvetica,sans-Serif\" font-size=\"14.00\">entropy = 0.957</text>\n",
       "<text text-anchor=\"start\" x=\"383.121\" y=\"-506.8\" font-family=\"Helvetica,sans-Serif\" font-size=\"14.00\">samples = 341</text>\n",
       "<text text-anchor=\"start\" x=\"372.993\" y=\"-492.8\" font-family=\"Helvetica,sans-Serif\" font-size=\"14.00\">value = [212, 129]</text>\n",
       "</g>\n",
       "<!-- 1 -->\n",
       "<g id=\"node2\" class=\"node\"><title>1</title>\n",
       "<path fill=\"#e58139\" fill-opacity=\"0.968627\" stroke=\"black\" d=\"M405.031,-450C405.031,-450 274.654,-450 274.654,-450 268.654,-450 262.654,-444 262.654,-438 262.654,-438 262.654,-398 262.654,-398 262.654,-392 268.654,-386 274.654,-386 274.654,-386 405.031,-386 405.031,-386 411.031,-386 417.031,-392 417.031,-398 417.031,-398 417.031,-438 417.031,-438 417.031,-444 411.031,-450 405.031,-450\"/>\n",
       "<text text-anchor=\"start\" x=\"270.749\" y=\"-434.8\" font-family=\"Helvetica,sans-Serif\" font-size=\"14.00\">radius_mean ≤ 11.755</text>\n",
       "<text text-anchor=\"start\" x=\"291\" y=\"-420.8\" font-family=\"Helvetica,sans-Serif\" font-size=\"14.00\">entropy = 0.194</text>\n",
       "<text text-anchor=\"start\" x=\"294.121\" y=\"-406.8\" font-family=\"Helvetica,sans-Serif\" font-size=\"14.00\">samples = 201</text>\n",
       "<text text-anchor=\"start\" x=\"291.779\" y=\"-392.8\" font-family=\"Helvetica,sans-Serif\" font-size=\"14.00\">value = [195, 6]</text>\n",
       "</g>\n",
       "<!-- 0&#45;&gt;1 -->\n",
       "<g id=\"edge1\" class=\"edge\"><title>0&#45;&gt;1</title>\n",
       "<path fill=\"none\" stroke=\"black\" d=\"M400.683,-485.992C392.485,-476.966 383.428,-466.993 374.863,-457.562\"/>\n",
       "<polygon fill=\"black\" stroke=\"black\" points=\"377.439,-455.192 368.125,-450.142 372.257,-459.898 377.439,-455.192\"/>\n",
       "<text text-anchor=\"middle\" x=\"366.923\" y=\"-470.914\" font-family=\"Helvetica,sans-Serif\" font-size=\"14.00\">True</text>\n",
       "</g>\n",
       "<!-- 10 -->\n",
       "<g id=\"node11\" class=\"node\"><title>10</title>\n",
       "<path fill=\"#399de5\" fill-opacity=\"0.862745\" stroke=\"black\" d=\"M590.505,-450C590.505,-450 447.18,-450 447.18,-450 441.18,-450 435.18,-444 435.18,-438 435.18,-438 435.18,-398 435.18,-398 435.18,-392 441.18,-386 447.18,-386 447.18,-386 590.505,-386 590.505,-386 596.505,-386 602.505,-392 602.505,-398 602.505,-398 602.505,-438 602.505,-438 602.505,-444 596.505,-450 590.505,-450\"/>\n",
       "<text text-anchor=\"start\" x=\"443.012\" y=\"-434.8\" font-family=\"Helvetica,sans-Serif\" font-size=\"14.00\">concavity_mean ≤ 0.093</text>\n",
       "<text text-anchor=\"start\" x=\"470\" y=\"-420.8\" font-family=\"Helvetica,sans-Serif\" font-size=\"14.00\">entropy = 0.533</text>\n",
       "<text text-anchor=\"start\" x=\"473.121\" y=\"-406.8\" font-family=\"Helvetica,sans-Serif\" font-size=\"14.00\">samples = 140</text>\n",
       "<text text-anchor=\"start\" x=\"466.886\" y=\"-392.8\" font-family=\"Helvetica,sans-Serif\" font-size=\"14.00\">value = [17, 123]</text>\n",
       "</g>\n",
       "<!-- 0&#45;&gt;10 -->\n",
       "<g id=\"edge10\" class=\"edge\"><title>0&#45;&gt;10</title>\n",
       "<path fill=\"none\" stroke=\"black\" d=\"M457.319,-485.992C465.609,-476.966 474.767,-466.993 483.429,-457.562\"/>\n",
       "<polygon fill=\"black\" stroke=\"black\" points=\"486.056,-459.875 490.243,-450.142 480.901,-455.14 486.056,-459.875\"/>\n",
       "<text text-anchor=\"middle\" x=\"491.305\" y=\"-470.92\" font-family=\"Helvetica,sans-Serif\" font-size=\"14.00\">False</text>\n",
       "</g>\n",
       "<!-- 2 -->\n",
       "<g id=\"node3\" class=\"node\"><title>2</title>\n",
       "<path fill=\"#e58139\" stroke=\"black\" d=\"M243.184,-343C243.184,-343 162.501,-343 162.501,-343 156.501,-343 150.501,-337 150.501,-331 150.501,-331 150.501,-305 150.501,-305 150.501,-299 156.501,-293 162.501,-293 162.501,-293 243.184,-293 243.184,-293 249.184,-293 255.184,-299 255.184,-305 255.184,-305 255.184,-331 255.184,-331 255.184,-337 249.184,-343 243.184,-343\"/>\n",
       "<text text-anchor=\"start\" x=\"161.786\" y=\"-327.8\" font-family=\"Helvetica,sans-Serif\" font-size=\"14.00\">entropy = 0.0</text>\n",
       "<text text-anchor=\"start\" x=\"161.014\" y=\"-313.8\" font-family=\"Helvetica,sans-Serif\" font-size=\"14.00\">samples = 80</text>\n",
       "<text text-anchor=\"start\" x=\"158.672\" y=\"-299.8\" font-family=\"Helvetica,sans-Serif\" font-size=\"14.00\">value = [80, 0]</text>\n",
       "</g>\n",
       "<!-- 1&#45;&gt;2 -->\n",
       "<g id=\"edge2\" class=\"edge\"><title>1&#45;&gt;2</title>\n",
       "<path fill=\"none\" stroke=\"black\" d=\"M296.495,-385.992C280.073,-374.245 261.412,-360.896 245.092,-349.222\"/>\n",
       "<polygon fill=\"black\" stroke=\"black\" points=\"246.966,-346.259 236.796,-343.288 242.893,-351.952 246.966,-346.259\"/>\n",
       "</g>\n",
       "<!-- 3 -->\n",
       "<g id=\"node4\" class=\"node\"><title>3</title>\n",
       "<path fill=\"#e58139\" fill-opacity=\"0.949020\" stroke=\"black\" d=\"M412.946,-350C412.946,-350 284.739,-350 284.739,-350 278.739,-350 272.739,-344 272.739,-338 272.739,-338 272.739,-298 272.739,-298 272.739,-292 278.739,-286 284.739,-286 284.739,-286 412.946,-286 412.946,-286 418.946,-286 424.946,-292 424.946,-298 424.946,-298 424.946,-338 424.946,-338 424.946,-344 418.946,-350 412.946,-350\"/>\n",
       "<text text-anchor=\"start\" x=\"280.791\" y=\"-334.8\" font-family=\"Helvetica,sans-Serif\" font-size=\"14.00\">texture_mean ≤ 21.56</text>\n",
       "<text text-anchor=\"start\" x=\"300\" y=\"-320.8\" font-family=\"Helvetica,sans-Serif\" font-size=\"14.00\">entropy = 0.285</text>\n",
       "<text text-anchor=\"start\" x=\"303.121\" y=\"-306.8\" font-family=\"Helvetica,sans-Serif\" font-size=\"14.00\">samples = 121</text>\n",
       "<text text-anchor=\"start\" x=\"301.295\" y=\"-292.8\" font-family=\"Helvetica,sans-Serif\" font-size=\"14.00\">value = [115, 6]</text>\n",
       "</g>\n",
       "<!-- 1&#45;&gt;3 -->\n",
       "<g id=\"edge3\" class=\"edge\"><title>1&#45;&gt;3</title>\n",
       "<path fill=\"none\" stroke=\"black\" d=\"M342.69,-385.992C343.437,-377.859 344.255,-368.959 345.043,-360.378\"/>\n",
       "<polygon fill=\"black\" stroke=\"black\" points=\"348.553,-360.421 345.983,-350.142 341.583,-359.78 348.553,-360.421\"/>\n",
       "</g>\n",
       "<!-- 4 -->\n",
       "<g id=\"node5\" class=\"node\"><title>4</title>\n",
       "<path fill=\"#e58139\" fill-opacity=\"0.988235\" stroke=\"black\" d=\"M241.453,-250C241.453,-250 120.232,-250 120.232,-250 114.232,-250 108.232,-244 108.232,-238 108.232,-238 108.232,-198 108.232,-198 108.232,-192 114.232,-186 120.232,-186 120.232,-186 241.453,-186 241.453,-186 247.453,-186 253.453,-192 253.453,-198 253.453,-198 253.453,-238 253.453,-238 253.453,-244 247.453,-250 241.453,-250\"/>\n",
       "<text text-anchor=\"start\" x=\"116.288\" y=\"-234.8\" font-family=\"Helvetica,sans-Serif\" font-size=\"14.00\">area_mean ≤ 444.25</text>\n",
       "<text text-anchor=\"start\" x=\"132\" y=\"-220.8\" font-family=\"Helvetica,sans-Serif\" font-size=\"14.00\">entropy = 0.082</text>\n",
       "<text text-anchor=\"start\" x=\"139.014\" y=\"-206.8\" font-family=\"Helvetica,sans-Serif\" font-size=\"14.00\">samples = 98</text>\n",
       "<text text-anchor=\"start\" x=\"136.672\" y=\"-192.8\" font-family=\"Helvetica,sans-Serif\" font-size=\"14.00\">value = [97, 1]</text>\n",
       "</g>\n",
       "<!-- 3&#45;&gt;4 -->\n",
       "<g id=\"edge4\" class=\"edge\"><title>3&#45;&gt;4</title>\n",
       "<path fill=\"none\" stroke=\"black\" d=\"M295.687,-285.992C278.987,-276.251 260.399,-265.408 243.126,-255.332\"/>\n",
       "<polygon fill=\"black\" stroke=\"black\" points=\"244.631,-252.158 234.23,-250.142 241.104,-258.204 244.631,-252.158\"/>\n",
       "</g>\n",
       "<!-- 7 -->\n",
       "<g id=\"node8\" class=\"node\"><title>7</title>\n",
       "<path fill=\"#e58139\" fill-opacity=\"0.721569\" stroke=\"black\" d=\"M436.064,-250C436.064,-250 283.622,-250 283.622,-250 277.622,-250 271.622,-244 271.622,-238 271.622,-238 271.622,-198 271.622,-198 271.622,-192 277.622,-186 283.622,-186 283.622,-186 436.064,-186 436.064,-186 442.064,-186 448.064,-192 448.064,-198 448.064,-198 448.064,-238 448.064,-238 448.064,-244 442.064,-250 436.064,-250\"/>\n",
       "<text text-anchor=\"start\" x=\"279.732\" y=\"-234.8\" font-family=\"Helvetica,sans-Serif\" font-size=\"14.00\">perimeter_mean ≤ 86.035</text>\n",
       "<text text-anchor=\"start\" x=\"311\" y=\"-220.8\" font-family=\"Helvetica,sans-Serif\" font-size=\"14.00\">entropy = 0.755</text>\n",
       "<text text-anchor=\"start\" x=\"318.014\" y=\"-206.8\" font-family=\"Helvetica,sans-Serif\" font-size=\"14.00\">samples = 23</text>\n",
       "<text text-anchor=\"start\" x=\"315.672\" y=\"-192.8\" font-family=\"Helvetica,sans-Serif\" font-size=\"14.00\">value = [18, 5]</text>\n",
       "</g>\n",
       "<!-- 3&#45;&gt;7 -->\n",
       "<g id=\"edge7\" class=\"edge\"><title>3&#45;&gt;7</title>\n",
       "<path fill=\"none\" stroke=\"black\" d=\"M352.323,-285.992C353.246,-277.77 354.257,-268.763 355.23,-260.095\"/>\n",
       "<polygon fill=\"black\" stroke=\"black\" points=\"358.71,-260.47 356.347,-250.142 351.753,-259.69 358.71,-260.47\"/>\n",
       "</g>\n",
       "<!-- 5 -->\n",
       "<g id=\"node6\" class=\"node\"><title>5</title>\n",
       "<path fill=\"#e58139\" fill-opacity=\"0.890196\" stroke=\"black\" d=\"M101.529,-143C101.529,-143 12.1568,-143 12.1568,-143 6.15679,-143 0.156793,-137 0.156793,-131 0.156793,-131 0.156793,-105 0.156793,-105 0.156793,-99 6.15679,-93 12.1568,-93 12.1568,-93 101.529,-93 101.529,-93 107.529,-93 113.529,-99 113.529,-105 113.529,-105 113.529,-131 113.529,-131 113.529,-137 107.529,-143 101.529,-143\"/>\n",
       "<text text-anchor=\"start\" x=\"8\" y=\"-127.8\" font-family=\"Helvetica,sans-Serif\" font-size=\"14.00\">entropy = 0.469</text>\n",
       "<text text-anchor=\"start\" x=\"15.0137\" y=\"-113.8\" font-family=\"Helvetica,sans-Serif\" font-size=\"14.00\">samples = 10</text>\n",
       "<text text-anchor=\"start\" x=\"16.5654\" y=\"-99.8\" font-family=\"Helvetica,sans-Serif\" font-size=\"14.00\">value = [9, 1]</text>\n",
       "</g>\n",
       "<!-- 4&#45;&gt;5 -->\n",
       "<g id=\"edge5\" class=\"edge\"><title>4&#45;&gt;5</title>\n",
       "<path fill=\"none\" stroke=\"black\" d=\"M141.608,-185.992C126.881,-174.353 110.164,-161.141 95.4902,-149.544\"/>\n",
       "<polygon fill=\"black\" stroke=\"black\" points=\"97.5899,-146.742 87.5741,-143.288 93.2495,-152.234 97.5899,-146.742\"/>\n",
       "</g>\n",
       "<!-- 6 -->\n",
       "<g id=\"node7\" class=\"node\"><title>6</title>\n",
       "<path fill=\"#e58139\" stroke=\"black\" d=\"M224.184,-143C224.184,-143 143.501,-143 143.501,-143 137.501,-143 131.501,-137 131.501,-131 131.501,-131 131.501,-105 131.501,-105 131.501,-99 137.501,-93 143.501,-93 143.501,-93 224.184,-93 224.184,-93 230.184,-93 236.184,-99 236.184,-105 236.184,-105 236.184,-131 236.184,-131 236.184,-137 230.184,-143 224.184,-143\"/>\n",
       "<text text-anchor=\"start\" x=\"142.786\" y=\"-127.8\" font-family=\"Helvetica,sans-Serif\" font-size=\"14.00\">entropy = 0.0</text>\n",
       "<text text-anchor=\"start\" x=\"142.014\" y=\"-113.8\" font-family=\"Helvetica,sans-Serif\" font-size=\"14.00\">samples = 88</text>\n",
       "<text text-anchor=\"start\" x=\"139.672\" y=\"-99.8\" font-family=\"Helvetica,sans-Serif\" font-size=\"14.00\">value = [88, 0]</text>\n",
       "</g>\n",
       "<!-- 4&#45;&gt;6 -->\n",
       "<g id=\"edge6\" class=\"edge\"><title>4&#45;&gt;6</title>\n",
       "<path fill=\"none\" stroke=\"black\" d=\"M181.792,-185.992C182.109,-175.646 182.463,-164.057 182.788,-153.465\"/>\n",
       "<polygon fill=\"black\" stroke=\"black\" points=\"186.292,-153.39 183.099,-143.288 179.295,-153.176 186.292,-153.39\"/>\n",
       "</g>\n",
       "<!-- 8 -->\n",
       "<g id=\"node9\" class=\"node\"><title>8</title>\n",
       "<path fill=\"#e58139\" fill-opacity=\"0.819608\" stroke=\"black\" d=\"M369.529,-143C369.529,-143 280.157,-143 280.157,-143 274.157,-143 268.157,-137 268.157,-131 268.157,-131 268.157,-105 268.157,-105 268.157,-99 274.157,-93 280.157,-93 280.157,-93 369.529,-93 369.529,-93 375.529,-93 381.529,-99 381.529,-105 381.529,-105 381.529,-131 381.529,-131 381.529,-137 375.529,-143 369.529,-143\"/>\n",
       "<text text-anchor=\"start\" x=\"276\" y=\"-127.8\" font-family=\"Helvetica,sans-Serif\" font-size=\"14.00\">entropy = 0.619</text>\n",
       "<text text-anchor=\"start\" x=\"283.014\" y=\"-113.8\" font-family=\"Helvetica,sans-Serif\" font-size=\"14.00\">samples = 13</text>\n",
       "<text text-anchor=\"start\" x=\"281.188\" y=\"-99.8\" font-family=\"Helvetica,sans-Serif\" font-size=\"14.00\">value = [11, 2]</text>\n",
       "</g>\n",
       "<!-- 7&#45;&gt;8 -->\n",
       "<g id=\"edge8\" class=\"edge\"><title>7&#45;&gt;8</title>\n",
       "<path fill=\"none\" stroke=\"black\" d=\"M348.769,-185.992C344.997,-175.431 340.762,-163.574 336.916,-152.804\"/>\n",
       "<polygon fill=\"black\" stroke=\"black\" points=\"340.176,-151.528 333.517,-143.288 333.584,-153.882 340.176,-151.528\"/>\n",
       "</g>\n",
       "<!-- 9 -->\n",
       "<g id=\"node10\" class=\"node\"><title>9</title>\n",
       "<path fill=\"#e58139\" fill-opacity=\"0.572549\" stroke=\"black\" d=\"M501.529,-143C501.529,-143 412.157,-143 412.157,-143 406.157,-143 400.157,-137 400.157,-131 400.157,-131 400.157,-105 400.157,-105 400.157,-99 406.157,-93 412.157,-93 412.157,-93 501.529,-93 501.529,-93 507.529,-93 513.529,-99 513.529,-105 513.529,-105 513.529,-131 513.529,-131 513.529,-137 507.529,-143 501.529,-143\"/>\n",
       "<text text-anchor=\"start\" x=\"408\" y=\"-127.8\" font-family=\"Helvetica,sans-Serif\" font-size=\"14.00\">entropy = 0.881</text>\n",
       "<text text-anchor=\"start\" x=\"415.014\" y=\"-113.8\" font-family=\"Helvetica,sans-Serif\" font-size=\"14.00\">samples = 10</text>\n",
       "<text text-anchor=\"start\" x=\"416.565\" y=\"-99.8\" font-family=\"Helvetica,sans-Serif\" font-size=\"14.00\">value = [7, 3]</text>\n",
       "</g>\n",
       "<!-- 7&#45;&gt;9 -->\n",
       "<g id=\"edge9\" class=\"edge\"><title>7&#45;&gt;9</title>\n",
       "<path fill=\"none\" stroke=\"black\" d=\"M390.534,-185.992C401.735,-174.676 414.407,-161.874 425.65,-150.514\"/>\n",
       "<polygon fill=\"black\" stroke=\"black\" points=\"428.256,-152.857 432.803,-143.288 423.281,-147.933 428.256,-152.857\"/>\n",
       "</g>\n",
       "<!-- 11 -->\n",
       "<g id=\"node12\" class=\"node\"><title>11</title>\n",
       "<path fill=\"none\" stroke=\"black\" d=\"M547.502,-343C547.502,-343 472.184,-343 472.184,-343 466.184,-343 460.184,-337 460.184,-331 460.184,-331 460.184,-305 460.184,-305 460.184,-299 466.184,-293 472.184,-293 472.184,-293 547.502,-293 547.502,-293 553.502,-293 559.502,-299 559.502,-305 559.502,-305 559.502,-331 559.502,-331 559.502,-337 553.502,-343 547.502,-343\"/>\n",
       "<text text-anchor=\"start\" x=\"468.786\" y=\"-327.8\" font-family=\"Helvetica,sans-Serif\" font-size=\"14.00\">entropy = 1.0</text>\n",
       "<text text-anchor=\"start\" x=\"468.014\" y=\"-313.8\" font-family=\"Helvetica,sans-Serif\" font-size=\"14.00\">samples = 18</text>\n",
       "<text text-anchor=\"start\" x=\"469.565\" y=\"-299.8\" font-family=\"Helvetica,sans-Serif\" font-size=\"14.00\">value = [9, 9]</text>\n",
       "</g>\n",
       "<!-- 10&#45;&gt;11 -->\n",
       "<g id=\"edge11\" class=\"edge\"><title>10&#45;&gt;11</title>\n",
       "<path fill=\"none\" stroke=\"black\" d=\"M515.995,-385.992C515.045,-375.646 513.981,-364.057 513.008,-353.465\"/>\n",
       "<polygon fill=\"black\" stroke=\"black\" points=\"516.473,-352.926 512.073,-343.288 509.503,-353.566 516.473,-352.926\"/>\n",
       "</g>\n",
       "<!-- 12 -->\n",
       "<g id=\"node13\" class=\"node\"><title>12</title>\n",
       "<path fill=\"#399de5\" fill-opacity=\"0.929412\" stroke=\"black\" d=\"M710.453,-350C710.453,-350 589.232,-350 589.232,-350 583.232,-350 577.232,-344 577.232,-338 577.232,-338 577.232,-298 577.232,-298 577.232,-292 583.232,-286 589.232,-286 589.232,-286 710.453,-286 710.453,-286 716.453,-286 722.453,-292 722.453,-298 722.453,-298 722.453,-338 722.453,-338 722.453,-344 716.453,-350 710.453,-350\"/>\n",
       "<text text-anchor=\"start\" x=\"585.288\" y=\"-334.8\" font-family=\"Helvetica,sans-Serif\" font-size=\"14.00\">area_mean ≤ 748.05</text>\n",
       "<text text-anchor=\"start\" x=\"601\" y=\"-320.8\" font-family=\"Helvetica,sans-Serif\" font-size=\"14.00\">entropy = 0.349</text>\n",
       "<text text-anchor=\"start\" x=\"604.121\" y=\"-306.8\" font-family=\"Helvetica,sans-Serif\" font-size=\"14.00\">samples = 122</text>\n",
       "<text text-anchor=\"start\" x=\"602.295\" y=\"-292.8\" font-family=\"Helvetica,sans-Serif\" font-size=\"14.00\">value = [8, 114]</text>\n",
       "</g>\n",
       "<!-- 10&#45;&gt;12 -->\n",
       "<g id=\"edge12\" class=\"edge\"><title>10&#45;&gt;12</title>\n",
       "<path fill=\"none\" stroke=\"black\" d=\"M560.292,-385.992C572.955,-376.519 587.011,-366.004 600.163,-356.165\"/>\n",
       "<polygon fill=\"black\" stroke=\"black\" points=\"602.303,-358.935 608.214,-350.142 598.11,-353.33 602.303,-358.935\"/>\n",
       "</g>\n",
       "<!-- 13 -->\n",
       "<g id=\"node14\" class=\"node\"><title>13</title>\n",
       "<path fill=\"#399de5\" fill-opacity=\"0.764706\" stroke=\"black\" d=\"M723.629,-250C723.629,-250 556.057,-250 556.057,-250 550.057,-250 544.057,-244 544.057,-238 544.057,-238 544.057,-198 544.057,-198 544.057,-192 550.057,-186 556.057,-186 556.057,-186 723.629,-186 723.629,-186 729.629,-186 735.629,-192 735.629,-198 735.629,-198 735.629,-238 735.629,-238 735.629,-244 729.629,-250 723.629,-250\"/>\n",
       "<text text-anchor=\"start\" x=\"551.95\" y=\"-234.8\" font-family=\"Helvetica,sans-Serif\" font-size=\"14.00\">compactness_mean ≤ 0.168</text>\n",
       "<text text-anchor=\"start\" x=\"591\" y=\"-220.8\" font-family=\"Helvetica,sans-Serif\" font-size=\"14.00\">entropy = 0.702</text>\n",
       "<text text-anchor=\"start\" x=\"598.014\" y=\"-206.8\" font-family=\"Helvetica,sans-Serif\" font-size=\"14.00\">samples = 42</text>\n",
       "<text text-anchor=\"start\" x=\"595.672\" y=\"-192.8\" font-family=\"Helvetica,sans-Serif\" font-size=\"14.00\">value = [8, 34]</text>\n",
       "</g>\n",
       "<!-- 12&#45;&gt;13 -->\n",
       "<g id=\"edge13\" class=\"edge\"><title>12&#45;&gt;13</title>\n",
       "<path fill=\"none\" stroke=\"black\" d=\"M646.679,-285.992C645.84,-277.77 644.921,-268.763 644.036,-260.095\"/>\n",
       "<polygon fill=\"black\" stroke=\"black\" points=\"647.518,-259.735 643.021,-250.142 640.554,-260.446 647.518,-259.735\"/>\n",
       "</g>\n",
       "<!-- 18 -->\n",
       "<g id=\"node19\" class=\"node\"><title>18</title>\n",
       "<path fill=\"#399de5\" stroke=\"black\" d=\"M846.184,-243C846.184,-243 765.501,-243 765.501,-243 759.501,-243 753.501,-237 753.501,-231 753.501,-231 753.501,-205 753.501,-205 753.501,-199 759.501,-193 765.501,-193 765.501,-193 846.184,-193 846.184,-193 852.184,-193 858.184,-199 858.184,-205 858.184,-205 858.184,-231 858.184,-231 858.184,-237 852.184,-243 846.184,-243\"/>\n",
       "<text text-anchor=\"start\" x=\"764.786\" y=\"-227.8\" font-family=\"Helvetica,sans-Serif\" font-size=\"14.00\">entropy = 0.0</text>\n",
       "<text text-anchor=\"start\" x=\"764.014\" y=\"-213.8\" font-family=\"Helvetica,sans-Serif\" font-size=\"14.00\">samples = 80</text>\n",
       "<text text-anchor=\"start\" x=\"761.672\" y=\"-199.8\" font-family=\"Helvetica,sans-Serif\" font-size=\"14.00\">value = [0, 80]</text>\n",
       "</g>\n",
       "<!-- 12&#45;&gt;18 -->\n",
       "<g id=\"edge18\" class=\"edge\"><title>12&#45;&gt;18</title>\n",
       "<path fill=\"none\" stroke=\"black\" d=\"M699.202,-285.992C718.236,-274.035 739.912,-260.418 758.728,-248.598\"/>\n",
       "<polygon fill=\"black\" stroke=\"black\" points=\"760.825,-251.414 767.431,-243.13 757.101,-245.486 760.825,-251.414\"/>\n",
       "</g>\n",
       "<!-- 14 -->\n",
       "<g id=\"node15\" class=\"node\"><title>14</title>\n",
       "<path fill=\"#399de5\" fill-opacity=\"0.631373\" stroke=\"black\" d=\"M694.778,-150C694.778,-150 570.908,-150 570.908,-150 564.908,-150 558.908,-144 558.908,-138 558.908,-138 558.908,-98 558.908,-98 558.908,-92 564.908,-86 570.908,-86 570.908,-86 694.778,-86 694.778,-86 700.778,-86 706.778,-92 706.778,-98 706.778,-98 706.778,-138 706.778,-138 706.778,-144 700.778,-150 694.778,-150\"/>\n",
       "<text text-anchor=\"start\" x=\"567.125\" y=\"-134.8\" font-family=\"Helvetica,sans-Serif\" font-size=\"14.00\">radius_mean ≤ 13.95</text>\n",
       "<text text-anchor=\"start\" x=\"587.893\" y=\"-120.8\" font-family=\"Helvetica,sans-Serif\" font-size=\"14.00\">entropy = 0.84</text>\n",
       "<text text-anchor=\"start\" x=\"591.014\" y=\"-106.8\" font-family=\"Helvetica,sans-Serif\" font-size=\"14.00\">samples = 26</text>\n",
       "<text text-anchor=\"start\" x=\"588.672\" y=\"-92.8\" font-family=\"Helvetica,sans-Serif\" font-size=\"14.00\">value = [7, 19]</text>\n",
       "</g>\n",
       "<!-- 13&#45;&gt;14 -->\n",
       "<g id=\"edge14\" class=\"edge\"><title>13&#45;&gt;14</title>\n",
       "<path fill=\"none\" stroke=\"black\" d=\"M637.628,-185.992C637.047,-177.859 636.411,-168.959 635.798,-160.378\"/>\n",
       "<polygon fill=\"black\" stroke=\"black\" points=\"639.271,-159.868 635.067,-150.142 632.289,-160.366 639.271,-159.868\"/>\n",
       "</g>\n",
       "<!-- 17 -->\n",
       "<g id=\"node18\" class=\"node\"><title>17</title>\n",
       "<path fill=\"#399de5\" fill-opacity=\"0.933333\" stroke=\"black\" d=\"M826.529,-143C826.529,-143 737.157,-143 737.157,-143 731.157,-143 725.157,-137 725.157,-131 725.157,-131 725.157,-105 725.157,-105 725.157,-99 731.157,-93 737.157,-93 737.157,-93 826.529,-93 826.529,-93 832.529,-93 838.529,-99 838.529,-105 838.529,-105 838.529,-131 838.529,-131 838.529,-137 832.529,-143 826.529,-143\"/>\n",
       "<text text-anchor=\"start\" x=\"733\" y=\"-127.8\" font-family=\"Helvetica,sans-Serif\" font-size=\"14.00\">entropy = 0.337</text>\n",
       "<text text-anchor=\"start\" x=\"740.014\" y=\"-113.8\" font-family=\"Helvetica,sans-Serif\" font-size=\"14.00\">samples = 16</text>\n",
       "<text text-anchor=\"start\" x=\"737.672\" y=\"-99.8\" font-family=\"Helvetica,sans-Serif\" font-size=\"14.00\">value = [1, 15]</text>\n",
       "</g>\n",
       "<!-- 13&#45;&gt;17 -->\n",
       "<g id=\"edge17\" class=\"edge\"><title>13&#45;&gt;17</title>\n",
       "<path fill=\"none\" stroke=\"black\" d=\"M684.772,-185.992C701.794,-174.245 721.136,-160.896 738.051,-149.222\"/>\n",
       "<polygon fill=\"black\" stroke=\"black\" points=\"740.408,-151.848 746.65,-143.288 736.432,-146.087 740.408,-151.848\"/>\n",
       "</g>\n",
       "<!-- 15 -->\n",
       "<g id=\"node16\" class=\"node\"><title>15</title>\n",
       "<path fill=\"none\" stroke=\"black\" d=\"M607.502,-50C607.502,-50 532.184,-50 532.184,-50 526.184,-50 520.184,-44 520.184,-38 520.184,-38 520.184,-12 520.184,-12 520.184,-6 526.184,-0 532.184,-0 532.184,-0 607.502,-0 607.502,-0 613.502,-0 619.502,-6 619.502,-12 619.502,-12 619.502,-38 619.502,-38 619.502,-44 613.502,-50 607.502,-50\"/>\n",
       "<text text-anchor=\"start\" x=\"528.786\" y=\"-34.8\" font-family=\"Helvetica,sans-Serif\" font-size=\"14.00\">entropy = 1.0</text>\n",
       "<text text-anchor=\"start\" x=\"528.014\" y=\"-20.8\" font-family=\"Helvetica,sans-Serif\" font-size=\"14.00\">samples = 10</text>\n",
       "<text text-anchor=\"start\" x=\"529.565\" y=\"-6.8\" font-family=\"Helvetica,sans-Serif\" font-size=\"14.00\">value = [5, 5]</text>\n",
       "</g>\n",
       "<!-- 14&#45;&gt;15 -->\n",
       "<g id=\"edge15\" class=\"edge\"><title>14&#45;&gt;15</title>\n",
       "<path fill=\"none\" stroke=\"black\" d=\"M611.338,-85.9375C605.179,-77.0413 598.451,-67.3236 592.24,-58.352\"/>\n",
       "<polygon fill=\"black\" stroke=\"black\" points=\"595.049,-56.2598 586.479,-50.0301 589.293,-60.2443 595.049,-56.2598\"/>\n",
       "</g>\n",
       "<!-- 16 -->\n",
       "<g id=\"node17\" class=\"node\"><title>16</title>\n",
       "<path fill=\"#399de5\" fill-opacity=\"0.858824\" stroke=\"black\" d=\"M739.529,-50C739.529,-50 650.157,-50 650.157,-50 644.157,-50 638.157,-44 638.157,-38 638.157,-38 638.157,-12 638.157,-12 638.157,-6 644.157,-0 650.157,-0 650.157,-0 739.529,-0 739.529,-0 745.529,-0 751.529,-6 751.529,-12 751.529,-12 751.529,-38 751.529,-38 751.529,-44 745.529,-50 739.529,-50\"/>\n",
       "<text text-anchor=\"start\" x=\"646\" y=\"-34.8\" font-family=\"Helvetica,sans-Serif\" font-size=\"14.00\">entropy = 0.544</text>\n",
       "<text text-anchor=\"start\" x=\"653.014\" y=\"-20.8\" font-family=\"Helvetica,sans-Serif\" font-size=\"14.00\">samples = 16</text>\n",
       "<text text-anchor=\"start\" x=\"650.672\" y=\"-6.8\" font-family=\"Helvetica,sans-Serif\" font-size=\"14.00\">value = [2, 14]</text>\n",
       "</g>\n",
       "<!-- 14&#45;&gt;16 -->\n",
       "<g id=\"edge16\" class=\"edge\"><title>14&#45;&gt;16</title>\n",
       "<path fill=\"none\" stroke=\"black\" d=\"M654.006,-85.9375C660.067,-77.0413 666.688,-67.3236 672.801,-58.352\"/>\n",
       "<polygon fill=\"black\" stroke=\"black\" points=\"675.733,-60.265 678.471,-50.0301 669.948,-56.3236 675.733,-60.265\"/>\n",
       "</g>\n",
       "</g>\n",
       "</svg>\n"
      ],
      "text/plain": [
       "<graphviz.files.Source at 0x1163c06a0>"
      ]
     },
     "execution_count": 24,
     "metadata": {},
     "output_type": "execute_result"
    }
   ],
   "source": [
    "import graphviz\n",
    "gv_data = tree.export_graphviz(clf, out_file=None, \n",
    "                     feature_names=attributes,  \n",
    "                     filled=True, rounded=True,  \n",
    "                     special_characters=True) \n",
    "\n",
    "graphviz.Source(gv_data)"
   ]
  },
  {
   "cell_type": "code",
   "execution_count": 29,
   "metadata": {
    "collapsed": false
   },
   "outputs": [
    {
     "data": {
      "text/html": [
       "<div>\n",
       "<style scoped>\n",
       "    .dataframe tbody tr th:only-of-type {\n",
       "        vertical-align: middle;\n",
       "    }\n",
       "\n",
       "    .dataframe tbody tr th {\n",
       "        vertical-align: top;\n",
       "    }\n",
       "\n",
       "    .dataframe thead th {\n",
       "        text-align: right;\n",
       "    }\n",
       "</style>\n",
       "<table border=\"1\" class=\"dataframe\">\n",
       "  <thead>\n",
       "    <tr style=\"text-align: right;\">\n",
       "      <th>prediction</th>\n",
       "      <th>0</th>\n",
       "      <th>1</th>\n",
       "    </tr>\n",
       "    <tr>\n",
       "      <th>actual</th>\n",
       "      <th></th>\n",
       "      <th></th>\n",
       "    </tr>\n",
       "  </thead>\n",
       "  <tbody>\n",
       "    <tr>\n",
       "      <th>0</th>\n",
       "      <td>141</td>\n",
       "      <td>4</td>\n",
       "    </tr>\n",
       "    <tr>\n",
       "      <th>1</th>\n",
       "      <td>15</td>\n",
       "      <td>68</td>\n",
       "    </tr>\n",
       "  </tbody>\n",
       "</table>\n",
       "</div>"
      ],
      "text/plain": [
       "prediction    0   1\n",
       "actual             \n",
       "0           141   4\n",
       "1            15  68"
      ]
     },
     "execution_count": 29,
     "metadata": {},
     "output_type": "execute_result"
    }
   ],
   "source": [
    "preds = clf.predict(X_test)\n",
    "pd.crosstab(y_test, preds, rownames=['actual'], \n",
    "            colnames=['prediction'])"
   ]
  },
  {
   "cell_type": "markdown",
   "metadata": {},
   "source": [
    "This tree probably overfits the data. It only gets 19 wrong out of 228, which is very high accuracy, but only because it is going pretty deep in the blue side of the tree; it can get really specific to the data it has, but may overfit to that data.\n",
    "\n",
    "Next, we'll do the same thing for a Random Forest classifier."
   ]
  },
  {
   "cell_type": "code",
   "execution_count": 26,
   "metadata": {
    "collapsed": false
   },
   "outputs": [
    {
     "name": "stdout",
     "output_type": "stream",
     "text": [
      "max features: 3, max depth: 5, n estimators: 50\n"
     ]
    }
   ],
   "source": [
    "from sklearn.utils import shuffle\n",
    "from sklearn.ensemble import RandomForestRegressor\n",
    "from sklearn.model_selection import GridSearchCV\n",
    "\n",
    "# only include attribute means (for now)\n",
    "attributes = ['radius_mean', 'texture_mean', 'perimeter_mean', 'area_mean',\n",
    "              'smoothness_mean', 'compactness_mean', 'concavity_mean', \n",
    "              'concave_points_mean', 'symmetry_mean', 'fractal_dimension_mean']\n",
    "bc_clean = bc_data.filter(items=attributes)\n",
    "\n",
    "# udpate X and y\n",
    "X = bc_clean\n",
    "y = outcome\n",
    "\n",
    "# set params to search\n",
    "params = {\n",
    "    'max_features': [1, 3, 5, 10],\n",
    "    'max_depth': [1, 5, 7, 9],\n",
    "    'n_estimators': [10, 50, 300, 500]\n",
    "}\n",
    "\n",
    "# run model\n",
    "rf = RandomForestRegressor()\n",
    "grid = GridSearchCV(rf, params)\n",
    "\n",
    "grid.fit(*shuffle(X, y))\n",
    "best = grid.best_estimator_\n",
    "\n",
    "print(\"max features: {}, max depth: {}, n estimators: {}\".format(best.max_features, \n",
    "                                                                 best.max_depth, \n",
    "                                                                 best.n_estimators))"
   ]
  },
  {
   "cell_type": "markdown",
   "metadata": {},
   "source": [
    "Using the Random Forest method, the max_depth is 5. When we plug this into our decision tree classifier, we get:"
   ]
  },
  {
   "cell_type": "code",
   "execution_count": 31,
   "metadata": {
    "collapsed": false
   },
   "outputs": [
    {
     "data": {
      "text/plain": [
       "DecisionTreeClassifier(class_weight=None, criterion='entropy', max_depth=5,\n",
       "            max_features='auto', max_leaf_nodes=None,\n",
       "            min_impurity_decrease=0.0, min_impurity_split=None,\n",
       "            min_samples_leaf=10, min_samples_split=2,\n",
       "            min_weight_fraction_leaf=0.0, presort=False, random_state=None,\n",
       "            splitter='best')"
      ]
     },
     "execution_count": 31,
     "metadata": {},
     "output_type": "execute_result"
    }
   ],
   "source": [
    "from sklearn import tree\n",
    "from sklearn import model_selection\n",
    "\n",
    "X_train, X_test, y_train, y_test = model_selection.train_test_split(\n",
    "        X, y, test_size=0.4, random_state=0)\n",
    "\n",
    "clf_rf = tree.DecisionTreeClassifier(criterion='entropy',\n",
    "                                  max_features=\"auto\",\n",
    "                                  max_depth=5,\n",
    "                                  min_samples_leaf=10)\n",
    "clf_rf.fit(X_train, y_train)"
   ]
  },
  {
   "cell_type": "code",
   "execution_count": 32,
   "metadata": {
    "collapsed": false
   },
   "outputs": [
    {
     "data": {
      "image/svg+xml": [
       "<?xml version=\"1.0\" encoding=\"UTF-8\" standalone=\"no\"?>\n",
       "<!DOCTYPE svg PUBLIC \"-//W3C//DTD SVG 1.1//EN\"\n",
       " \"http://www.w3.org/Graphics/SVG/1.1/DTD/svg11.dtd\">\n",
       "<!-- Generated by graphviz version 2.38.0 (20140413.2041)\n",
       " -->\n",
       "<!-- Title: Tree Pages: 1 -->\n",
       "<svg width=\"1145pt\" height=\"558pt\"\n",
       " viewBox=\"0.00 0.00 1145.34 558.00\" xmlns=\"http://www.w3.org/2000/svg\" xmlns:xlink=\"http://www.w3.org/1999/xlink\">\n",
       "<g id=\"graph0\" class=\"graph\" transform=\"scale(1 1) rotate(0) translate(4 554)\">\n",
       "<title>Tree</title>\n",
       "<polygon fill=\"white\" stroke=\"none\" points=\"-4,4 -4,-554 1141.34,-554 1141.34,4 -4,4\"/>\n",
       "<!-- 0 -->\n",
       "<g id=\"node1\" class=\"node\"><title>0</title>\n",
       "<path fill=\"#e58139\" fill-opacity=\"0.392157\" stroke=\"black\" d=\"M757.391,-550C757.391,-550 604.95,-550 604.95,-550 598.95,-550 592.95,-544 592.95,-538 592.95,-538 592.95,-498 592.95,-498 592.95,-492 598.95,-486 604.95,-486 604.95,-486 757.391,-486 757.391,-486 763.391,-486 769.391,-492 769.391,-498 769.391,-498 769.391,-538 769.391,-538 769.391,-544 763.391,-550 757.391,-550\"/>\n",
       "<text text-anchor=\"start\" x=\"601.06\" y=\"-534.8\" font-family=\"Helvetica,sans-Serif\" font-size=\"14.00\">perimeter_mean ≤ 98.405</text>\n",
       "<text text-anchor=\"start\" x=\"632.328\" y=\"-520.8\" font-family=\"Helvetica,sans-Serif\" font-size=\"14.00\">entropy = 0.957</text>\n",
       "<text text-anchor=\"start\" x=\"635.448\" y=\"-506.8\" font-family=\"Helvetica,sans-Serif\" font-size=\"14.00\">samples = 341</text>\n",
       "<text text-anchor=\"start\" x=\"625.321\" y=\"-492.8\" font-family=\"Helvetica,sans-Serif\" font-size=\"14.00\">value = [212, 129]</text>\n",
       "</g>\n",
       "<!-- 1 -->\n",
       "<g id=\"node2\" class=\"node\"><title>1</title>\n",
       "<path fill=\"#e58139\" fill-opacity=\"0.843137\" stroke=\"black\" d=\"M644.957,-450C644.957,-450 477.384,-450 477.384,-450 471.384,-450 465.384,-444 465.384,-438 465.384,-438 465.384,-398 465.384,-398 465.384,-392 471.384,-386 477.384,-386 477.384,-386 644.957,-386 644.957,-386 650.957,-386 656.957,-392 656.957,-398 656.957,-398 656.957,-438 656.957,-438 656.957,-444 650.957,-450 644.957,-450\"/>\n",
       "<text text-anchor=\"start\" x=\"473.277\" y=\"-434.8\" font-family=\"Helvetica,sans-Serif\" font-size=\"14.00\">compactness_mean ≤ 0.104</text>\n",
       "<text text-anchor=\"start\" x=\"512.328\" y=\"-420.8\" font-family=\"Helvetica,sans-Serif\" font-size=\"14.00\">entropy = 0.571</text>\n",
       "<text text-anchor=\"start\" x=\"515.448\" y=\"-406.8\" font-family=\"Helvetica,sans-Serif\" font-size=\"14.00\">samples = 237</text>\n",
       "<text text-anchor=\"start\" x=\"509.214\" y=\"-392.8\" font-family=\"Helvetica,sans-Serif\" font-size=\"14.00\">value = [205, 32]</text>\n",
       "</g>\n",
       "<!-- 0&#45;&gt;1 -->\n",
       "<g id=\"edge1\" class=\"edge\"><title>0&#45;&gt;1</title>\n",
       "<path fill=\"none\" stroke=\"black\" d=\"M643.202,-485.992C631.821,-476.698 619.211,-466.4 607.362,-456.723\"/>\n",
       "<polygon fill=\"black\" stroke=\"black\" points=\"609.263,-453.757 599.304,-450.142 604.836,-459.179 609.263,-453.757\"/>\n",
       "<text text-anchor=\"middle\" x=\"601.814\" y=\"-470.816\" font-family=\"Helvetica,sans-Serif\" font-size=\"14.00\">True</text>\n",
       "</g>\n",
       "<!-- 18 -->\n",
       "<g id=\"node19\" class=\"node\"><title>18</title>\n",
       "<path fill=\"#399de5\" fill-opacity=\"0.929412\" stroke=\"black\" d=\"M893.264,-450C893.264,-450 711.077,-450 711.077,-450 705.077,-450 699.077,-444 699.077,-438 699.077,-438 699.077,-398 699.077,-398 699.077,-392 705.077,-386 711.077,-386 711.077,-386 893.264,-386 893.264,-386 899.264,-386 905.264,-392 905.264,-398 905.264,-398 905.264,-438 905.264,-438 905.264,-444 899.264,-450 893.264,-450\"/>\n",
       "<text text-anchor=\"start\" x=\"706.874\" y=\"-434.8\" font-family=\"Helvetica,sans-Serif\" font-size=\"14.00\">concave_points_mean ≤ 0.062</text>\n",
       "<text text-anchor=\"start\" x=\"753.328\" y=\"-420.8\" font-family=\"Helvetica,sans-Serif\" font-size=\"14.00\">entropy = 0.356</text>\n",
       "<text text-anchor=\"start\" x=\"756.448\" y=\"-406.8\" font-family=\"Helvetica,sans-Serif\" font-size=\"14.00\">samples = 104</text>\n",
       "<text text-anchor=\"start\" x=\"758\" y=\"-392.8\" font-family=\"Helvetica,sans-Serif\" font-size=\"14.00\">value = [7, 97]</text>\n",
       "</g>\n",
       "<!-- 0&#45;&gt;18 -->\n",
       "<g id=\"edge18\" class=\"edge\"><title>0&#45;&gt;18</title>\n",
       "<path fill=\"none\" stroke=\"black\" d=\"M719.456,-485.992C731.042,-476.608 743.891,-466.202 755.939,-456.444\"/>\n",
       "<polygon fill=\"black\" stroke=\"black\" points=\"758.151,-459.156 763.719,-450.142 753.745,-453.716 758.151,-459.156\"/>\n",
       "<text text-anchor=\"middle\" x=\"761.108\" y=\"-470.806\" font-family=\"Helvetica,sans-Serif\" font-size=\"14.00\">False</text>\n",
       "</g>\n",
       "<!-- 2 -->\n",
       "<g id=\"node3\" class=\"node\"><title>2</title>\n",
       "<path fill=\"#e58139\" fill-opacity=\"0.968627\" stroke=\"black\" d=\"M436.833,-350C436.833,-350 293.508,-350 293.508,-350 287.508,-350 281.508,-344 281.508,-338 281.508,-338 281.508,-298 281.508,-298 281.508,-292 287.508,-286 293.508,-286 293.508,-286 436.833,-286 436.833,-286 442.833,-286 448.833,-292 448.833,-298 448.833,-298 448.833,-338 448.833,-338 448.833,-344 442.833,-350 436.833,-350\"/>\n",
       "<text text-anchor=\"start\" x=\"289.339\" y=\"-334.8\" font-family=\"Helvetica,sans-Serif\" font-size=\"14.00\">concavity_mean ≤ 0.074</text>\n",
       "<text text-anchor=\"start\" x=\"316.328\" y=\"-320.8\" font-family=\"Helvetica,sans-Serif\" font-size=\"14.00\">entropy = 0.191</text>\n",
       "<text text-anchor=\"start\" x=\"319.448\" y=\"-306.8\" font-family=\"Helvetica,sans-Serif\" font-size=\"14.00\">samples = 170</text>\n",
       "<text text-anchor=\"start\" x=\"317.107\" y=\"-292.8\" font-family=\"Helvetica,sans-Serif\" font-size=\"14.00\">value = [165, 5]</text>\n",
       "</g>\n",
       "<!-- 1&#45;&gt;2 -->\n",
       "<g id=\"edge2\" class=\"edge\"><title>1&#45;&gt;2</title>\n",
       "<path fill=\"none\" stroke=\"black\" d=\"M499.155,-385.992C479.225,-376.027 456.99,-364.91 436.45,-354.64\"/>\n",
       "<polygon fill=\"black\" stroke=\"black\" points=\"437.965,-351.484 427.455,-350.142 434.834,-357.745 437.965,-351.484\"/>\n",
       "</g>\n",
       "<!-- 9 -->\n",
       "<g id=\"node10\" class=\"node\"><title>9</title>\n",
       "<path fill=\"#e58139\" fill-opacity=\"0.325490\" stroke=\"black\" d=\"M617.995,-350C617.995,-350 504.346,-350 504.346,-350 498.346,-350 492.346,-344 492.346,-338 492.346,-338 492.346,-298 492.346,-298 492.346,-292 498.346,-286 504.346,-286 504.346,-286 617.995,-286 617.995,-286 623.995,-286 629.995,-292 629.995,-298 629.995,-298 629.995,-338 629.995,-338 629.995,-344 623.995,-350 617.995,-350\"/>\n",
       "<text text-anchor=\"start\" x=\"500.508\" y=\"-334.8\" font-family=\"Helvetica,sans-Serif\" font-size=\"14.00\">area_mean ≤ 525.1</text>\n",
       "<text text-anchor=\"start\" x=\"512.328\" y=\"-320.8\" font-family=\"Helvetica,sans-Serif\" font-size=\"14.00\">entropy = 0.973</text>\n",
       "<text text-anchor=\"start\" x=\"519.341\" y=\"-306.8\" font-family=\"Helvetica,sans-Serif\" font-size=\"14.00\">samples = 67</text>\n",
       "<text text-anchor=\"start\" x=\"513.107\" y=\"-292.8\" font-family=\"Helvetica,sans-Serif\" font-size=\"14.00\">value = [40, 27]</text>\n",
       "</g>\n",
       "<!-- 1&#45;&gt;9 -->\n",
       "<g id=\"edge9\" class=\"edge\"><title>1&#45;&gt;9</title>\n",
       "<path fill=\"none\" stroke=\"black\" d=\"M561.17,-385.992C561.17,-377.859 561.17,-368.959 561.17,-360.378\"/>\n",
       "<polygon fill=\"black\" stroke=\"black\" points=\"564.671,-360.142 561.17,-350.142 557.671,-360.142 564.671,-360.142\"/>\n",
       "</g>\n",
       "<!-- 3 -->\n",
       "<g id=\"node4\" class=\"node\"><title>3</title>\n",
       "<path fill=\"#e58139\" fill-opacity=\"0.980392\" stroke=\"black\" d=\"M278.274,-250C278.274,-250 150.067,-250 150.067,-250 144.067,-250 138.067,-244 138.067,-238 138.067,-238 138.067,-198 138.067,-198 138.067,-192 144.067,-186 150.067,-186 150.067,-186 278.274,-186 278.274,-186 284.274,-186 290.274,-192 290.274,-198 290.274,-198 290.274,-238 290.274,-238 290.274,-244 284.274,-250 278.274,-250\"/>\n",
       "<text text-anchor=\"start\" x=\"146.119\" y=\"-234.8\" font-family=\"Helvetica,sans-Serif\" font-size=\"14.00\">texture_mean ≤ 18.12</text>\n",
       "<text text-anchor=\"start\" x=\"165.328\" y=\"-220.8\" font-family=\"Helvetica,sans-Serif\" font-size=\"14.00\">entropy = 0.134</text>\n",
       "<text text-anchor=\"start\" x=\"168.448\" y=\"-206.8\" font-family=\"Helvetica,sans-Serif\" font-size=\"14.00\">samples = 160</text>\n",
       "<text text-anchor=\"start\" x=\"166.107\" y=\"-192.8\" font-family=\"Helvetica,sans-Serif\" font-size=\"14.00\">value = [157, 3]</text>\n",
       "</g>\n",
       "<!-- 2&#45;&gt;3 -->\n",
       "<g id=\"edge3\" class=\"edge\"><title>2&#45;&gt;3</title>\n",
       "<path fill=\"none\" stroke=\"black\" d=\"M317.393,-285.992C302.521,-276.34 285.982,-265.606 270.578,-255.609\"/>\n",
       "<polygon fill=\"black\" stroke=\"black\" points=\"272.449,-252.651 262.155,-250.142 268.638,-258.522 272.449,-252.651\"/>\n",
       "</g>\n",
       "<!-- 8 -->\n",
       "<g id=\"node9\" class=\"node\"><title>8</title>\n",
       "<path fill=\"#e58139\" fill-opacity=\"0.749020\" stroke=\"black\" d=\"M409.856,-243C409.856,-243 320.484,-243 320.484,-243 314.484,-243 308.484,-237 308.484,-231 308.484,-231 308.484,-205 308.484,-205 308.484,-199 314.484,-193 320.484,-193 320.484,-193 409.856,-193 409.856,-193 415.856,-193 421.856,-199 421.856,-205 421.856,-205 421.856,-231 421.856,-231 421.856,-237 415.856,-243 409.856,-243\"/>\n",
       "<text text-anchor=\"start\" x=\"316.328\" y=\"-227.8\" font-family=\"Helvetica,sans-Serif\" font-size=\"14.00\">entropy = 0.722</text>\n",
       "<text text-anchor=\"start\" x=\"323.341\" y=\"-213.8\" font-family=\"Helvetica,sans-Serif\" font-size=\"14.00\">samples = 10</text>\n",
       "<text text-anchor=\"start\" x=\"324.893\" y=\"-199.8\" font-family=\"Helvetica,sans-Serif\" font-size=\"14.00\">value = [8, 2]</text>\n",
       "</g>\n",
       "<!-- 2&#45;&gt;8 -->\n",
       "<g id=\"edge8\" class=\"edge\"><title>2&#45;&gt;8</title>\n",
       "<path fill=\"none\" stroke=\"black\" d=\"M365.17,-285.992C365.17,-275.646 365.17,-264.057 365.17,-253.465\"/>\n",
       "<polygon fill=\"black\" stroke=\"black\" points=\"368.671,-253.288 365.17,-243.288 361.671,-253.288 368.671,-253.288\"/>\n",
       "</g>\n",
       "<!-- 4 -->\n",
       "<g id=\"node5\" class=\"node\"><title>4</title>\n",
       "<path fill=\"#e58139\" stroke=\"black\" d=\"M92.5118,-143C92.5118,-143 11.829,-143 11.829,-143 5.82903,-143 -0.170969,-137 -0.170969,-131 -0.170969,-131 -0.170969,-105 -0.170969,-105 -0.170969,-99 5.82903,-93 11.829,-93 11.829,-93 92.5118,-93 92.5118,-93 98.5118,-93 104.512,-99 104.512,-105 104.512,-105 104.512,-131 104.512,-131 104.512,-137 98.5118,-143 92.5118,-143\"/>\n",
       "<text text-anchor=\"start\" x=\"11.1138\" y=\"-127.8\" font-family=\"Helvetica,sans-Serif\" font-size=\"14.00\">entropy = 0.0</text>\n",
       "<text text-anchor=\"start\" x=\"10.3413\" y=\"-113.8\" font-family=\"Helvetica,sans-Serif\" font-size=\"14.00\">samples = 90</text>\n",
       "<text text-anchor=\"start\" x=\"8\" y=\"-99.8\" font-family=\"Helvetica,sans-Serif\" font-size=\"14.00\">value = [90, 0]</text>\n",
       "</g>\n",
       "<!-- 3&#45;&gt;4 -->\n",
       "<g id=\"edge4\" class=\"edge\"><title>3&#45;&gt;4</title>\n",
       "<path fill=\"none\" stroke=\"black\" d=\"M162.913,-185.992C143.057,-173.981 120.433,-160.295 100.832,-148.437\"/>\n",
       "<polygon fill=\"black\" stroke=\"black\" points=\"102.427,-145.312 92.0595,-143.13 98.8041,-151.301 102.427,-145.312\"/>\n",
       "</g>\n",
       "<!-- 5 -->\n",
       "<g id=\"node6\" class=\"node\"><title>5</title>\n",
       "<path fill=\"#e58139\" fill-opacity=\"0.956863\" stroke=\"black\" d=\"M309.477,-150C309.477,-150 134.864,-150 134.864,-150 128.864,-150 122.864,-144 122.864,-138 122.864,-138 122.864,-98 122.864,-98 122.864,-92 128.864,-86 134.864,-86 134.864,-86 309.477,-86 309.477,-86 315.477,-86 321.477,-92 321.477,-98 321.477,-98 321.477,-138 321.477,-138 321.477,-144 315.477,-150 309.477,-150\"/>\n",
       "<text text-anchor=\"start\" x=\"130.767\" y=\"-134.8\" font-family=\"Helvetica,sans-Serif\" font-size=\"14.00\">concave_points_mean ≤ 0.02</text>\n",
       "<text text-anchor=\"start\" x=\"173.328\" y=\"-120.8\" font-family=\"Helvetica,sans-Serif\" font-size=\"14.00\">entropy = 0.255</text>\n",
       "<text text-anchor=\"start\" x=\"180.341\" y=\"-106.8\" font-family=\"Helvetica,sans-Serif\" font-size=\"14.00\">samples = 70</text>\n",
       "<text text-anchor=\"start\" x=\"178\" y=\"-92.8\" font-family=\"Helvetica,sans-Serif\" font-size=\"14.00\">value = [67, 3]</text>\n",
       "</g>\n",
       "<!-- 3&#45;&gt;5 -->\n",
       "<g id=\"edge5\" class=\"edge\"><title>3&#45;&gt;5</title>\n",
       "<path fill=\"none\" stroke=\"black\" d=\"M216.702,-185.992C217.366,-177.859 218.092,-168.959 218.793,-160.378\"/>\n",
       "<polygon fill=\"black\" stroke=\"black\" points=\"222.303,-160.394 219.628,-150.142 215.326,-159.825 222.303,-160.394\"/>\n",
       "</g>\n",
       "<!-- 6 -->\n",
       "<g id=\"node7\" class=\"node\"><title>6</title>\n",
       "<path fill=\"#e58139\" stroke=\"black\" d=\"M220.512,-50C220.512,-50 139.829,-50 139.829,-50 133.829,-50 127.829,-44 127.829,-38 127.829,-38 127.829,-12 127.829,-12 127.829,-6 133.829,-0 139.829,-0 139.829,-0 220.512,-0 220.512,-0 226.512,-0 232.512,-6 232.512,-12 232.512,-12 232.512,-38 232.512,-38 232.512,-44 226.512,-50 220.512,-50\"/>\n",
       "<text text-anchor=\"start\" x=\"139.114\" y=\"-34.8\" font-family=\"Helvetica,sans-Serif\" font-size=\"14.00\">entropy = 0.0</text>\n",
       "<text text-anchor=\"start\" x=\"138.341\" y=\"-20.8\" font-family=\"Helvetica,sans-Serif\" font-size=\"14.00\">samples = 38</text>\n",
       "<text text-anchor=\"start\" x=\"136\" y=\"-6.8\" font-family=\"Helvetica,sans-Serif\" font-size=\"14.00\">value = [38, 0]</text>\n",
       "</g>\n",
       "<!-- 5&#45;&gt;6 -->\n",
       "<g id=\"edge6\" class=\"edge\"><title>5&#45;&gt;6</title>\n",
       "<path fill=\"none\" stroke=\"black\" d=\"M207.834,-85.9375C203.855,-77.3164 199.52,-67.9239 195.487,-59.1865\"/>\n",
       "<polygon fill=\"black\" stroke=\"black\" points=\"198.63,-57.643 191.261,-50.0301 192.274,-60.5764 198.63,-57.643\"/>\n",
       "</g>\n",
       "<!-- 7 -->\n",
       "<g id=\"node8\" class=\"node\"><title>7</title>\n",
       "<path fill=\"#e58139\" fill-opacity=\"0.898039\" stroke=\"black\" d=\"M351.856,-50C351.856,-50 262.484,-50 262.484,-50 256.484,-50 250.484,-44 250.484,-38 250.484,-38 250.484,-12 250.484,-12 250.484,-6 256.484,-0 262.484,-0 262.484,-0 351.856,-0 351.856,-0 357.856,-0 363.856,-6 363.856,-12 363.856,-12 363.856,-38 363.856,-38 363.856,-44 357.856,-50 351.856,-50\"/>\n",
       "<text text-anchor=\"start\" x=\"258.328\" y=\"-34.8\" font-family=\"Helvetica,sans-Serif\" font-size=\"14.00\">entropy = 0.449</text>\n",
       "<text text-anchor=\"start\" x=\"265.341\" y=\"-20.8\" font-family=\"Helvetica,sans-Serif\" font-size=\"14.00\">samples = 32</text>\n",
       "<text text-anchor=\"start\" x=\"263\" y=\"-6.8\" font-family=\"Helvetica,sans-Serif\" font-size=\"14.00\">value = [29, 3]</text>\n",
       "</g>\n",
       "<!-- 5&#45;&gt;7 -->\n",
       "<g id=\"edge7\" class=\"edge\"><title>5&#45;&gt;7</title>\n",
       "<path fill=\"none\" stroke=\"black\" d=\"M251.185,-85.9375C259.751,-76.7661 269.134,-66.7217 277.727,-57.5217\"/>\n",
       "<polygon fill=\"black\" stroke=\"black\" points=\"280.456,-59.7271 284.725,-50.0301 275.341,-54.9489 280.456,-59.7271\"/>\n",
       "</g>\n",
       "<!-- 10 -->\n",
       "<g id=\"node11\" class=\"node\"><title>10</title>\n",
       "<path fill=\"#e58139\" fill-opacity=\"0.768627\" stroke=\"black\" d=\"M646.698,-250C646.698,-250 451.643,-250 451.643,-250 445.643,-250 439.643,-244 439.643,-238 439.643,-238 439.643,-198 439.643,-198 439.643,-192 445.643,-186 451.643,-186 451.643,-186 646.698,-186 646.698,-186 652.698,-186 658.698,-192 658.698,-198 658.698,-198 658.698,-238 658.698,-238 658.698,-244 652.698,-250 646.698,-250\"/>\n",
       "<text text-anchor=\"start\" x=\"447.657\" y=\"-234.8\" font-family=\"Helvetica,sans-Serif\" font-size=\"14.00\">fractal_dimension_mean ≤ 0.069</text>\n",
       "<text text-anchor=\"start\" x=\"508.114\" y=\"-220.8\" font-family=\"Helvetica,sans-Serif\" font-size=\"14.00\">entropy = 0.7</text>\n",
       "<text text-anchor=\"start\" x=\"507.341\" y=\"-206.8\" font-family=\"Helvetica,sans-Serif\" font-size=\"14.00\">samples = 37</text>\n",
       "<text text-anchor=\"start\" x=\"505\" y=\"-192.8\" font-family=\"Helvetica,sans-Serif\" font-size=\"14.00\">value = [30, 7]</text>\n",
       "</g>\n",
       "<!-- 9&#45;&gt;10 -->\n",
       "<g id=\"edge10\" class=\"edge\"><title>9&#45;&gt;10</title>\n",
       "<path fill=\"none\" stroke=\"black\" d=\"M557.374,-285.992C556.367,-277.77 555.264,-268.763 554.202,-260.095\"/>\n",
       "<polygon fill=\"black\" stroke=\"black\" points=\"557.673,-259.643 552.984,-250.142 550.725,-260.494 557.673,-259.643\"/>\n",
       "</g>\n",
       "<!-- 15 -->\n",
       "<g id=\"node16\" class=\"node\"><title>15</title>\n",
       "<path fill=\"#399de5\" fill-opacity=\"0.498039\" stroke=\"black\" d=\"M871.264,-250C871.264,-250 689.077,-250 689.077,-250 683.077,-250 677.077,-244 677.077,-238 677.077,-238 677.077,-198 677.077,-198 677.077,-192 683.077,-186 689.077,-186 689.077,-186 871.264,-186 871.264,-186 877.264,-186 883.264,-192 883.264,-198 883.264,-198 883.264,-238 883.264,-238 883.264,-244 877.264,-250 871.264,-250\"/>\n",
       "<text text-anchor=\"start\" x=\"684.874\" y=\"-234.8\" font-family=\"Helvetica,sans-Serif\" font-size=\"14.00\">concave_points_mean ≤ 0.054</text>\n",
       "<text text-anchor=\"start\" x=\"731.328\" y=\"-220.8\" font-family=\"Helvetica,sans-Serif\" font-size=\"14.00\">entropy = 0.918</text>\n",
       "<text text-anchor=\"start\" x=\"738.341\" y=\"-206.8\" font-family=\"Helvetica,sans-Serif\" font-size=\"14.00\">samples = 30</text>\n",
       "<text text-anchor=\"start\" x=\"732.107\" y=\"-192.8\" font-family=\"Helvetica,sans-Serif\" font-size=\"14.00\">value = [10, 20]</text>\n",
       "</g>\n",
       "<!-- 9&#45;&gt;15 -->\n",
       "<g id=\"edge15\" class=\"edge\"><title>9&#45;&gt;15</title>\n",
       "<path fill=\"none\" stroke=\"black\" d=\"M629.863,-286.261C652.564,-276.102 677.997,-264.721 701.393,-254.252\"/>\n",
       "<polygon fill=\"black\" stroke=\"black\" points=\"702.894,-257.415 710.592,-250.136 700.034,-251.026 702.894,-257.415\"/>\n",
       "</g>\n",
       "<!-- 11 -->\n",
       "<g id=\"node12\" class=\"node\"><title>11</title>\n",
       "<path fill=\"#e58139\" stroke=\"black\" d=\"M447.512,-143C447.512,-143 366.829,-143 366.829,-143 360.829,-143 354.829,-137 354.829,-131 354.829,-131 354.829,-105 354.829,-105 354.829,-99 360.829,-93 366.829,-93 366.829,-93 447.512,-93 447.512,-93 453.512,-93 459.512,-99 459.512,-105 459.512,-105 459.512,-131 459.512,-131 459.512,-137 453.512,-143 447.512,-143\"/>\n",
       "<text text-anchor=\"start\" x=\"366.114\" y=\"-127.8\" font-family=\"Helvetica,sans-Serif\" font-size=\"14.00\">entropy = 0.0</text>\n",
       "<text text-anchor=\"start\" x=\"365.341\" y=\"-113.8\" font-family=\"Helvetica,sans-Serif\" font-size=\"14.00\">samples = 14</text>\n",
       "<text text-anchor=\"start\" x=\"363\" y=\"-99.8\" font-family=\"Helvetica,sans-Serif\" font-size=\"14.00\">value = [14, 0]</text>\n",
       "</g>\n",
       "<!-- 10&#45;&gt;11 -->\n",
       "<g id=\"edge11\" class=\"edge\"><title>10&#45;&gt;11</title>\n",
       "<path fill=\"none\" stroke=\"black\" d=\"M504.241,-185.992C487.219,-174.245 467.877,-160.896 450.962,-149.222\"/>\n",
       "<polygon fill=\"black\" stroke=\"black\" points=\"452.581,-146.087 442.363,-143.288 448.605,-151.848 452.581,-146.087\"/>\n",
       "</g>\n",
       "<!-- 12 -->\n",
       "<g id=\"node13\" class=\"node\"><title>12</title>\n",
       "<path fill=\"#e58139\" fill-opacity=\"0.560784\" stroke=\"black\" d=\"M656.957,-150C656.957,-150 489.384,-150 489.384,-150 483.384,-150 477.384,-144 477.384,-138 477.384,-138 477.384,-98 477.384,-98 477.384,-92 483.384,-86 489.384,-86 489.384,-86 656.957,-86 656.957,-86 662.957,-86 668.957,-92 668.957,-98 668.957,-98 668.957,-138 668.957,-138 668.957,-144 662.957,-150 656.957,-150\"/>\n",
       "<text text-anchor=\"start\" x=\"485.277\" y=\"-134.8\" font-family=\"Helvetica,sans-Serif\" font-size=\"14.00\">compactness_mean ≤ 0.133</text>\n",
       "<text text-anchor=\"start\" x=\"524.328\" y=\"-120.8\" font-family=\"Helvetica,sans-Serif\" font-size=\"14.00\">entropy = 0.887</text>\n",
       "<text text-anchor=\"start\" x=\"531.341\" y=\"-106.8\" font-family=\"Helvetica,sans-Serif\" font-size=\"14.00\">samples = 23</text>\n",
       "<text text-anchor=\"start\" x=\"529\" y=\"-92.8\" font-family=\"Helvetica,sans-Serif\" font-size=\"14.00\">value = [16, 7]</text>\n",
       "</g>\n",
       "<!-- 10&#45;&gt;12 -->\n",
       "<g id=\"edge12\" class=\"edge\"><title>10&#45;&gt;12</title>\n",
       "<path fill=\"none\" stroke=\"black\" d=\"M556.764,-185.992C558.778,-177.77 560.984,-168.763 563.106,-160.095\"/>\n",
       "<polygon fill=\"black\" stroke=\"black\" points=\"566.564,-160.688 565.544,-150.142 559.765,-159.023 566.564,-160.688\"/>\n",
       "</g>\n",
       "<!-- 13 -->\n",
       "<g id=\"node14\" class=\"node\"><title>13</title>\n",
       "<path fill=\"#e58139\" fill-opacity=\"0.909804\" stroke=\"black\" d=\"M526.856,-50C526.856,-50 437.484,-50 437.484,-50 431.484,-50 425.484,-44 425.484,-38 425.484,-38 425.484,-12 425.484,-12 425.484,-6 431.484,-0 437.484,-0 437.484,-0 526.856,-0 526.856,-0 532.856,-0 538.856,-6 538.856,-12 538.856,-12 538.856,-38 538.856,-38 538.856,-44 532.856,-50 526.856,-50\"/>\n",
       "<text text-anchor=\"start\" x=\"433.328\" y=\"-34.8\" font-family=\"Helvetica,sans-Serif\" font-size=\"14.00\">entropy = 0.414</text>\n",
       "<text text-anchor=\"start\" x=\"440.341\" y=\"-20.8\" font-family=\"Helvetica,sans-Serif\" font-size=\"14.00\">samples = 12</text>\n",
       "<text text-anchor=\"start\" x=\"438.516\" y=\"-6.8\" font-family=\"Helvetica,sans-Serif\" font-size=\"14.00\">value = [11, 1]</text>\n",
       "</g>\n",
       "<!-- 12&#45;&gt;13 -->\n",
       "<g id=\"edge13\" class=\"edge\"><title>12&#45;&gt;13</title>\n",
       "<path fill=\"none\" stroke=\"black\" d=\"M542.108,-85.9375C532.845,-76.6744 522.691,-66.5207 513.416,-57.246\"/>\n",
       "<polygon fill=\"black\" stroke=\"black\" points=\"515.746,-54.6263 506.2,-50.0301 510.797,-59.5761 515.746,-54.6263\"/>\n",
       "</g>\n",
       "<!-- 14 -->\n",
       "<g id=\"node15\" class=\"node\"><title>14</title>\n",
       "<path fill=\"#399de5\" fill-opacity=\"0.164706\" stroke=\"black\" d=\"M658.856,-50C658.856,-50 569.484,-50 569.484,-50 563.484,-50 557.484,-44 557.484,-38 557.484,-38 557.484,-12 557.484,-12 557.484,-6 563.484,-0 569.484,-0 569.484,-0 658.856,-0 658.856,-0 664.856,-0 670.856,-6 670.856,-12 670.856,-12 670.856,-38 670.856,-38 670.856,-44 664.856,-50 658.856,-50\"/>\n",
       "<text text-anchor=\"start\" x=\"565.328\" y=\"-34.8\" font-family=\"Helvetica,sans-Serif\" font-size=\"14.00\">entropy = 0.994</text>\n",
       "<text text-anchor=\"start\" x=\"572.857\" y=\"-20.8\" font-family=\"Helvetica,sans-Serif\" font-size=\"14.00\">samples = 11</text>\n",
       "<text text-anchor=\"start\" x=\"573.893\" y=\"-6.8\" font-family=\"Helvetica,sans-Serif\" font-size=\"14.00\">value = [5, 6]</text>\n",
       "</g>\n",
       "<!-- 12&#45;&gt;14 -->\n",
       "<g id=\"edge14\" class=\"edge\"><title>12&#45;&gt;14</title>\n",
       "<path fill=\"none\" stroke=\"black\" d=\"M587.166,-85.9375C591.05,-77.3164 595.282,-67.9239 599.218,-59.1865\"/>\n",
       "<polygon fill=\"black\" stroke=\"black\" points=\"602.427,-60.5852 603.344,-50.0301 596.045,-57.7097 602.427,-60.5852\"/>\n",
       "</g>\n",
       "<!-- 16 -->\n",
       "<g id=\"node17\" class=\"node\"><title>16</title>\n",
       "<path fill=\"#e58139\" fill-opacity=\"0.623529\" stroke=\"black\" d=\"M795.856,-143C795.856,-143 706.484,-143 706.484,-143 700.484,-143 694.484,-137 694.484,-131 694.484,-131 694.484,-105 694.484,-105 694.484,-99 700.484,-93 706.484,-93 706.484,-93 795.856,-93 795.856,-93 801.856,-93 807.856,-99 807.856,-105 807.856,-105 807.856,-131 807.856,-131 807.856,-137 801.856,-143 795.856,-143\"/>\n",
       "<text text-anchor=\"start\" x=\"702.328\" y=\"-127.8\" font-family=\"Helvetica,sans-Serif\" font-size=\"14.00\">entropy = 0.845</text>\n",
       "<text text-anchor=\"start\" x=\"709.857\" y=\"-113.8\" font-family=\"Helvetica,sans-Serif\" font-size=\"14.00\">samples = 11</text>\n",
       "<text text-anchor=\"start\" x=\"710.893\" y=\"-99.8\" font-family=\"Helvetica,sans-Serif\" font-size=\"14.00\">value = [8, 3]</text>\n",
       "</g>\n",
       "<!-- 15&#45;&gt;16 -->\n",
       "<g id=\"edge16\" class=\"edge\"><title>15&#45;&gt;16</title>\n",
       "<path fill=\"none\" stroke=\"black\" d=\"M770.995,-185.992C767.901,-175.538 764.432,-163.816 761.271,-153.134\"/>\n",
       "<polygon fill=\"black\" stroke=\"black\" points=\"764.551,-151.883 758.358,-143.288 757.839,-153.87 764.551,-151.883\"/>\n",
       "</g>\n",
       "<!-- 17 -->\n",
       "<g id=\"node18\" class=\"node\"><title>17</title>\n",
       "<path fill=\"#399de5\" fill-opacity=\"0.882353\" stroke=\"black\" d=\"M927.856,-143C927.856,-143 838.484,-143 838.484,-143 832.484,-143 826.484,-137 826.484,-131 826.484,-131 826.484,-105 826.484,-105 826.484,-99 832.484,-93 838.484,-93 838.484,-93 927.856,-93 927.856,-93 933.856,-93 939.856,-99 939.856,-105 939.856,-105 939.856,-131 939.856,-131 939.856,-137 933.856,-143 927.856,-143\"/>\n",
       "<text text-anchor=\"start\" x=\"834.328\" y=\"-127.8\" font-family=\"Helvetica,sans-Serif\" font-size=\"14.00\">entropy = 0.485</text>\n",
       "<text text-anchor=\"start\" x=\"841.341\" y=\"-113.8\" font-family=\"Helvetica,sans-Serif\" font-size=\"14.00\">samples = 19</text>\n",
       "<text text-anchor=\"start\" x=\"839\" y=\"-99.8\" font-family=\"Helvetica,sans-Serif\" font-size=\"14.00\">value = [2, 17]</text>\n",
       "</g>\n",
       "<!-- 15&#45;&gt;17 -->\n",
       "<g id=\"edge17\" class=\"edge\"><title>15&#45;&gt;17</title>\n",
       "<path fill=\"none\" stroke=\"black\" d=\"M812.76,-185.992C824.767,-174.568 838.366,-161.63 850.389,-150.19\"/>\n",
       "<polygon fill=\"black\" stroke=\"black\" points=\"852.811,-152.716 857.644,-143.288 847.986,-147.645 852.811,-152.716\"/>\n",
       "</g>\n",
       "<!-- 19 -->\n",
       "<g id=\"node20\" class=\"node\"><title>19</title>\n",
       "<path fill=\"#399de5\" fill-opacity=\"0.454902\" stroke=\"black\" d=\"M846.856,-343C846.856,-343 757.484,-343 757.484,-343 751.484,-343 745.484,-337 745.484,-331 745.484,-331 745.484,-305 745.484,-305 745.484,-299 751.484,-293 757.484,-293 757.484,-293 846.856,-293 846.856,-293 852.856,-293 858.856,-299 858.856,-305 858.856,-305 858.856,-331 858.856,-331 858.856,-337 852.856,-343 846.856,-343\"/>\n",
       "<text text-anchor=\"start\" x=\"753.328\" y=\"-327.8\" font-family=\"Helvetica,sans-Serif\" font-size=\"14.00\">entropy = 0.937</text>\n",
       "<text text-anchor=\"start\" x=\"760.341\" y=\"-313.8\" font-family=\"Helvetica,sans-Serif\" font-size=\"14.00\">samples = 17</text>\n",
       "<text text-anchor=\"start\" x=\"758.516\" y=\"-299.8\" font-family=\"Helvetica,sans-Serif\" font-size=\"14.00\">value = [6, 11]</text>\n",
       "</g>\n",
       "<!-- 18&#45;&gt;19 -->\n",
       "<g id=\"edge19\" class=\"edge\"><title>18&#45;&gt;19</title>\n",
       "<path fill=\"none\" stroke=\"black\" d=\"M802.17,-385.992C802.17,-375.646 802.17,-364.057 802.17,-353.465\"/>\n",
       "<polygon fill=\"black\" stroke=\"black\" points=\"805.671,-353.288 802.17,-343.288 798.671,-353.288 805.671,-353.288\"/>\n",
       "</g>\n",
       "<!-- 20 -->\n",
       "<g id=\"node21\" class=\"node\"><title>20</title>\n",
       "<path fill=\"#399de5\" fill-opacity=\"0.988235\" stroke=\"black\" d=\"M1015,-350C1015,-350 901.346,-350 901.346,-350 895.346,-350 889.346,-344 889.346,-338 889.346,-338 889.346,-298 889.346,-298 889.346,-292 895.346,-286 901.346,-286 901.346,-286 1015,-286 1015,-286 1021,-286 1027,-292 1027,-298 1027,-298 1027,-338 1027,-338 1027,-344 1021,-350 1015,-350\"/>\n",
       "<text text-anchor=\"start\" x=\"897.508\" y=\"-334.8\" font-family=\"Helvetica,sans-Serif\" font-size=\"14.00\">area_mean ≤ 746.9</text>\n",
       "<text text-anchor=\"start\" x=\"909.328\" y=\"-320.8\" font-family=\"Helvetica,sans-Serif\" font-size=\"14.00\">entropy = 0.091</text>\n",
       "<text text-anchor=\"start\" x=\"916.341\" y=\"-306.8\" font-family=\"Helvetica,sans-Serif\" font-size=\"14.00\">samples = 87</text>\n",
       "<text text-anchor=\"start\" x=\"914\" y=\"-292.8\" font-family=\"Helvetica,sans-Serif\" font-size=\"14.00\">value = [1, 86]</text>\n",
       "</g>\n",
       "<!-- 18&#45;&gt;20 -->\n",
       "<g id=\"edge20\" class=\"edge\"><title>18&#45;&gt;20</title>\n",
       "<path fill=\"none\" stroke=\"black\" d=\"M851.53,-385.992C866.894,-376.34 883.981,-365.606 899.895,-355.609\"/>\n",
       "<polygon fill=\"black\" stroke=\"black\" points=\"901.991,-358.426 908.597,-350.142 898.267,-352.498 901.991,-358.426\"/>\n",
       "</g>\n",
       "<!-- 21 -->\n",
       "<g id=\"node22\" class=\"node\"><title>21</title>\n",
       "<path fill=\"#399de5\" fill-opacity=\"0.890196\" stroke=\"black\" d=\"M1002.86,-243C1002.86,-243 913.484,-243 913.484,-243 907.484,-243 901.484,-237 901.484,-231 901.484,-231 901.484,-205 901.484,-205 901.484,-199 907.484,-193 913.484,-193 913.484,-193 1002.86,-193 1002.86,-193 1008.86,-193 1014.86,-199 1014.86,-205 1014.86,-205 1014.86,-231 1014.86,-231 1014.86,-237 1008.86,-243 1002.86,-243\"/>\n",
       "<text text-anchor=\"start\" x=\"909.328\" y=\"-227.8\" font-family=\"Helvetica,sans-Serif\" font-size=\"14.00\">entropy = 0.469</text>\n",
       "<text text-anchor=\"start\" x=\"916.341\" y=\"-213.8\" font-family=\"Helvetica,sans-Serif\" font-size=\"14.00\">samples = 10</text>\n",
       "<text text-anchor=\"start\" x=\"917.893\" y=\"-199.8\" font-family=\"Helvetica,sans-Serif\" font-size=\"14.00\">value = [1, 9]</text>\n",
       "</g>\n",
       "<!-- 20&#45;&gt;21 -->\n",
       "<g id=\"edge21\" class=\"edge\"><title>20&#45;&gt;21</title>\n",
       "<path fill=\"none\" stroke=\"black\" d=\"M958.17,-285.992C958.17,-275.646 958.17,-264.057 958.17,-253.465\"/>\n",
       "<polygon fill=\"black\" stroke=\"black\" points=\"961.671,-253.288 958.17,-243.288 954.671,-253.288 961.671,-253.288\"/>\n",
       "</g>\n",
       "<!-- 22 -->\n",
       "<g id=\"node23\" class=\"node\"><title>22</title>\n",
       "<path fill=\"#399de5\" stroke=\"black\" d=\"M1125.51,-243C1125.51,-243 1044.83,-243 1044.83,-243 1038.83,-243 1032.83,-237 1032.83,-231 1032.83,-231 1032.83,-205 1032.83,-205 1032.83,-199 1038.83,-193 1044.83,-193 1044.83,-193 1125.51,-193 1125.51,-193 1131.51,-193 1137.51,-199 1137.51,-205 1137.51,-205 1137.51,-231 1137.51,-231 1137.51,-237 1131.51,-243 1125.51,-243\"/>\n",
       "<text text-anchor=\"start\" x=\"1044.11\" y=\"-227.8\" font-family=\"Helvetica,sans-Serif\" font-size=\"14.00\">entropy = 0.0</text>\n",
       "<text text-anchor=\"start\" x=\"1043.34\" y=\"-213.8\" font-family=\"Helvetica,sans-Serif\" font-size=\"14.00\">samples = 77</text>\n",
       "<text text-anchor=\"start\" x=\"1041\" y=\"-199.8\" font-family=\"Helvetica,sans-Serif\" font-size=\"14.00\">value = [0, 77]</text>\n",
       "</g>\n",
       "<!-- 20&#45;&gt;22 -->\n",
       "<g id=\"edge22\" class=\"edge\"><title>20&#45;&gt;22</title>\n",
       "<path fill=\"none\" stroke=\"black\" d=\"M998.354,-285.992C1013.44,-274.353 1030.56,-261.141 1045.59,-249.544\"/>\n",
       "<polygon fill=\"black\" stroke=\"black\" points=\"1047.92,-252.168 1053.7,-243.288 1043.64,-246.626 1047.92,-252.168\"/>\n",
       "</g>\n",
       "</g>\n",
       "</svg>\n"
      ],
      "text/plain": [
       "<graphviz.files.Source at 0x1163f6b70>"
      ]
     },
     "execution_count": 32,
     "metadata": {},
     "output_type": "execute_result"
    }
   ],
   "source": [
    "import graphviz\n",
    "gv_data = tree.export_graphviz(clf_rf, out_file=None, \n",
    "                     feature_names=attributes,  \n",
    "                     filled=True, rounded=True,  \n",
    "                     special_characters=True) \n",
    "\n",
    "graphviz.Source(gv_data)"
   ]
  },
  {
   "cell_type": "code",
   "execution_count": 33,
   "metadata": {
    "collapsed": false
   },
   "outputs": [
    {
     "data": {
      "text/html": [
       "<div>\n",
       "<style scoped>\n",
       "    .dataframe tbody tr th:only-of-type {\n",
       "        vertical-align: middle;\n",
       "    }\n",
       "\n",
       "    .dataframe tbody tr th {\n",
       "        vertical-align: top;\n",
       "    }\n",
       "\n",
       "    .dataframe thead th {\n",
       "        text-align: right;\n",
       "    }\n",
       "</style>\n",
       "<table border=\"1\" class=\"dataframe\">\n",
       "  <thead>\n",
       "    <tr style=\"text-align: right;\">\n",
       "      <th>prediction</th>\n",
       "      <th>0</th>\n",
       "      <th>1</th>\n",
       "    </tr>\n",
       "    <tr>\n",
       "      <th>actual</th>\n",
       "      <th></th>\n",
       "      <th></th>\n",
       "    </tr>\n",
       "  </thead>\n",
       "  <tbody>\n",
       "    <tr>\n",
       "      <th>0</th>\n",
       "      <td>131</td>\n",
       "      <td>14</td>\n",
       "    </tr>\n",
       "    <tr>\n",
       "      <th>1</th>\n",
       "      <td>10</td>\n",
       "      <td>73</td>\n",
       "    </tr>\n",
       "  </tbody>\n",
       "</table>\n",
       "</div>"
      ],
      "text/plain": [
       "prediction    0   1\n",
       "actual             \n",
       "0           131  14\n",
       "1            10  73"
      ]
     },
     "execution_count": 33,
     "metadata": {},
     "output_type": "execute_result"
    }
   ],
   "source": [
    "preds = clf_rf.predict(X_test)\n",
    "pd.crosstab(y_test, preds, rownames=['actual'], \n",
    "            colnames=['prediction'])"
   ]
  },
  {
   "cell_type": "markdown",
   "metadata": {},
   "source": [
    "This one probably also overfit the data. It only got 24 wrong, out of 228 data points. This one doesn't overfit as much as the first one, because the max depth is smaller, so it doesn't have as many parameters to fit. The greater max_depth is, the more closely the model is fitting to the data itself, which means that there's a higher chance of the model overfitting to that data."
   ]
  },
  {
   "cell_type": "markdown",
   "metadata": {},
   "source": [
    "> Nice work:\n",
    "> Q4: 25/25\n",
    "    \n",
    "> HWK 3 Total: 88/100"
   ]
  },
  {
   "cell_type": "markdown",
   "metadata": {},
   "source": []
  }
 ],
 "metadata": {
  "anaconda-cloud": {},
  "kernelspec": {
   "display_name": "Python 3",
   "language": "python",
   "name": "python3"
  },
  "language_info": {
   "codemirror_mode": {
    "name": "ipython",
    "version": 3
   },
   "file_extension": ".py",
   "mimetype": "text/x-python",
   "name": "python",
   "nbconvert_exporter": "python",
   "pygments_lexer": "ipython3",
   "version": "3.5.2"
  },
  "latex_envs": {
   "bibliofile": "biblio.bib",
   "cite_by": "apalike",
   "current_citInitial": 1,
   "eqLabelWithNumbers": true,
   "eqNumInitial": 0
  }
 },
 "nbformat": 4,
 "nbformat_minor": 1
}
